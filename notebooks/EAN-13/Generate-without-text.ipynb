{
 "cells": [
  {
   "cell_type": "code",
   "execution_count": 2,
   "id": "e9d188f9-b590-46eb-b75f-fc370a970e5c",
   "metadata": {},
   "outputs": [],
   "source": [
    "import barcode\n",
    "\n"
   ]
  },
  {
   "cell_type": "code",
   "execution_count": 3,
   "id": "e86b6d2b-50bd-4881-80ef-3d379d88901d",
   "metadata": {},
   "outputs": [],
   "source": [
    "from barcode.writer import ImageWriter\n",
    "\n"
   ]
  },
  {
   "cell_type": "code",
   "execution_count": 4,
   "id": "742e21e0-0baf-470b-90ab-e05a7e441783",
   "metadata": {},
   "outputs": [],
   "source": [
    "ean = barcode.get_barcode_class('ean13')\n"
   ]
  },
  {
   "cell_type": "code",
   "execution_count": 5,
   "id": "e1512206-4be5-4140-a6f5-aac2dbd324f6",
   "metadata": {},
   "outputs": [],
   "source": [
    "ean_code = ean('123456789012', writer=ImageWriter())\n",
    "\n"
   ]
  },
  {
   "cell_type": "code",
   "execution_count": 6,
   "id": "f588d6f4-23b3-4fe9-a676-638a0fc07b6b",
   "metadata": {},
   "outputs": [],
   "source": [
    "# Disable text\n",
    "ean_code.writer.set_options({'quiet_zone': 6, 'text': ''})\n"
   ]
  },
  {
   "cell_type": "code",
   "execution_count": 7,
   "id": "607ed3b9-b51a-4a4f-9299-4721786a6ef1",
   "metadata": {},
   "outputs": [
    {
     "data": {
      "text/plain": [
       "'ean13_no_text.png'"
      ]
     },
     "execution_count": 7,
     "metadata": {},
     "output_type": "execute_result"
    }
   ],
   "source": [
    "\n",
    "# Save barcode without text\n",
    "ean_code.save('ean13_no_text')"
   ]
  },
  {
   "cell_type": "code",
   "execution_count": null,
   "id": "96b1b4a4-7e2d-4b8c-b151-dcbc76cf578f",
   "metadata": {},
   "outputs": [],
   "source": []
  }
 ],
 "metadata": {
  "kernelspec": {
   "display_name": "Python 3 (ipykernel)",
   "language": "python",
   "name": "python3"
  },
  "language_info": {
   "codemirror_mode": {
    "name": "ipython",
    "version": 3
   },
   "file_extension": ".py",
   "mimetype": "text/x-python",
   "name": "python",
   "nbconvert_exporter": "python",
   "pygments_lexer": "ipython3",
   "version": "3.12.4"
  }
 },
 "nbformat": 4,
 "nbformat_minor": 5
}
