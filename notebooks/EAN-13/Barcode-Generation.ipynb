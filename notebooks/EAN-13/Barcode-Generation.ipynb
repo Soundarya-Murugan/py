{
 "cells": [
  {
   "cell_type": "code",
   "execution_count": 2,
   "id": "55669ba0-0acd-44ef-8a90-3f4b5006fa64",
   "metadata": {},
   "outputs": [],
   "source": [
    "import barcode\n",
    "\n"
   ]
  },
  {
   "cell_type": "code",
   "execution_count": 3,
   "id": "31cf9b87-b5d4-4445-a191-9856ce761513",
   "metadata": {},
   "outputs": [],
   "source": [
    "from barcode.writer import ImageWriter\n"
   ]
  },
  {
   "cell_type": "code",
   "execution_count": 4,
   "id": "0d96730a-eb73-481b-940b-8b5c0477bafb",
   "metadata": {},
   "outputs": [],
   "source": [
    "# Create barcode\n",
    "ean = barcode.get_barcode_class('ean13')\n"
   ]
  },
  {
   "cell_type": "code",
   "execution_count": 5,
   "id": "a0221b7d-dd0f-417b-82f4-2d9e6120263b",
   "metadata": {},
   "outputs": [],
   "source": [
    "ean_code = ean('123456789012', writer=ImageWriter())\n"
   ]
  },
  {
   "cell_type": "code",
   "execution_count": 6,
   "id": "947070f0-1785-47de-82a1-507673bf11b3",
   "metadata": {},
   "outputs": [
    {
     "data": {
      "text/plain": [
       "'ean13_barcode.png'"
      ]
     },
     "execution_count": 6,
     "metadata": {},
     "output_type": "execute_result"
    }
   ],
   "source": [
    "\n",
    "# Save as PNG file\n",
    "ean_code.save('ean13_barcode')"
   ]
  },
  {
   "cell_type": "code",
   "execution_count": null,
   "id": "b294024e-aace-4a87-b299-ef8005f8f7f4",
   "metadata": {},
   "outputs": [],
   "source": []
  }
 ],
 "metadata": {
  "kernelspec": {
   "display_name": "Python 3 (ipykernel)",
   "language": "python",
   "name": "python3"
  },
  "language_info": {
   "codemirror_mode": {
    "name": "ipython",
    "version": 3
   },
   "file_extension": ".py",
   "mimetype": "text/x-python",
   "name": "python",
   "nbconvert_exporter": "python",
   "pygments_lexer": "ipython3",
   "version": "3.12.4"
  }
 },
 "nbformat": 4,
 "nbformat_minor": 5
}
