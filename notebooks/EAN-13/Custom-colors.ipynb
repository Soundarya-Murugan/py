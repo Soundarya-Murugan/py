{
 "cells": [
  {
   "cell_type": "code",
   "execution_count": 2,
   "id": "0c79bdbe-aee8-4426-bf54-3c22bd7ffb0c",
   "metadata": {},
   "outputs": [],
   "source": [
    "import barcode\n"
   ]
  },
  {
   "cell_type": "code",
   "execution_count": 3,
   "id": "ee21a8fe-51aa-4925-b4e0-51ec6eba5c21",
   "metadata": {},
   "outputs": [],
   "source": [
    "from barcode.writer import ImageWriter\n",
    "\n"
   ]
  },
  {
   "cell_type": "code",
   "execution_count": 4,
   "id": "780931eb-44c0-4465-b1c3-b88bee542974",
   "metadata": {},
   "outputs": [],
   "source": [
    "\n",
    "# Create an EAN-13 barcode\n",
    "ean = barcode.get_barcode_class('ean13')\n"
   ]
  },
  {
   "cell_type": "code",
   "execution_count": 5,
   "id": "a473e770-ebab-45b3-be07-c32c28e333b3",
   "metadata": {},
   "outputs": [],
   "source": [
    "ean_code = ean('123456789012', writer=ImageWriter())\n",
    "\n"
   ]
  },
  {
   "cell_type": "code",
   "execution_count": 6,
   "id": "e229b719-2f96-4657-ac5a-7579e5a8e82c",
   "metadata": {},
   "outputs": [],
   "source": [
    "# Set custom colors for barcode\n",
    "options = {\n",
    "    'background': 'white',  # Background color\n",
    "    'foreground': 'black',  # Barcode color\n",
    "}\n",
    "\n"
   ]
  },
  {
   "cell_type": "code",
   "execution_count": 7,
   "id": "57979cdf-96d5-4032-bd0c-4e989963af43",
   "metadata": {},
   "outputs": [],
   "source": [
    "# Apply the color options and save the barcode\n",
    "ean_code.writer.set_options(options)\n"
   ]
  },
  {
   "cell_type": "code",
   "execution_count": 8,
   "id": "652e45cd-d171-4d65-9d89-f4373119cb08",
   "metadata": {},
   "outputs": [
    {
     "data": {
      "text/plain": [
       "'ean13_custom_colors.png'"
      ]
     },
     "execution_count": 8,
     "metadata": {},
     "output_type": "execute_result"
    }
   ],
   "source": [
    "ean_code.save('ean13_custom_colors')"
   ]
  },
  {
   "cell_type": "code",
   "execution_count": null,
   "id": "09c30e5e-d799-4065-ad18-f485757ebab6",
   "metadata": {},
   "outputs": [],
   "source": []
  }
 ],
 "metadata": {
  "kernelspec": {
   "display_name": "Python 3 (ipykernel)",
   "language": "python",
   "name": "python3"
  },
  "language_info": {
   "codemirror_mode": {
    "name": "ipython",
    "version": 3
   },
   "file_extension": ".py",
   "mimetype": "text/x-python",
   "name": "python",
   "nbconvert_exporter": "python",
   "pygments_lexer": "ipython3",
   "version": "3.12.4"
  }
 },
 "nbformat": 4,
 "nbformat_minor": 5
}
