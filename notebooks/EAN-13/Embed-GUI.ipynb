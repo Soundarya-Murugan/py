{
 "cells": [
  {
   "cell_type": "code",
   "execution_count": 3,
   "id": "43b607dc-10ae-4c59-ab8e-29ab073bffb1",
   "metadata": {},
   "outputs": [],
   "source": [
    "import tkinter as tk\n"
   ]
  },
  {
   "cell_type": "code",
   "execution_count": null,
   "id": "a941e756-33dc-4328-9107-c9eeddb5331e",
   "metadata": {},
   "outputs": [],
   "source": [
    "from tkinter import PhotoImage\n"
   ]
  },
  {
   "cell_type": "code",
   "execution_count": 4,
   "id": "bb48dfaf-1c61-4bbd-a75e-a93264fa14c9",
   "metadata": {},
   "outputs": [],
   "source": [
    "import barcode\n"
   ]
  },
  {
   "cell_type": "code",
   "execution_count": 5,
   "id": "9c705cfb-4f7a-484e-b300-f98f2f31f215",
   "metadata": {},
   "outputs": [],
   "source": [
    "from barcode.writer import ImageWriter\n"
   ]
  },
  {
   "cell_type": "code",
   "execution_count": 6,
   "id": "748b7eb5-2e21-4e22-9ee2-4f6583eba341",
   "metadata": {},
   "outputs": [],
   "source": [
    "from PIL import ImageTk\n",
    "\n"
   ]
  },
  {
   "cell_type": "code",
   "execution_count": 7,
   "id": "2b13e616-2c81-4c96-8e5b-92f49163d35a",
   "metadata": {},
   "outputs": [],
   "source": [
    "# Generate barcode\n",
    "ean = barcode.get_barcode_class('ean13')\n"
   ]
  },
  {
   "cell_type": "code",
   "execution_count": 8,
   "id": "2980e158-c9da-4c4c-bbda-b8afa3a1156d",
   "metadata": {},
   "outputs": [],
   "source": [
    "ean_code = ean('123456789012', writer=ImageWriter())\n"
   ]
  },
  {
   "cell_type": "code",
   "execution_count": 9,
   "id": "bb42d26b-e4e7-40fb-9d50-dbbd6b8bd5b3",
   "metadata": {},
   "outputs": [],
   "source": [
    "barcode_img = ean_code.render()\n",
    "\n"
   ]
  },
  {
   "cell_type": "code",
   "execution_count": 10,
   "id": "38d2170f-8190-4720-bd29-50e20e4e7352",
   "metadata": {},
   "outputs": [],
   "source": [
    "# Tkinter window setup\n",
    "root = tk.Tk()\n"
   ]
  },
  {
   "cell_type": "code",
   "execution_count": 12,
   "id": "b00edfdc-311e-45ed-bcc2-c27df9514cea",
   "metadata": {},
   "outputs": [],
   "source": [
    "root.title(\"EAN-13 Barcode\")\n",
    "# Convert barcode to ImageTk format\n",
    "photo = ImageTk.PhotoImage(barcode_img)\n",
    "\n"
   ]
  },
  {
   "cell_type": "code",
   "execution_count": 13,
   "id": "6ffe5a6a-108f-47ae-83c1-ba906c600a2c",
   "metadata": {},
   "outputs": [],
   "source": [
    "# Label to display the barcode\n",
    "label = tk.Label(root, image=photo)\n",
    "label.pack()\n",
    "\n"
   ]
  },
  {
   "cell_type": "code",
   "execution_count": 14,
   "id": "900c945e-25b3-4754-800c-dac18a1d545c",
   "metadata": {},
   "outputs": [],
   "source": [
    "# Run the Tkinter event loop\n",
    "root.mainloop()"
   ]
  },
  {
   "cell_type": "code",
   "execution_count": null,
   "id": "23661e76-f8cb-4554-8e15-73bbf6710288",
   "metadata": {},
   "outputs": [],
   "source": []
  }
 ],
 "metadata": {
  "kernelspec": {
   "display_name": "Python 3 (ipykernel)",
   "language": "python",
   "name": "python3"
  },
  "language_info": {
   "codemirror_mode": {
    "name": "ipython",
    "version": 3
   },
   "file_extension": ".py",
   "mimetype": "text/x-python",
   "name": "python",
   "nbconvert_exporter": "python",
   "pygments_lexer": "ipython3",
   "version": "3.12.4"
  }
 },
 "nbformat": 4,
 "nbformat_minor": 5
}
