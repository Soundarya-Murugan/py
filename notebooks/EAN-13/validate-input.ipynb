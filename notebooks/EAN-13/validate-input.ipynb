{
 "cells": [
  {
   "cell_type": "code",
   "execution_count": 2,
   "id": "7b07c4b9-bc6b-432a-a660-8ce8f1591536",
   "metadata": {},
   "outputs": [],
   "source": [
    "import re\n",
    "\n",
    "\n"
   ]
  },
  {
   "cell_type": "code",
   "execution_count": 3,
   "id": "846b9359-8a24-4cbe-95e6-2cc0209f996f",
   "metadata": {},
   "outputs": [],
   "source": [
    "def is_valid_ean13(ean):\n",
    "    return bool(re.match(r'^\\d{13}$', ean))\n",
    "\n"
   ]
  },
  {
   "cell_type": "code",
   "execution_count": 4,
   "id": "e780ab1b-9bad-4d21-b417-01753bf799df",
   "metadata": {},
   "outputs": [],
   "source": [
    "ean_input = '123456789012'\n"
   ]
  },
  {
   "cell_type": "code",
   "execution_count": 7,
   "id": "26f312d4-c087-49e6-9448-87e3617593e5",
   "metadata": {},
   "outputs": [
    {
     "name": "stdout",
     "output_type": "stream",
     "text": [
      "123456789012 is not a valid EAN-13\n"
     ]
    }
   ],
   "source": [
    "if is_valid_ean13(ean_input):\n",
    "    print(f'{ean_input} is a valid EAN-13')\n",
    "else:\n",
    "    print(f'{ean_input} is not a valid EAN-13')"
   ]
  },
  {
   "cell_type": "code",
   "execution_count": null,
   "id": "134fcb86-ba95-40af-93cf-ea8166c13e1b",
   "metadata": {},
   "outputs": [],
   "source": []
  }
 ],
 "metadata": {
  "kernelspec": {
   "display_name": "Python 3 (ipykernel)",
   "language": "python",
   "name": "python3"
  },
  "language_info": {
   "codemirror_mode": {
    "name": "ipython",
    "version": 3
   },
   "file_extension": ".py",
   "mimetype": "text/x-python",
   "name": "python",
   "nbconvert_exporter": "python",
   "pygments_lexer": "ipython3",
   "version": "3.12.4"
  }
 },
 "nbformat": 4,
 "nbformat_minor": 5
}
