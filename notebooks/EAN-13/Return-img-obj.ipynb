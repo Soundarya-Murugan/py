{
 "cells": [
  {
   "cell_type": "code",
   "execution_count": 2,
   "id": "ac5a2711-0492-4960-8f44-b46e7d0a1e76",
   "metadata": {},
   "outputs": [],
   "source": [
    "import barcode\n"
   ]
  },
  {
   "cell_type": "code",
   "execution_count": 3,
   "id": "b49bb398-39f3-45fa-b1aa-465dbda08702",
   "metadata": {},
   "outputs": [],
   "source": [
    "from barcode.writer import ImageWriter\n",
    "\n"
   ]
  },
  {
   "cell_type": "code",
   "execution_count": 4,
   "id": "9f7dbc30-93db-44d0-bd32-ee635c1a2b2a",
   "metadata": {},
   "outputs": [],
   "source": [
    "from PIL import Image\n",
    "\n"
   ]
  },
  {
   "cell_type": "code",
   "execution_count": 5,
   "id": "97a3d0cc-6238-4f12-bc27-dfcdf0844f12",
   "metadata": {},
   "outputs": [],
   "source": [
    "ean = barcode.get_barcode_class('ean13')\n"
   ]
  },
  {
   "cell_type": "code",
   "execution_count": 6,
   "id": "c191b2c9-926c-468c-b3e8-3b2f9766500d",
   "metadata": {},
   "outputs": [],
   "source": [
    "ean_code = ean('123456789012', writer=ImageWriter())\n",
    "\n"
   ]
  },
  {
   "cell_type": "code",
   "execution_count": 7,
   "id": "5e969629-53bd-41e1-91d3-c14783bfce34",
   "metadata": {},
   "outputs": [],
   "source": [
    "# Return image object instead of saving\n",
    "img = ean_code.render()\n",
    "\n"
   ]
  },
  {
   "cell_type": "code",
   "execution_count": 8,
   "id": "18bdd5fd-0a6c-482a-8f81-25a5c0ab0d0e",
   "metadata": {},
   "outputs": [],
   "source": [
    "# Show the image\n",
    "img.show()"
   ]
  },
  {
   "cell_type": "code",
   "execution_count": null,
   "id": "331d4cc8-b39c-4f45-8b3d-1f3a9da5fc87",
   "metadata": {},
   "outputs": [],
   "source": []
  }
 ],
 "metadata": {
  "kernelspec": {
   "display_name": "Python 3 (ipykernel)",
   "language": "python",
   "name": "python3"
  },
  "language_info": {
   "codemirror_mode": {
    "name": "ipython",
    "version": 3
   },
   "file_extension": ".py",
   "mimetype": "text/x-python",
   "name": "python",
   "nbconvert_exporter": "python",
   "pygments_lexer": "ipython3",
   "version": "3.12.4"
  }
 },
 "nbformat": 4,
 "nbformat_minor": 5
}
