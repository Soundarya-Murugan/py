{
 "cells": [
  {
   "cell_type": "code",
   "execution_count": 3,
   "id": "6fa21acf-a454-489f-b5b0-f35435956e6c",
   "metadata": {},
   "outputs": [],
   "source": [
    "import barcode\n",
    "\n",
    "\n"
   ]
  },
  {
   "cell_type": "code",
   "execution_count": 4,
   "id": "6ee7a2dd-5f2b-405d-bec5-c827b59108de",
   "metadata": {},
   "outputs": [],
   "source": [
    "from barcode.writer import ImageWriter\n"
   ]
  },
  {
   "cell_type": "code",
   "execution_count": 5,
   "id": "1093d8dc-c9ae-4552-93a2-fc9e6de2c159",
   "metadata": {},
   "outputs": [],
   "source": [
    "from PIL import Image, ImageDraw, ImageFont\n",
    "\n"
   ]
  },
  {
   "cell_type": "code",
   "execution_count": 6,
   "id": "5fdb4e66-bc0a-4ab9-b9fc-456615c36e08",
   "metadata": {},
   "outputs": [],
   "source": [
    "# Create an EAN-13 barcode\n",
    "ean = barcode.get_barcode_class('ean13')\n"
   ]
  },
  {
   "cell_type": "code",
   "execution_count": 7,
   "id": "9b89c532-5764-4d5f-83b0-26e432990b65",
   "metadata": {},
   "outputs": [],
   "source": [
    "ean_code = ean('123456789012', writer=ImageWriter())\n",
    "\n"
   ]
  },
  {
   "cell_type": "code",
   "execution_count": 8,
   "id": "54a3869a-1b83-423c-b23d-93ece4a9f4bd",
   "metadata": {},
   "outputs": [],
   "source": [
    "# Generate the barcode image\n",
    "barcode_image = ean_code.render()\n",
    "\n"
   ]
  },
  {
   "cell_type": "code",
   "execution_count": 9,
   "id": "53a2d1fd-2723-4922-9630-7f0f8400f710",
   "metadata": {},
   "outputs": [],
   "source": [
    "# Add custom text (metadata) to the image\n",
    "draw = ImageDraw.Draw(barcode_image)\n"
   ]
  },
  {
   "cell_type": "code",
   "execution_count": 10,
   "id": "4ad1c4f7-8d9c-48d2-943f-24745e9f43d0",
   "metadata": {},
   "outputs": [],
   "source": [
    "font = ImageFont.load_default()\n",
    "\n"
   ]
  },
  {
   "cell_type": "code",
   "execution_count": 11,
   "id": "f9e6bbc8-bcac-4b20-a82c-e58410eb0452",
   "metadata": {},
   "outputs": [],
   "source": [
    "# Add custom text to the barcode (e.g., Product Name)\n",
    "product_name = \"Product XYZ\"\n"
   ]
  },
  {
   "cell_type": "code",
   "execution_count": 12,
   "id": "6da4f7b0-1890-427e-91fb-4302e7e769d9",
   "metadata": {},
   "outputs": [],
   "source": [
    "draw.text((10, 10), product_name, font=font, fill='black')\n",
    "\n"
   ]
  },
  {
   "cell_type": "code",
   "execution_count": null,
   "id": "29a568cb-6f32-4f85-abe0-5572646330c4",
   "metadata": {},
   "outputs": [],
   "source": [
    "# Save the final barcode with the added metadata\n",
    "barcode_image.save('ean13_with_metadata.png')"
   ]
  }
 ],
 "metadata": {
  "kernelspec": {
   "display_name": "Python 3 (ipykernel)",
   "language": "python",
   "name": "python3"
  },
  "language_info": {
   "codemirror_mode": {
    "name": "ipython",
    "version": 3
   },
   "file_extension": ".py",
   "mimetype": "text/x-python",
   "name": "python",
   "nbconvert_exporter": "python",
   "pygments_lexer": "ipython3",
   "version": "3.12.4"
  }
 },
 "nbformat": 4,
 "nbformat_minor": 5
}
