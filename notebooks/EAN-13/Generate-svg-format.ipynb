{
 "cells": [
  {
   "cell_type": "code",
   "execution_count": 2,
   "id": "43b1a945-249d-4db5-b695-f41f4779f759",
   "metadata": {},
   "outputs": [],
   "source": [
    "import barcode\n"
   ]
  },
  {
   "cell_type": "code",
   "execution_count": 3,
   "id": "7f9a27a4-8989-4911-a2ea-18b1a1872b0f",
   "metadata": {},
   "outputs": [],
   "source": [
    "from barcode.writer import SVGWriter\n",
    "\n",
    "\n"
   ]
  },
  {
   "cell_type": "code",
   "execution_count": 4,
   "id": "623c7a96-6947-4052-95e9-c5f9e62f6c54",
   "metadata": {},
   "outputs": [],
   "source": [
    "ean = barcode.get_barcode_class('ean13')\n"
   ]
  },
  {
   "cell_type": "code",
   "execution_count": 5,
   "id": "639d3d4c-892c-4562-8787-5534305a1356",
   "metadata": {},
   "outputs": [],
   "source": [
    "ean_code = ean('123456789012', writer=SVGWriter())\n",
    "\n"
   ]
  },
  {
   "cell_type": "code",
   "execution_count": 6,
   "id": "21ba8e8c-c454-49f8-932c-5a4b5ba6829a",
   "metadata": {},
   "outputs": [
    {
     "data": {
      "text/plain": [
       "'ean13_barcode_svg.svg'"
      ]
     },
     "execution_count": 6,
     "metadata": {},
     "output_type": "execute_result"
    }
   ],
   "source": [
    "# Save as SVG\n",
    "ean_code.save('ean13_barcode_svg')"
   ]
  },
  {
   "cell_type": "code",
   "execution_count": null,
   "id": "2a1cfaf6-9f93-4cbd-b5ea-4768e3f1cb54",
   "metadata": {},
   "outputs": [],
   "source": []
  }
 ],
 "metadata": {
  "kernelspec": {
   "display_name": "Python 3 (ipykernel)",
   "language": "python",
   "name": "python3"
  },
  "language_info": {
   "codemirror_mode": {
    "name": "ipython",
    "version": 3
   },
   "file_extension": ".py",
   "mimetype": "text/x-python",
   "name": "python",
   "nbconvert_exporter": "python",
   "pygments_lexer": "ipython3",
   "version": "3.12.4"
  }
 },
 "nbformat": 4,
 "nbformat_minor": 5
}
