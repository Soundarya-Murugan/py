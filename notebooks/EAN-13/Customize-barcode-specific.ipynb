{
 "cells": [
  {
   "cell_type": "code",
   "execution_count": 2,
   "id": "e2b874b6-30d3-45cc-a69f-0dac0a43ba44",
   "metadata": {},
   "outputs": [],
   "source": [
    "import barcode\n",
    "\n"
   ]
  },
  {
   "cell_type": "code",
   "execution_count": 3,
   "id": "856d1446-532c-43d0-9036-e45925cddd3b",
   "metadata": {},
   "outputs": [],
   "source": [
    "from barcode.writer import ImageWriter\n",
    "\n"
   ]
  },
  {
   "cell_type": "code",
   "execution_count": 4,
   "id": "906fa6d9-55e8-4f27-9e45-3c6bb2f4e4ba",
   "metadata": {},
   "outputs": [],
   "source": [
    "ean = barcode.get_barcode_class('ean13')\n"
   ]
  },
  {
   "cell_type": "code",
   "execution_count": 5,
   "id": "ae605c57-f9c4-468d-a506-bc51d805173e",
   "metadata": {},
   "outputs": [],
   "source": [
    "ean_code = ean('123456789012', writer=ImageWriter())\n",
    "\n"
   ]
  },
  {
   "cell_type": "code",
   "execution_count": 6,
   "id": "a54fbc22-d5c2-4ffb-ae5c-f98870043afa",
   "metadata": {},
   "outputs": [],
   "source": [
    "# Customize the barcode\n",
    "ean_code.writer.set_options({'text_distance': 2, 'font_size': 14, 'module_width': 0.2})\n"
   ]
  },
  {
   "cell_type": "code",
   "execution_count": 7,
   "id": "7b50bd0f-6c4b-41ff-83b8-d57ffa026415",
   "metadata": {},
   "outputs": [
    {
     "data": {
      "text/plain": [
       "'custom_ean13.png'"
      ]
     },
     "execution_count": 7,
     "metadata": {},
     "output_type": "execute_result"
    }
   ],
   "source": [
    "\n",
    "# Save barcode with custom options\n",
    "ean_code.save('custom_ean13')"
   ]
  },
  {
   "cell_type": "code",
   "execution_count": null,
   "id": "ea96a8be-eec6-4ec7-aed7-c922f68597be",
   "metadata": {},
   "outputs": [],
   "source": []
  }
 ],
 "metadata": {
  "kernelspec": {
   "display_name": "Python 3 (ipykernel)",
   "language": "python",
   "name": "python3"
  },
  "language_info": {
   "codemirror_mode": {
    "name": "ipython",
    "version": 3
   },
   "file_extension": ".py",
   "mimetype": "text/x-python",
   "name": "python",
   "nbconvert_exporter": "python",
   "pygments_lexer": "ipython3",
   "version": "3.12.4"
  }
 },
 "nbformat": 4,
 "nbformat_minor": 5
}
