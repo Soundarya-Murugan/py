{
 "cells": [
  {
   "cell_type": "code",
   "execution_count": 1,
   "id": "5fdebb98-eea2-4107-9084-3542e7e9aa6e",
   "metadata": {},
   "outputs": [],
   "source": [
    "#Stacked Bar Chart"
   ]
  },
  {
   "cell_type": "code",
   "execution_count": 2,
   "id": "3b5837e7-cc72-43c9-a418-39a5771fc8ec",
   "metadata": {},
   "outputs": [],
   "source": [
    "from bokeh.plotting import figure, output_file, save\n"
   ]
  },
  {
   "cell_type": "code",
   "execution_count": 3,
   "id": "75f5cd17-44e1-4517-ab9c-5c6e31a8d454",
   "metadata": {},
   "outputs": [],
   "source": [
    "from bokeh.io import show\n"
   ]
  },
  {
   "cell_type": "code",
   "execution_count": 4,
   "id": "5700e4d4-531e-4e90-b360-4e879ea76410",
   "metadata": {},
   "outputs": [],
   "source": [
    "from bokeh.models import FactorRange\n"
   ]
  },
  {
   "cell_type": "code",
   "execution_count": 5,
   "id": "b4e388e2-1527-49aa-9445-b343879f09eb",
   "metadata": {},
   "outputs": [],
   "source": [
    "output_file(\"stacked_bar_chart.html\")\n"
   ]
  },
  {
   "cell_type": "code",
   "execution_count": 6,
   "id": "241bb1b2-ae37-4a38-901e-8c82374759a2",
   "metadata": {},
   "outputs": [],
   "source": [
    "# Data for stacked bars\n"
   ]
  },
  {
   "cell_type": "code",
   "execution_count": 7,
   "id": "ca6ac4fe-8ba5-41de-94f9-3098e1ddc3f7",
   "metadata": {},
   "outputs": [],
   "source": [
    "categories = [\"A\", \"B\", \"C\", \"D\", \"E\"]\n"
   ]
  },
  {
   "cell_type": "code",
   "execution_count": 8,
   "id": "7bb14d7c-87b3-4bb2-ab3b-7f62b9fc75b8",
   "metadata": {},
   "outputs": [],
   "source": [
    "values1 = [5, 8, 12, 16, 19]\n",
    "\n"
   ]
  },
  {
   "cell_type": "code",
   "execution_count": 9,
   "id": "26ccf84b-5997-46a4-a0fa-e4d8faa19c88",
   "metadata": {},
   "outputs": [],
   "source": [
    "values2 = [10, 15, 25, 35, 45]\n"
   ]
  },
  {
   "cell_type": "code",
   "execution_count": 10,
   "id": "59ca60d6-5c51-40b6-abc5-3e8a0dbf0bf4",
   "metadata": {},
   "outputs": [],
   "source": [
    "\n",
    "p = figure(x_range=categories, title=\"Stacked Bar Chart\", toolbar_location=None)\n"
   ]
  },
  {
   "cell_type": "code",
   "execution_count": 11,
   "id": "1fbe85fe-3733-41b7-823a-7f32ae4dcdb7",
   "metadata": {},
   "outputs": [],
   "source": [
    "\n",
    "# Add stacked bars\n"
   ]
  },
  {
   "cell_type": "code",
   "execution_count": 12,
   "id": "1594b7dd-69a8-4c61-b915-e8eca9899684",
   "metadata": {},
   "outputs": [
    {
     "data": {
      "text/html": [
       "<div style=\"display: table;\"><div style=\"display: table-row;\"><div style=\"display: table-cell;\"><b title=\"bokeh.models.renderers.glyph_renderer.GlyphRenderer\">GlyphRenderer</b>(</div><div style=\"display: table-cell;\">id&nbsp;=&nbsp;'p1052', <span id=\"p1057\" style=\"cursor: pointer;\">&hellip;)</span></div></div><div class=\"p1056\" style=\"display: none;\"><div style=\"display: table-cell;\"></div><div style=\"display: table-cell;\">context_menu&nbsp;=&nbsp;None,</div></div><div class=\"p1056\" style=\"display: none;\"><div style=\"display: table-cell;\"></div><div style=\"display: table-cell;\">coordinates&nbsp;=&nbsp;None,</div></div><div class=\"p1056\" style=\"display: none;\"><div style=\"display: table-cell;\"></div><div style=\"display: table-cell;\">data_source&nbsp;=&nbsp;ColumnDataSource(id='p1046', ...),</div></div><div class=\"p1056\" style=\"display: none;\"><div style=\"display: table-cell;\"></div><div style=\"display: table-cell;\">glyph&nbsp;=&nbsp;VBar(id='p1049', ...),</div></div><div class=\"p1056\" style=\"display: none;\"><div style=\"display: table-cell;\"></div><div style=\"display: table-cell;\">group&nbsp;=&nbsp;None,</div></div><div class=\"p1056\" style=\"display: none;\"><div style=\"display: table-cell;\"></div><div style=\"display: table-cell;\">hover_glyph&nbsp;=&nbsp;None,</div></div><div class=\"p1056\" style=\"display: none;\"><div style=\"display: table-cell;\"></div><div style=\"display: table-cell;\">js_event_callbacks&nbsp;=&nbsp;{},</div></div><div class=\"p1056\" style=\"display: none;\"><div style=\"display: table-cell;\"></div><div style=\"display: table-cell;\">js_property_callbacks&nbsp;=&nbsp;{},</div></div><div class=\"p1056\" style=\"display: none;\"><div style=\"display: table-cell;\"></div><div style=\"display: table-cell;\">level&nbsp;=&nbsp;'glyph',</div></div><div class=\"p1056\" style=\"display: none;\"><div style=\"display: table-cell;\"></div><div style=\"display: table-cell;\">muted&nbsp;=&nbsp;False,</div></div><div class=\"p1056\" style=\"display: none;\"><div style=\"display: table-cell;\"></div><div style=\"display: table-cell;\">muted_glyph&nbsp;=&nbsp;VBar(id='p1051', ...),</div></div><div class=\"p1056\" style=\"display: none;\"><div style=\"display: table-cell;\"></div><div style=\"display: table-cell;\">name&nbsp;=&nbsp;None,</div></div><div class=\"p1056\" style=\"display: none;\"><div style=\"display: table-cell;\"></div><div style=\"display: table-cell;\">nonselection_glyph&nbsp;=&nbsp;VBar(id='p1050', ...),</div></div><div class=\"p1056\" style=\"display: none;\"><div style=\"display: table-cell;\"></div><div style=\"display: table-cell;\">propagate_hover&nbsp;=&nbsp;False,</div></div><div class=\"p1056\" style=\"display: none;\"><div style=\"display: table-cell;\"></div><div style=\"display: table-cell;\">selection_glyph&nbsp;=&nbsp;'auto',</div></div><div class=\"p1056\" style=\"display: none;\"><div style=\"display: table-cell;\"></div><div style=\"display: table-cell;\">subscribed_events&nbsp;=&nbsp;PropertyValueSet(),</div></div><div class=\"p1056\" style=\"display: none;\"><div style=\"display: table-cell;\"></div><div style=\"display: table-cell;\">syncable&nbsp;=&nbsp;True,</div></div><div class=\"p1056\" style=\"display: none;\"><div style=\"display: table-cell;\"></div><div style=\"display: table-cell;\">tags&nbsp;=&nbsp;[],</div></div><div class=\"p1056\" style=\"display: none;\"><div style=\"display: table-cell;\"></div><div style=\"display: table-cell;\">view&nbsp;=&nbsp;CDSView(id='p1053', ...),</div></div><div class=\"p1056\" style=\"display: none;\"><div style=\"display: table-cell;\"></div><div style=\"display: table-cell;\">visible&nbsp;=&nbsp;True,</div></div><div class=\"p1056\" style=\"display: none;\"><div style=\"display: table-cell;\"></div><div style=\"display: table-cell;\">x_range_name&nbsp;=&nbsp;'default',</div></div><div class=\"p1056\" style=\"display: none;\"><div style=\"display: table-cell;\"></div><div style=\"display: table-cell;\">y_range_name&nbsp;=&nbsp;'default')</div></div></div>\n",
       "<script>\n",
       "(function() {\n",
       "  let expanded = false;\n",
       "  const ellipsis = document.getElementById(\"p1057\");\n",
       "  ellipsis.addEventListener(\"click\", function() {\n",
       "    const rows = document.getElementsByClassName(\"p1056\");\n",
       "    for (let i = 0; i < rows.length; i++) {\n",
       "      const el = rows[i];\n",
       "      el.style.display = expanded ? \"none\" : \"table-row\";\n",
       "    }\n",
       "    ellipsis.innerHTML = expanded ? \"&hellip;)\" : \"&lsaquo;&lsaquo;&lsaquo;\";\n",
       "    expanded = !expanded;\n",
       "  });\n",
       "})();\n",
       "</script>\n"
      ],
      "text/plain": [
       "GlyphRenderer(id='p1052', ...)"
      ]
     },
     "execution_count": 12,
     "metadata": {},
     "output_type": "execute_result"
    }
   ],
   "source": [
    "p.vbar(x=categories, top=values1, width=0.9, legend_label=\"Set 1\", color=\"blue\")\n",
    "p.vbar(x=categories, top=values2, width=0.9, legend_label=\"Set 2\", color=\"green\", bottom=values1)\n"
   ]
  },
  {
   "cell_type": "code",
   "execution_count": 13,
   "id": "fde82185-ef4a-47de-bada-7753d15cf3cc",
   "metadata": {},
   "outputs": [
    {
     "data": {
      "text/plain": [
       "'/home/soundarya/tact/pynotes/notebooks/bokeh/stacked_bar_chart.html'"
      ]
     },
     "execution_count": 13,
     "metadata": {},
     "output_type": "execute_result"
    }
   ],
   "source": [
    "p.legend.location = \"top_left\"\n",
    "save(p)"
   ]
  },
  {
   "cell_type": "code",
   "execution_count": null,
   "id": "331b9f6f-692c-4356-b9ca-7615d902ed99",
   "metadata": {},
   "outputs": [],
   "source": []
  }
 ],
 "metadata": {
  "kernelspec": {
   "display_name": "Python 3 (ipykernel)",
   "language": "python",
   "name": "python3"
  },
  "language_info": {
   "codemirror_mode": {
    "name": "ipython",
    "version": 3
   },
   "file_extension": ".py",
   "mimetype": "text/x-python",
   "name": "python",
   "nbconvert_exporter": "python",
   "pygments_lexer": "ipython3",
   "version": "3.12.4"
  }
 },
 "nbformat": 4,
 "nbformat_minor": 5
}
