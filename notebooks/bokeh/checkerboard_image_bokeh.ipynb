{
 "cells": [
  {
   "cell_type": "code",
   "execution_count": 1,
   "id": "51de8c64-81d2-440e-bb75-575e332f34ce",
   "metadata": {},
   "outputs": [],
   "source": [
    "#Generate a Checkerboard Image"
   ]
  },
  {
   "cell_type": "code",
   "execution_count": 2,
   "id": "7fd014a6-31a8-48de-9f8c-5807815cb1a3",
   "metadata": {},
   "outputs": [],
   "source": [
    "from PIL import Image"
   ]
  },
  {
   "cell_type": "code",
   "execution_count": 3,
   "id": "75acca27-584f-4478-ae34-f2781a1349e0",
   "metadata": {},
   "outputs": [],
   "source": [
    "# Generate a checkerboard pattern"
   ]
  },
  {
   "cell_type": "code",
   "execution_count": 4,
   "id": "0f54449f-4b1f-4dd1-b4af-436e97e92eef",
   "metadata": {},
   "outputs": [],
   "source": [
    "width, height = 400, 400"
   ]
  },
  {
   "cell_type": "code",
   "execution_count": 5,
   "id": "041af5ef-bc29-4ed2-b924-9ed056f93fc3",
   "metadata": {},
   "outputs": [],
   "source": [
    "img = Image.new('RGB', (width, height))"
   ]
  },
  {
   "cell_type": "code",
   "execution_count": 6,
   "id": "a7dfd9d7-8d9b-43c1-bc69-94fd6a5a26cf",
   "metadata": {},
   "outputs": [],
   "source": [
    "pixels = img.load()"
   ]
  },
  {
   "cell_type": "code",
   "execution_count": 7,
   "id": "bcce030a-e621-457f-a27a-6f8fd8046133",
   "metadata": {},
   "outputs": [],
   "source": [
    "# Create checkerboard pattern"
   ]
  },
  {
   "cell_type": "code",
   "execution_count": 8,
   "id": "e893156d-bec5-4fb0-ab62-42546f6d9509",
   "metadata": {},
   "outputs": [],
   "source": [
    "for y in range(height):\n",
    "    for x in range(width):\n",
    "        if (x // 50 + y // 50) % 2 == 0:\n",
    "            pixels[x, y] = (0, 0, 0)  # Black\n",
    "        else:\n",
    "            pixels[x, y] = (255, 255, 255)  # White"
   ]
  },
  {
   "cell_type": "code",
   "execution_count": 9,
   "id": "1b2f18c6-be82-47bb-956b-bfa9974a5915",
   "metadata": {},
   "outputs": [],
   "source": [
    "img.save('checkerboard_image.png')"
   ]
  },
  {
   "cell_type": "code",
   "execution_count": null,
   "id": "d333d755-c715-4847-ab7f-f0f5a25aa491",
   "metadata": {},
   "outputs": [],
   "source": []
  }
 ],
 "metadata": {
  "kernelspec": {
   "display_name": "Python 3 (ipykernel)",
   "language": "python",
   "name": "python3"
  },
  "language_info": {
   "codemirror_mode": {
    "name": "ipython",
    "version": 3
   },
   "file_extension": ".py",
   "mimetype": "text/x-python",
   "name": "python",
   "nbconvert_exporter": "python",
   "pygments_lexer": "ipython3",
   "version": "3.12.4"
  }
 },
 "nbformat": 4,
 "nbformat_minor": 5
}
