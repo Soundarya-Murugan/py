{
 "cells": [
  {
   "cell_type": "code",
   "execution_count": 1,
   "id": "e2e883b4-bd51-4587-811e-e215d616d30e",
   "metadata": {},
   "outputs": [],
   "source": [
    "#Generate an Image with Text"
   ]
  },
  {
   "cell_type": "code",
   "execution_count": 2,
   "id": "1eed2355-5613-4170-8508-c9efa9b52993",
   "metadata": {},
   "outputs": [],
   "source": [
    "from PIL import Image, ImageDraw, ImageFont"
   ]
  },
  {
   "cell_type": "code",
   "execution_count": 3,
   "id": "aa15904f-484a-45c0-828d-4d8da7fab341",
   "metadata": {},
   "outputs": [],
   "source": [
    "# Create a blank image with white background"
   ]
  },
  {
   "cell_type": "code",
   "execution_count": 4,
   "id": "60ea5023-fa4c-46e8-9cc2-adc94d22ae02",
   "metadata": {},
   "outputs": [],
   "source": [
    "img = Image.new('RGB', (400, 100), color=(255, 255, 255))"
   ]
  },
  {
   "cell_type": "code",
   "execution_count": 5,
   "id": "8ea6a9c6-5147-4cba-9851-349137d296d6",
   "metadata": {},
   "outputs": [],
   "source": [
    "draw = ImageDraw.Draw(img)"
   ]
  },
  {
   "cell_type": "code",
   "execution_count": 6,
   "id": "d21b6898-6166-4dc1-b158-4a287f0ec8b4",
   "metadata": {},
   "outputs": [],
   "source": [
    "# Load font and add text"
   ]
  },
  {
   "cell_type": "code",
   "execution_count": 7,
   "id": "3d3a736c-a4e2-4b97-97ac-fc75912fafe3",
   "metadata": {},
   "outputs": [],
   "source": [
    "font = ImageFont.load_default()\n",
    "draw.text((50, 40), \"Hello, Pillow!\", font=font, fill=(0, 0, 0))"
   ]
  },
  {
   "cell_type": "code",
   "execution_count": 8,
   "id": "178300e2-3e20-49fa-ac4c-e2d22c23e745",
   "metadata": {},
   "outputs": [],
   "source": [
    "img.save('text_image.png')"
   ]
  },
  {
   "cell_type": "code",
   "execution_count": null,
   "id": "b469112c-5525-432e-93cd-a96d28fc15a1",
   "metadata": {},
   "outputs": [],
   "source": []
  }
 ],
 "metadata": {
  "kernelspec": {
   "display_name": "Python 3 (ipykernel)",
   "language": "python",
   "name": "python3"
  },
  "language_info": {
   "codemirror_mode": {
    "name": "ipython",
    "version": 3
   },
   "file_extension": ".py",
   "mimetype": "text/x-python",
   "name": "python",
   "nbconvert_exporter": "python",
   "pygments_lexer": "ipython3",
   "version": "3.12.4"
  }
 },
 "nbformat": 4,
 "nbformat_minor": 5
}
