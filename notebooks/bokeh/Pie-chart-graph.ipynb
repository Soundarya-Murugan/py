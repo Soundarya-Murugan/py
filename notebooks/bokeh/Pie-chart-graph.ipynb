{
 "cells": [
  {
   "cell_type": "code",
   "execution_count": 1,
   "id": "be1e0213-9e26-48a2-8447-2f026ee3c4a3",
   "metadata": {},
   "outputs": [],
   "source": [
    "#Pie chart"
   ]
  },
  {
   "cell_type": "code",
   "execution_count": 4,
   "id": "4f586c5f-5564-439c-a10c-cbe11be0d28b",
   "metadata": {},
   "outputs": [],
   "source": [
    "from math import pi"
   ]
  },
  {
   "cell_type": "code",
   "execution_count": 5,
   "id": "a3fa2275-ef48-4d13-a18e-67fdab9e9d6e",
   "metadata": {},
   "outputs": [],
   "source": [
    "from bokeh.io import output_file, save\n"
   ]
  },
  {
   "cell_type": "code",
   "execution_count": 6,
   "id": "2c994e74-2ad0-40f5-9f9a-fb599895720a",
   "metadata": {},
   "outputs": [],
   "source": [
    "from bokeh.palettes import Category20c"
   ]
  },
  {
   "cell_type": "code",
   "execution_count": 7,
   "id": "969a958b-f9ee-4e8c-9083-62e9509e5d1e",
   "metadata": {},
   "outputs": [],
   "source": [
    "from bokeh.plotting import figure\n"
   ]
  },
  {
   "cell_type": "code",
   "execution_count": 8,
   "id": "6ea21168-3561-4039-81ef-9f39ff789fbe",
   "metadata": {},
   "outputs": [],
   "source": [
    "from bokeh.transform import cumsum"
   ]
  },
  {
   "cell_type": "code",
   "execution_count": 9,
   "id": "c55cc576-1aca-4d13-ae60-07e22ec3f3cc",
   "metadata": {},
   "outputs": [],
   "source": [
    "import pandas as pd\n"
   ]
  },
  {
   "cell_type": "code",
   "execution_count": 10,
   "id": "3be7c341-4201-4167-8666-ca9ad2afebb1",
   "metadata": {},
   "outputs": [],
   "source": [
    "# Output to an HTML file"
   ]
  },
  {
   "cell_type": "code",
   "execution_count": 11,
   "id": "fee0e687-6038-446d-82b4-2e270ff1a458",
   "metadata": {},
   "outputs": [],
   "source": [
    "output_file(\"pie_chart_graph.html\")\n"
   ]
  },
  {
   "cell_type": "code",
   "execution_count": 12,
   "id": "bf15dbfc-1b56-4a63-8e2d-d4081926dd71",
   "metadata": {},
   "outputs": [],
   "source": [
    "# Create the data\n"
   ]
  },
  {
   "cell_type": "code",
   "execution_count": 13,
   "id": "ae0ae119-fe1e-459d-b7c4-3a9257ccda59",
   "metadata": {},
   "outputs": [],
   "source": [
    "data = pd.DataFrame({\n",
    "    'fruits': ['Apple', 'Banana', 'Cherry', 'Grape', 'Orange'],\n",
    "    'value': [50, 30, 15, 10, 20]\n",
    "})\n",
    "\n"
   ]
  },
  {
   "cell_type": "code",
   "execution_count": 14,
   "id": "a13efa9e-4311-4960-887f-6935d728d69c",
   "metadata": {},
   "outputs": [],
   "source": [
    "# Calculate the angle for each slice of the pie\n"
   ]
  },
  {
   "cell_type": "code",
   "execution_count": 15,
   "id": "33ae90c7-8a59-48f3-86bd-131eb0a3974b",
   "metadata": {},
   "outputs": [],
   "source": [
    "data['angle'] = data['value'] / data['value'].sum() * 2 * pi\n"
   ]
  },
  {
   "cell_type": "code",
   "execution_count": 16,
   "id": "48e9ae8a-3294-4f39-b94e-b676093c317e",
   "metadata": {},
   "outputs": [],
   "source": [
    "# Use Category20c[5] to get exactly five colors\n"
   ]
  },
  {
   "cell_type": "code",
   "execution_count": 17,
   "id": "003fc2c7-2477-4764-86f6-089bd5dbc442",
   "metadata": {},
   "outputs": [],
   "source": [
    "data['color'] = Category20c[5]\n",
    "\n"
   ]
  },
  {
   "cell_type": "code",
   "execution_count": 18,
   "id": "be15c0cf-18e5-4cf0-addf-e7926abfeeed",
   "metadata": {},
   "outputs": [],
   "source": [
    "# Create a figure\n"
   ]
  },
  {
   "cell_type": "code",
   "execution_count": 19,
   "id": "dc3a89d5-fb4a-4fb8-85c8-017e3ba48718",
   "metadata": {},
   "outputs": [],
   "source": [
    "p = figure(title=\"Pie Chart\", toolbar_location=None, tools=\"hover\", \n",
    "           tooltips=\"@fruits: @value\", x_range=(-0.5, 1.0))\n"
   ]
  },
  {
   "cell_type": "code",
   "execution_count": 20,
   "id": "2e1a18f1-2c70-4feb-93c6-fcb7c65e497c",
   "metadata": {},
   "outputs": [],
   "source": [
    "# Add wedges for each fruit"
   ]
  },
  {
   "cell_type": "code",
   "execution_count": 21,
   "id": "626231c8-c7ca-4294-8dd1-4e3d946f4644",
   "metadata": {},
   "outputs": [
    {
     "data": {
      "text/html": [
       "<div style=\"display: table;\"><div style=\"display: table-row;\"><div style=\"display: table-cell;\"><b title=\"bokeh.models.renderers.glyph_renderer.GlyphRenderer\">GlyphRenderer</b>(</div><div style=\"display: table-cell;\">id&nbsp;=&nbsp;'p1079', <span id=\"p1085\" style=\"cursor: pointer;\">&hellip;)</span></div></div><div class=\"p1084\" style=\"display: none;\"><div style=\"display: table-cell;\"></div><div style=\"display: table-cell;\">context_menu&nbsp;=&nbsp;None,</div></div><div class=\"p1084\" style=\"display: none;\"><div style=\"display: table-cell;\"></div><div style=\"display: table-cell;\">coordinates&nbsp;=&nbsp;None,</div></div><div class=\"p1084\" style=\"display: none;\"><div style=\"display: table-cell;\"></div><div style=\"display: table-cell;\">data_source&nbsp;=&nbsp;ColumnDataSource(id='p1070', ...),</div></div><div class=\"p1084\" style=\"display: none;\"><div style=\"display: table-cell;\"></div><div style=\"display: table-cell;\">glyph&nbsp;=&nbsp;Wedge(id='p1076', ...),</div></div><div class=\"p1084\" style=\"display: none;\"><div style=\"display: table-cell;\"></div><div style=\"display: table-cell;\">group&nbsp;=&nbsp;None,</div></div><div class=\"p1084\" style=\"display: none;\"><div style=\"display: table-cell;\"></div><div style=\"display: table-cell;\">hover_glyph&nbsp;=&nbsp;None,</div></div><div class=\"p1084\" style=\"display: none;\"><div style=\"display: table-cell;\"></div><div style=\"display: table-cell;\">js_event_callbacks&nbsp;=&nbsp;{},</div></div><div class=\"p1084\" style=\"display: none;\"><div style=\"display: table-cell;\"></div><div style=\"display: table-cell;\">js_property_callbacks&nbsp;=&nbsp;{},</div></div><div class=\"p1084\" style=\"display: none;\"><div style=\"display: table-cell;\"></div><div style=\"display: table-cell;\">level&nbsp;=&nbsp;'glyph',</div></div><div class=\"p1084\" style=\"display: none;\"><div style=\"display: table-cell;\"></div><div style=\"display: table-cell;\">muted&nbsp;=&nbsp;False,</div></div><div class=\"p1084\" style=\"display: none;\"><div style=\"display: table-cell;\"></div><div style=\"display: table-cell;\">muted_glyph&nbsp;=&nbsp;Wedge(id='p1078', ...),</div></div><div class=\"p1084\" style=\"display: none;\"><div style=\"display: table-cell;\"></div><div style=\"display: table-cell;\">name&nbsp;=&nbsp;None,</div></div><div class=\"p1084\" style=\"display: none;\"><div style=\"display: table-cell;\"></div><div style=\"display: table-cell;\">nonselection_glyph&nbsp;=&nbsp;Wedge(id='p1077', ...),</div></div><div class=\"p1084\" style=\"display: none;\"><div style=\"display: table-cell;\"></div><div style=\"display: table-cell;\">propagate_hover&nbsp;=&nbsp;False,</div></div><div class=\"p1084\" style=\"display: none;\"><div style=\"display: table-cell;\"></div><div style=\"display: table-cell;\">selection_glyph&nbsp;=&nbsp;'auto',</div></div><div class=\"p1084\" style=\"display: none;\"><div style=\"display: table-cell;\"></div><div style=\"display: table-cell;\">subscribed_events&nbsp;=&nbsp;PropertyValueSet(),</div></div><div class=\"p1084\" style=\"display: none;\"><div style=\"display: table-cell;\"></div><div style=\"display: table-cell;\">syncable&nbsp;=&nbsp;True,</div></div><div class=\"p1084\" style=\"display: none;\"><div style=\"display: table-cell;\"></div><div style=\"display: table-cell;\">tags&nbsp;=&nbsp;[],</div></div><div class=\"p1084\" style=\"display: none;\"><div style=\"display: table-cell;\"></div><div style=\"display: table-cell;\">view&nbsp;=&nbsp;CDSView(id='p1080', ...),</div></div><div class=\"p1084\" style=\"display: none;\"><div style=\"display: table-cell;\"></div><div style=\"display: table-cell;\">visible&nbsp;=&nbsp;True,</div></div><div class=\"p1084\" style=\"display: none;\"><div style=\"display: table-cell;\"></div><div style=\"display: table-cell;\">x_range_name&nbsp;=&nbsp;'default',</div></div><div class=\"p1084\" style=\"display: none;\"><div style=\"display: table-cell;\"></div><div style=\"display: table-cell;\">y_range_name&nbsp;=&nbsp;'default')</div></div></div>\n",
       "<script>\n",
       "(function() {\n",
       "  let expanded = false;\n",
       "  const ellipsis = document.getElementById(\"p1085\");\n",
       "  ellipsis.addEventListener(\"click\", function() {\n",
       "    const rows = document.getElementsByClassName(\"p1084\");\n",
       "    for (let i = 0; i < rows.length; i++) {\n",
       "      const el = rows[i];\n",
       "      el.style.display = expanded ? \"none\" : \"table-row\";\n",
       "    }\n",
       "    ellipsis.innerHTML = expanded ? \"&hellip;)\" : \"&lsaquo;&lsaquo;&lsaquo;\";\n",
       "    expanded = !expanded;\n",
       "  });\n",
       "})();\n",
       "</script>\n"
      ],
      "text/plain": [
       "GlyphRenderer(id='p1079', ...)"
      ]
     },
     "execution_count": 21,
     "metadata": {},
     "output_type": "execute_result"
    }
   ],
   "source": [
    "p.wedge(x=0, y=1, radius=0.4, \n",
    "        start_angle=cumsum('angle', include_zero=True), end_angle=cumsum('angle'),\n",
    "        line_color=\"white\", fill_color='color', legend_field='fruits', source=data)\n"
   ]
  },
  {
   "cell_type": "code",
   "execution_count": 22,
   "id": "9aed553c-c8f0-420c-a4a9-d63ecd692ddd",
   "metadata": {},
   "outputs": [
    {
     "data": {
      "text/plain": [
       "'/home/soundarya/tact/pynotes/notebooks/bokeh/pie_chart_graph.html'"
      ]
     },
     "execution_count": 22,
     "metadata": {},
     "output_type": "execute_result"
    }
   ],
   "source": [
    "# Hide the axis and grid\n",
    "p.axis.axis_label = None\n",
    "p.axis.visible = False\n",
    "p.grid.grid_line_color = None\n",
    "\n",
    "# Save the plot\n",
    "save(p)"
   ]
  },
  {
   "cell_type": "code",
   "execution_count": null,
   "id": "63bf8508-2140-4370-8375-a1dd97b00c9b",
   "metadata": {},
   "outputs": [],
   "source": []
  }
 ],
 "metadata": {
  "kernelspec": {
   "display_name": "Python 3 (ipykernel)",
   "language": "python",
   "name": "python3"
  },
  "language_info": {
   "codemirror_mode": {
    "name": "ipython",
    "version": 3
   },
   "file_extension": ".py",
   "mimetype": "text/x-python",
   "name": "python",
   "nbconvert_exporter": "python",
   "pygments_lexer": "ipython3",
   "version": "3.12.4"
  }
 },
 "nbformat": 4,
 "nbformat_minor": 5
}
