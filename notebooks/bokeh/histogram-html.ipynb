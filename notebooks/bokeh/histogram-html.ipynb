{
 "cells": [
  {
   "cell_type": "code",
   "execution_count": 1,
   "id": "564dc36b-8ec6-4a84-a68e-b8a9119b75cb",
   "metadata": {},
   "outputs": [],
   "source": [
    "#Histogram"
   ]
  },
  {
   "cell_type": "code",
   "execution_count": 2,
   "id": "3af8951a-9fd1-4ec7-b9da-cdd59ea1e569",
   "metadata": {},
   "outputs": [],
   "source": [
    "from bokeh.plotting import figure, output_file, save"
   ]
  },
  {
   "cell_type": "code",
   "execution_count": 3,
   "id": "bd09f16e-6577-4794-b348-7eca0680c888",
   "metadata": {},
   "outputs": [],
   "source": [
    "import numpy as np"
   ]
  },
  {
   "cell_type": "code",
   "execution_count": 4,
   "id": "0d835067-1990-43de-b127-2fda1f22c88a",
   "metadata": {},
   "outputs": [],
   "source": [
    "output_file(\"histogram_graph.html\")"
   ]
  },
  {
   "cell_type": "code",
   "execution_count": 5,
   "id": "a286e4b2-86ea-4556-b50f-776fb8f57f40",
   "metadata": {},
   "outputs": [],
   "source": [
    "# Generate random data"
   ]
  },
  {
   "cell_type": "code",
   "execution_count": 6,
   "id": "68bd14b6-0a78-4e69-a0cf-f94d4d54cff0",
   "metadata": {},
   "outputs": [],
   "source": [
    "data = np.random.normal(0, 0.5, 1000)\n"
   ]
  },
  {
   "cell_type": "code",
   "execution_count": 7,
   "id": "ccb15e5d-7abb-4ee7-aa33-52d37131783c",
   "metadata": {},
   "outputs": [],
   "source": [
    "# Create histogram"
   ]
  },
  {
   "cell_type": "code",
   "execution_count": 8,
   "id": "3766f214-bc9f-409e-b1df-a5585c16023f",
   "metadata": {},
   "outputs": [],
   "source": [
    "p = figure(title=\"Histogram\", tools=\"\", x_axis_label='Value', y_axis_label='Frequency')\n"
   ]
  },
  {
   "cell_type": "code",
   "execution_count": 9,
   "id": "4231d3d9-9620-4649-b890-bbb4a2cffbed",
   "metadata": {},
   "outputs": [],
   "source": [
    "hist, edges = np.histogram(data, bins=30)\n"
   ]
  },
  {
   "cell_type": "code",
   "execution_count": 10,
   "id": "ef7a02a4-09ec-4116-8686-7d951922ece9",
   "metadata": {},
   "outputs": [],
   "source": [
    "# Add histogram to plot"
   ]
  },
  {
   "cell_type": "code",
   "execution_count": 11,
   "id": "83c06d0f-3618-466a-865f-db1ec982508a",
   "metadata": {},
   "outputs": [
    {
     "data": {
      "text/plain": [
       "'/home/soundarya/tact/pynotes/notebooks/bokeh/histogram_graph.html'"
      ]
     },
     "execution_count": 11,
     "metadata": {},
     "output_type": "execute_result"
    }
   ],
   "source": [
    "p.quad(top=hist, bottom=0, left=edges[:-1], right=edges[1:], fill_color=\"skyblue\", line_color=\"white\")\n",
    "\n",
    "save(p)\n"
   ]
  },
  {
   "cell_type": "code",
   "execution_count": null,
   "id": "5923c355-f4e0-416d-98c2-7f8b65666bfd",
   "metadata": {},
   "outputs": [],
   "source": []
  }
 ],
 "metadata": {
  "kernelspec": {
   "display_name": "Python 3 (ipykernel)",
   "language": "python",
   "name": "python3"
  },
  "language_info": {
   "codemirror_mode": {
    "name": "ipython",
    "version": 3
   },
   "file_extension": ".py",
   "mimetype": "text/x-python",
   "name": "python",
   "nbconvert_exporter": "python",
   "pygments_lexer": "ipython3",
   "version": "3.12.4"
  }
 },
 "nbformat": 4,
 "nbformat_minor": 5
}
