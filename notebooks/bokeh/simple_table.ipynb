{
 "cells": [
  {
   "cell_type": "code",
   "execution_count": 1,
   "id": "b6a53fea-1319-40d4-9b81-dfc58a9a073e",
   "metadata": {},
   "outputs": [],
   "source": [
    "#Simple Tab\n"
   ]
  },
  {
   "cell_type": "code",
   "execution_count": 2,
   "id": "61aef2c7-1ab2-46f2-84b9-edc9b53219d1",
   "metadata": {},
   "outputs": [],
   "source": [
    "from bokeh.models import ColumnDataSource, DataTable, TableColumn"
   ]
  },
  {
   "cell_type": "code",
   "execution_count": 3,
   "id": "a81ae816-b9ec-4400-abd8-c14da5a992e9",
   "metadata": {},
   "outputs": [],
   "source": [
    "from bokeh.plotting import output_file, save\n"
   ]
  },
  {
   "cell_type": "code",
   "execution_count": 4,
   "id": "c6f9e1a0-48dd-4cf2-be22-3d58cc99d7d6",
   "metadata": {},
   "outputs": [],
   "source": [
    "output_file(\"simple_table.html\")\n"
   ]
  },
  {
   "cell_type": "code",
   "execution_count": 5,
   "id": "77a91708-d5a5-46c3-b826-f1273de3824e",
   "metadata": {},
   "outputs": [],
   "source": [
    "\n",
    "data = {\n",
    "    'name': ['Alice', 'Bob', 'Charlie'],\n",
    "    'age': [24, 30, 22],\n",
    "    'city': ['New York', 'Los Angeles', 'Chicago']\n",
    "}\n",
    "\n"
   ]
  },
  {
   "cell_type": "code",
   "execution_count": 6,
   "id": "e0fa7c10-17ef-446b-8f61-6e25ad227c6b",
   "metadata": {},
   "outputs": [],
   "source": [
    "source = ColumnDataSource(data)\n",
    "\n"
   ]
  },
  {
   "cell_type": "code",
   "execution_count": 7,
   "id": "3d469db5-cba9-45e7-bc68-a7225d37e1db",
   "metadata": {},
   "outputs": [],
   "source": [
    "columns = [\n",
    "    TableColumn(field=\"name\", title=\"Name\"),\n",
    "    TableColumn(field=\"age\", title=\"Age\"),\n",
    "    TableColumn(field=\"city\", title=\"City\")\n",
    "]\n"
   ]
  },
  {
   "cell_type": "code",
   "execution_count": 8,
   "id": "931e8bf1-d7ab-4417-9b16-dd39f6c83c75",
   "metadata": {},
   "outputs": [],
   "source": [
    "#Table Column Data"
   ]
  },
  {
   "cell_type": "code",
   "execution_count": 9,
   "id": "09cd5eec-e7c5-4263-9f6b-9b4335909ad3",
   "metadata": {},
   "outputs": [
    {
     "data": {
      "text/plain": [
       "'/home/soundarya/tact/pynotes/notebooks/bokeh/simple_table.html'"
      ]
     },
     "execution_count": 9,
     "metadata": {},
     "output_type": "execute_result"
    }
   ],
   "source": [
    "\n",
    "data_table = DataTable(source=source, columns=columns, width=400, height=280)\n",
    "\n",
    "save(data_table)\n"
   ]
  },
  {
   "cell_type": "code",
   "execution_count": null,
   "id": "c9ce2853-4410-479a-bd98-765f8ad5f44b",
   "metadata": {},
   "outputs": [],
   "source": []
  }
 ],
 "metadata": {
  "kernelspec": {
   "display_name": "Python 3 (ipykernel)",
   "language": "python",
   "name": "python3"
  },
  "language_info": {
   "codemirror_mode": {
    "name": "ipython",
    "version": 3
   },
   "file_extension": ".py",
   "mimetype": "text/x-python",
   "name": "python",
   "nbconvert_exporter": "python",
   "pygments_lexer": "ipython3",
   "version": "3.12.4"
  }
 },
 "nbformat": 4,
 "nbformat_minor": 5
}
