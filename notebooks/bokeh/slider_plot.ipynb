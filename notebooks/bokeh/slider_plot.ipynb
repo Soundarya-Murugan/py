{
 "cells": [
  {
   "cell_type": "code",
   "execution_count": 1,
   "id": "35dc109e-e98c-4569-8df4-6ad993a98b09",
   "metadata": {},
   "outputs": [],
   "source": [
    "#Slider PLot\n"
   ]
  },
  {
   "cell_type": "code",
   "execution_count": 3,
   "id": "c17042d6-56c2-4468-8b73-acc8f536a3e0",
   "metadata": {},
   "outputs": [],
   "source": [
    "from bokeh.plotting import figure, output_file, save\n"
   ]
  },
  {
   "cell_type": "code",
   "execution_count": 4,
   "id": "35b5dd3c-8a34-4771-8fd0-30b86f854b0f",
   "metadata": {},
   "outputs": [],
   "source": [
    "from bokeh.io import show\n"
   ]
  },
  {
   "cell_type": "code",
   "execution_count": 5,
   "id": "198a3d28-5081-4fb4-be95-15f25e61c911",
   "metadata": {},
   "outputs": [],
   "source": [
    "from bokeh.models import Slider\n"
   ]
  },
  {
   "cell_type": "code",
   "execution_count": 6,
   "id": "b7af9afb-1c91-45ba-b144-ac4d6c59c092",
   "metadata": {},
   "outputs": [],
   "source": [
    "from bokeh.layouts import column\n"
   ]
  },
  {
   "cell_type": "code",
   "execution_count": 7,
   "id": "4a33774d-8294-467b-b6dc-d3cd62a43506",
   "metadata": {},
   "outputs": [],
   "source": [
    "\n",
    "output_file(\"slider_plot.html\")\n",
    "\n",
    "p = figure(title=\"Interactive Slider Plot\", x_axis_label='X', y_axis_label='Y')\n",
    "\n",
    "# Initial line\n",
    "line = p.line([1, 2, 3, 4, 5], [6, 7, 2, 4, 5], line_width=2)\n",
    "\n"
   ]
  },
  {
   "cell_type": "code",
   "execution_count": 8,
   "id": "8080a170-45f8-4050-91e7-3d148e972816",
   "metadata": {},
   "outputs": [],
   "source": [
    "def update(attr, old, new):\n",
    "    line.data_source.data['y'] = [6*new, 7*new, 2*new, 4*new, 5*new]\n",
    "    p.title.text = f\"Interactive Slider Plot (Multiplier = {new})\"\n"
   ]
  },
  {
   "cell_type": "code",
   "execution_count": 9,
   "id": "a5fa1978-1197-4dd3-8b14-64cc6d2c7312",
   "metadata": {},
   "outputs": [
    {
     "name": "stderr",
     "output_type": "stream",
     "text": [
      "WARNING:bokeh.embed.util:\n",
      "You are generating standalone HTML/JS output, but trying to use real Python\n",
      "callbacks (i.e. with on_change or on_event). This combination cannot work.\n",
      "\n",
      "Only JavaScript callbacks may be used with standalone output. For more\n",
      "information on JavaScript callbacks with Bokeh, see:\n",
      "\n",
      "    https://docs.bokeh.org/en/latest/docs/user_guide/interaction/js_callbacks.html\n",
      "\n",
      "Alternatively, to use real Python callbacks, a Bokeh server application may\n",
      "be used. For more information on building and running Bokeh applications, see:\n",
      "\n",
      "    https://docs.bokeh.org/en/latest/docs/user_guide/server.html\n",
      "\n"
     ]
    }
   ],
   "source": [
    "\n",
    "slider = Slider(start=1, end=10, value=1, step=0.1, title=\"Multiplier\")\n",
    "slider.on_change('value', update)\n",
    "\n",
    "show(column(p, slider))"
   ]
  },
  {
   "cell_type": "code",
   "execution_count": null,
   "id": "ff294b3a-68a1-46c0-a1c5-84efff3aba6d",
   "metadata": {},
   "outputs": [],
   "source": []
  }
 ],
 "metadata": {
  "kernelspec": {
   "display_name": "Python 3 (ipykernel)",
   "language": "python",
   "name": "python3"
  },
  "language_info": {
   "codemirror_mode": {
    "name": "ipython",
    "version": 3
   },
   "file_extension": ".py",
   "mimetype": "text/x-python",
   "name": "python",
   "nbconvert_exporter": "python",
   "pygments_lexer": "ipython3",
   "version": "3.12.4"
  }
 },
 "nbformat": 4,
 "nbformat_minor": 5
}
