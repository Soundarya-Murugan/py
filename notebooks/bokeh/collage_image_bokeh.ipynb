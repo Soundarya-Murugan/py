{
 "cells": [
  {
   "cell_type": "code",
   "execution_count": 1,
   "id": "44a13495-953b-4eef-996b-0d7f73d1a8e1",
   "metadata": {},
   "outputs": [],
   "source": [
    "#Create a Collage of Images"
   ]
  },
  {
   "cell_type": "code",
   "execution_count": 2,
   "id": "37b4e534-cc0e-49d7-bee0-e27c45116e84",
   "metadata": {},
   "outputs": [],
   "source": [
    "from PIL import Image"
   ]
  },
  {
   "cell_type": "code",
   "execution_count": 3,
   "id": "5f313eba-379c-4019-a63f-fd6c5c2f887b",
   "metadata": {},
   "outputs": [],
   "source": [
    "# Create a collage with multiple images"
   ]
  },
  {
   "cell_type": "code",
   "execution_count": 4,
   "id": "79e61f00-81d7-406c-b7b0-6660c5da1ab2",
   "metadata": {},
   "outputs": [],
   "source": [
    "img1 = Image.new('RGB', (100, 100), color=(255, 0, 0))"
   ]
  },
  {
   "cell_type": "code",
   "execution_count": 5,
   "id": "8e745874-e4fa-4701-a987-d84410aceba7",
   "metadata": {},
   "outputs": [],
   "source": [
    "img2 = Image.new('RGB', (100, 100), color=(0, 255, 0))"
   ]
  },
  {
   "cell_type": "code",
   "execution_count": 6,
   "id": "9bac6371-012f-4178-9843-529e4b95482d",
   "metadata": {},
   "outputs": [],
   "source": [
    "img3 = Image.new('RGB', (100, 100), color=(0, 0, 255))"
   ]
  },
  {
   "cell_type": "code",
   "execution_count": 7,
   "id": "c8df05ca-4682-43e9-b36f-1f0351678ff5",
   "metadata": {},
   "outputs": [],
   "source": [
    "collage = Image.new('RGB', (300, 100))"
   ]
  },
  {
   "cell_type": "code",
   "execution_count": 8,
   "id": "652b310f-1f7d-46fb-bcea-2dafffd1db03",
   "metadata": {},
   "outputs": [],
   "source": [
    "collage.paste(img1, (0, 0))"
   ]
  },
  {
   "cell_type": "code",
   "execution_count": 9,
   "id": "c38f6475-a616-4635-8313-9442068607f8",
   "metadata": {},
   "outputs": [],
   "source": [
    "collage.paste(img2, (100, 0))\n",
    "collage.paste(img3, (200, 0))"
   ]
  },
  {
   "cell_type": "code",
   "execution_count": 10,
   "id": "51c0eeeb-9b1b-4c93-bcf2-9fb92b747c9e",
   "metadata": {},
   "outputs": [],
   "source": [
    "collage.save('collage_image.png')"
   ]
  },
  {
   "cell_type": "code",
   "execution_count": null,
   "id": "8c080208-deac-421c-8128-b6cdeb705b20",
   "metadata": {},
   "outputs": [],
   "source": []
  }
 ],
 "metadata": {
  "kernelspec": {
   "display_name": "Python 3 (ipykernel)",
   "language": "python",
   "name": "python3"
  },
  "language_info": {
   "codemirror_mode": {
    "name": "ipython",
    "version": 3
   },
   "file_extension": ".py",
   "mimetype": "text/x-python",
   "name": "python",
   "nbconvert_exporter": "python",
   "pygments_lexer": "ipython3",
   "version": "3.12.4"
  }
 },
 "nbformat": 4,
 "nbformat_minor": 5
}
