{
 "cells": [
  {
   "cell_type": "code",
   "execution_count": 2,
   "id": "71e30e37-613d-47fa-88c4-21d7ec5de708",
   "metadata": {},
   "outputs": [],
   "source": [
    "import namegenerator\n"
   ]
  },
  {
   "cell_type": "code",
   "execution_count": 3,
   "id": "34d29702-557e-4f94-8dae-129fff2bc8c5",
   "metadata": {},
   "outputs": [],
   "source": [
    "from datetime import datetime\n",
    "\n",
    "\n"
   ]
  },
  {
   "cell_type": "code",
   "execution_count": 4,
   "id": "e49474f1-719b-4bb5-8cc8-d89d0a999849",
   "metadata": {},
   "outputs": [],
   "source": [
    "def generate_name_with_timestamp():\n",
    "    name = namegenerator.gen()\n",
    "    timestamp = datetime.now().strftime(\"%Y%m%d%H%M%S\")\n",
    "    return f\"{name}_{timestamp}\"\n",
    "\n"
   ]
  },
  {
   "cell_type": "code",
   "execution_count": 5,
   "id": "b521e0db-3a6c-421d-9be5-2b1a9200b8a8",
   "metadata": {},
   "outputs": [],
   "source": [
    "generated_name = generate_name_with_timestamp()\n"
   ]
  },
  {
   "cell_type": "code",
   "execution_count": 6,
   "id": "b95d2a5c-67d0-4ced-a9fd-b105446762d0",
   "metadata": {},
   "outputs": [
    {
     "name": "stdout",
     "output_type": "stream",
     "text": [
      "Generated name with timestamp: dorky-myrtle-collie_20241122230315\n"
     ]
    }
   ],
   "source": [
    "print(f\"Generated name with timestamp: {generated_name}\")"
   ]
  },
  {
   "cell_type": "code",
   "execution_count": null,
   "id": "c2f5a367-7b77-40a4-b276-e47551eb6493",
   "metadata": {},
   "outputs": [],
   "source": []
  }
 ],
 "metadata": {
  "kernelspec": {
   "display_name": "Python 3 (ipykernel)",
   "language": "python",
   "name": "python3"
  },
  "language_info": {
   "codemirror_mode": {
    "name": "ipython",
    "version": 3
   },
   "file_extension": ".py",
   "mimetype": "text/x-python",
   "name": "python",
   "nbconvert_exporter": "python",
   "pygments_lexer": "ipython3",
   "version": "3.12.4"
  }
 },
 "nbformat": 4,
 "nbformat_minor": 5
}
