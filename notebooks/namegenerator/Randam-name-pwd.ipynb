{
 "cells": [
  {
   "cell_type": "code",
   "execution_count": 2,
   "id": "1fe4e804-203b-4058-b471-5f59df3a646f",
   "metadata": {},
   "outputs": [],
   "source": [
    "import namegenerator\n"
   ]
  },
  {
   "cell_type": "code",
   "execution_count": 3,
   "id": "fad303fc-6a2c-448e-9477-db71e8e95d8b",
   "metadata": {},
   "outputs": [],
   "source": [
    "import string\n",
    "\n"
   ]
  },
  {
   "cell_type": "code",
   "execution_count": 4,
   "id": "f963e186-a8d4-437c-954b-108df620c686",
   "metadata": {},
   "outputs": [],
   "source": [
    "import random\n"
   ]
  },
  {
   "cell_type": "code",
   "execution_count": 5,
   "id": "4b8a6110-a0fd-4013-a61d-23b696381801",
   "metadata": {},
   "outputs": [],
   "source": [
    "\n",
    "def generate_password():\n",
    "    name = namegenerator.gen()\n",
    "    random_char = random.choice(string.punctuation)\n",
    "    return name + random_char\n",
    "\n"
   ]
  },
  {
   "cell_type": "code",
   "execution_count": 6,
   "id": "d1c65f82-0675-4333-aa07-f096cc38f6b8",
   "metadata": {},
   "outputs": [],
   "source": [
    "password = generate_password()\n"
   ]
  },
  {
   "cell_type": "code",
   "execution_count": 7,
   "id": "8b57f6d9-9588-48ad-926b-8c5908b02e45",
   "metadata": {},
   "outputs": [
    {
     "name": "stdout",
     "output_type": "stream",
     "text": [
      "Generated password: muzzy-linen-flounder]\n"
     ]
    }
   ],
   "source": [
    "print(f\"Generated password: {password}\")\n"
   ]
  },
  {
   "cell_type": "code",
   "execution_count": null,
   "id": "7a988956-8aaf-4df1-92a5-4d5fc657a29a",
   "metadata": {},
   "outputs": [],
   "source": []
  }
 ],
 "metadata": {
  "kernelspec": {
   "display_name": "Python 3 (ipykernel)",
   "language": "python",
   "name": "python3"
  },
  "language_info": {
   "codemirror_mode": {
    "name": "ipython",
    "version": 3
   },
   "file_extension": ".py",
   "mimetype": "text/x-python",
   "name": "python",
   "nbconvert_exporter": "python",
   "pygments_lexer": "ipython3",
   "version": "3.12.4"
  }
 },
 "nbformat": 4,
 "nbformat_minor": 5
}
