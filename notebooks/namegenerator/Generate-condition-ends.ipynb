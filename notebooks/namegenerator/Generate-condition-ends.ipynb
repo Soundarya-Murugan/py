{
 "cells": [
  {
   "cell_type": "code",
   "execution_count": 2,
   "id": "49ccd0f2-e89e-4e13-9601-d3f50970720a",
   "metadata": {},
   "outputs": [],
   "source": [
    "import namegenerator\n",
    "\n"
   ]
  },
  {
   "cell_type": "code",
   "execution_count": 3,
   "id": "05ab37fc-311a-4d54-a797-c81cc391ce9f",
   "metadata": {},
   "outputs": [],
   "source": [
    "def generate_until_condition(condition):\n",
    "    while True:\n",
    "        name = namegenerator.gen()\n",
    "        if condition(name):\n",
    "            return name\n",
    "\n",
    "\n"
   ]
  },
  {
   "cell_type": "code",
   "execution_count": 4,
   "id": "822d07b5-383a-4781-b63a-9fbc227742d7",
   "metadata": {},
   "outputs": [],
   "source": [
    "# Example: Generate a name with more than 6 characters\n",
    "name = generate_until_condition(lambda x: len(x) > 6)\n"
   ]
  },
  {
   "cell_type": "code",
   "execution_count": 5,
   "id": "780121e7-87ad-48c6-8e48-9b74aa159bf8",
   "metadata": {},
   "outputs": [
    {
     "name": "stdout",
     "output_type": "stream",
     "text": [
      "cozy-cerise-mule\n"
     ]
    }
   ],
   "source": [
    "print(name)"
   ]
  },
  {
   "cell_type": "code",
   "execution_count": null,
   "id": "0da677aa-79ba-4783-85d2-52a21f2b6652",
   "metadata": {},
   "outputs": [],
   "source": []
  }
 ],
 "metadata": {
  "kernelspec": {
   "display_name": "Python 3 (ipykernel)",
   "language": "python",
   "name": "python3"
  },
  "language_info": {
   "codemirror_mode": {
    "name": "ipython",
    "version": 3
   },
   "file_extension": ".py",
   "mimetype": "text/x-python",
   "name": "python",
   "nbconvert_exporter": "python",
   "pygments_lexer": "ipython3",
   "version": "3.12.4"
  }
 },
 "nbformat": 4,
 "nbformat_minor": 5
}
