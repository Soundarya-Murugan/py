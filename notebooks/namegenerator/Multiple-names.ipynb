{
 "cells": [
  {
   "cell_type": "code",
   "execution_count": 2,
   "id": "3a23d12a-d334-4e88-b3aa-1cef5a2086a3",
   "metadata": {},
   "outputs": [],
   "source": [
    "import namegenerator\n",
    "\n"
   ]
  },
  {
   "cell_type": "code",
   "execution_count": 10,
   "id": "938438cb-d157-47d2-ab54-f4771aa8d8e8",
   "metadata": {},
   "outputs": [
    {
     "name": "stdout",
     "output_type": "stream",
     "text": [
      "Generated unique names:\n",
      "gimpy-coral-bombay\n",
      "leaky-firebrick-tang\n",
      "frumpy-saffron-mayfly\n",
      "gloppy-lilac-caiman\n",
      "dorky-scarlet-horse\n"
     ]
    }
   ],
   "source": [
    "def generate_unique_names(num):\n",
    "    unique_names = set()\n",
    "    while len(unique_names) < num:\n",
    "        name = namegenerator.gen()\n",
    "        if name not in unique_names:\n",
    "            unique_names.add(name)\n",
    "    return list(unique_names)\n",
    "names = generate_unique_names(5)\n",
    "print(\"Generated unique names:\")\n",
    "for name in names:\n",
    "    print(name)\n"
   ]
  },
  {
   "cell_type": "code",
   "execution_count": null,
   "id": "225961a8-d715-4893-9ec8-7af89916f0f1",
   "metadata": {},
   "outputs": [],
   "source": []
  },
  {
   "cell_type": "code",
   "execution_count": null,
   "id": "b22274a2-e7e4-4b27-acd1-79184b548690",
   "metadata": {},
   "outputs": [],
   "source": []
  },
  {
   "cell_type": "code",
   "execution_count": null,
   "id": "c65d49d3-4694-4f1b-a3c4-5de225907e40",
   "metadata": {},
   "outputs": [],
   "source": []
  }
 ],
 "metadata": {
  "kernelspec": {
   "display_name": "Python 3 (ipykernel)",
   "language": "python",
   "name": "python3"
  },
  "language_info": {
   "codemirror_mode": {
    "name": "ipython",
    "version": 3
   },
   "file_extension": ".py",
   "mimetype": "text/x-python",
   "name": "python",
   "nbconvert_exporter": "python",
   "pygments_lexer": "ipython3",
   "version": "3.12.4"
  }
 },
 "nbformat": 4,
 "nbformat_minor": 5
}
