{
 "cells": [
  {
   "cell_type": "code",
   "execution_count": 2,
   "id": "e662a501-509e-430c-9188-eb5f4b509550",
   "metadata": {},
   "outputs": [],
   "source": [
    "import namegenerator\n",
    "\n"
   ]
  },
  {
   "cell_type": "code",
   "execution_count": 3,
   "id": "c7fccb90-a948-485d-a404-4429dd09a1b9",
   "metadata": {},
   "outputs": [],
   "source": [
    "\n",
    "def generate_and_reverse_name():\n",
    "    name = namegenerator.gen()\n",
    "    reversed_name = name[::-1]\n",
    "    return reversed_name\n",
    "\n"
   ]
  },
  {
   "cell_type": "code",
   "execution_count": 4,
   "id": "694c1c6a-6cce-4366-8e85-04c26dc37685",
   "metadata": {},
   "outputs": [
    {
     "name": "stdout",
     "output_type": "stream",
     "text": [
      "Original name: freaky-goldenrod-kakapo\n",
      "Reversed name: ognob-nirazila-ysaeuq\n"
     ]
    }
   ],
   "source": [
    "reversed_name = generate_and_reverse_name()\n",
    "print(f\"Original name: {namegenerator.gen()}\")\n",
    "print(f\"Reversed name: {reversed_name}\")"
   ]
  },
  {
   "cell_type": "code",
   "execution_count": null,
   "id": "cde895fa-ece3-49e5-aac9-a3aee962409d",
   "metadata": {},
   "outputs": [],
   "source": []
  }
 ],
 "metadata": {
  "kernelspec": {
   "display_name": "Python 3 (ipykernel)",
   "language": "python",
   "name": "python3"
  },
  "language_info": {
   "codemirror_mode": {
    "name": "ipython",
    "version": 3
   },
   "file_extension": ".py",
   "mimetype": "text/x-python",
   "name": "python",
   "nbconvert_exporter": "python",
   "pygments_lexer": "ipython3",
   "version": "3.12.4"
  }
 },
 "nbformat": 4,
 "nbformat_minor": 5
}
