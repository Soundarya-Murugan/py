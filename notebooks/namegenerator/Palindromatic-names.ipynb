{
 "cells": [
  {
   "cell_type": "code",
   "execution_count": 2,
   "id": "7884d725-44f5-4ef2-841a-04a0a506d702",
   "metadata": {},
   "outputs": [],
   "source": [
    "import namegenerator\n"
   ]
  },
  {
   "cell_type": "code",
   "execution_count": 3,
   "id": "eee67a5f-f142-4391-9c10-d565edf006a4",
   "metadata": {},
   "outputs": [],
   "source": [
    "\n",
    "def check_if_palindromic(name):\n",
    "    return name == name[::-1]\n",
    "\n",
    "\n"
   ]
  },
  {
   "cell_type": "code",
   "execution_count": 4,
   "id": "d12c4ab5-cf27-4510-aec9-3847c5538e8b",
   "metadata": {},
   "outputs": [],
   "source": [
    "name = namegenerator.gen()\n"
   ]
  },
  {
   "cell_type": "code",
   "execution_count": 5,
   "id": "f477149f-3351-4bd3-8030-d7745d8d0b08",
   "metadata": {},
   "outputs": [
    {
     "name": "stdout",
     "output_type": "stream",
     "text": [
      "Generated name: crabby-gold-tamarin\n",
      "Is palindrome: False\n"
     ]
    }
   ],
   "source": [
    "is_palindrome = check_if_palindromic(name)\n",
    "print(f\"Generated name: {name}\")\n",
    "print(f\"Is palindrome: {is_palindrome}\")"
   ]
  },
  {
   "cell_type": "code",
   "execution_count": null,
   "id": "2fec0d32-9855-493b-a348-c71c6c8042e6",
   "metadata": {},
   "outputs": [],
   "source": []
  }
 ],
 "metadata": {
  "kernelspec": {
   "display_name": "Python 3 (ipykernel)",
   "language": "python",
   "name": "python3"
  },
  "language_info": {
   "codemirror_mode": {
    "name": "ipython",
    "version": 3
   },
   "file_extension": ".py",
   "mimetype": "text/x-python",
   "name": "python",
   "nbconvert_exporter": "python",
   "pygments_lexer": "ipython3",
   "version": "3.12.4"
  }
 },
 "nbformat": 4,
 "nbformat_minor": 5
}
