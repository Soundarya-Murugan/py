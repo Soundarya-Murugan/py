{
 "cells": [
  {
   "cell_type": "code",
   "execution_count": 2,
   "id": "0df557c6-8ca4-4b40-8893-30e7ab19423d",
   "metadata": {},
   "outputs": [],
   "source": [
    "import namegenerator\n",
    "\n",
    "\n"
   ]
  },
  {
   "cell_type": "code",
   "execution_count": 3,
   "id": "3b9f023c-d2ad-429f-9ccf-a43471ed2c54",
   "metadata": {},
   "outputs": [],
   "source": [
    "def generate_names_with_prefix(prefix, min_length):\n",
    "    name = namegenerator.gen(prefix)\n",
    "    while len(name) < min_length:\n",
    "        name = namegenerator.gen(prefix)\n",
    "    return name\n",
    "\n"
   ]
  },
  {
   "cell_type": "code",
   "execution_count": 4,
   "id": "ea292fa1-4734-42a3-8f0e-8750798b61bb",
   "metadata": {},
   "outputs": [],
   "source": [
    "prefix = \"super\"\n"
   ]
  },
  {
   "cell_type": "code",
   "execution_count": 5,
   "id": "6b3148d1-ad3b-484c-b13d-7808be4509a4",
   "metadata": {},
   "outputs": [],
   "source": [
    "min_length = 8\n"
   ]
  },
  {
   "cell_type": "code",
   "execution_count": 6,
   "id": "d5e1bb04-c1e5-4207-869e-e561f3110096",
   "metadata": {},
   "outputs": [],
   "source": [
    "name = generate_names_with_prefix(prefix, min_length)\n"
   ]
  },
  {
   "cell_type": "code",
   "execution_count": 7,
   "id": "6362f39b-1a2c-4b26-82b4-fe1f43d3190f",
   "metadata": {},
   "outputs": [
    {
     "name": "stdout",
     "output_type": "stream",
     "text": [
      "Generated name: stuffy-wheat-harrier\n"
     ]
    }
   ],
   "source": [
    "print(f\"Generated name: {name}\")"
   ]
  },
  {
   "cell_type": "code",
   "execution_count": null,
   "id": "b84efce0-d3fa-4dfd-852e-1401e85c3a01",
   "metadata": {},
   "outputs": [],
   "source": []
  }
 ],
 "metadata": {
  "kernelspec": {
   "display_name": "Python 3 (ipykernel)",
   "language": "python",
   "name": "python3"
  },
  "language_info": {
   "codemirror_mode": {
    "name": "ipython",
    "version": 3
   },
   "file_extension": ".py",
   "mimetype": "text/x-python",
   "name": "python",
   "nbconvert_exporter": "python",
   "pygments_lexer": "ipython3",
   "version": "3.12.4"
  }
 },
 "nbformat": 4,
 "nbformat_minor": 5
}
