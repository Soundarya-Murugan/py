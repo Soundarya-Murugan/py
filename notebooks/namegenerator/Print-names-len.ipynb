{
 "cells": [
  {
   "cell_type": "code",
   "execution_count": 2,
   "id": "324b31b4-8e7d-47b5-a797-6d46dca0a233",
   "metadata": {},
   "outputs": [],
   "source": [
    "import namegenerator\n",
    "\n",
    "\n"
   ]
  },
  {
   "cell_type": "code",
   "execution_count": 4,
   "id": "8c45d2a1-f815-4ac1-aa02-1fa0227e6f82",
   "metadata": {},
   "outputs": [],
   "source": [
    "def validate_name_length(length):\n",
    "    name = namegenerator.gen()\n",
    "    if len(name) == length:\n",
    "        print(f\"Valid name of length {length}: {name}\")\n",
    "    else:\n",
    "        print(f\"Generated name does not meet the length requirement: {name}\")\n",
    "\n"
   ]
  },
  {
   "cell_type": "code",
   "execution_count": null,
   "id": "4f6ba886-28c4-4cfa-9373-8bd79f418278",
   "metadata": {},
   "outputs": [],
   "source": [
    "validate_name_length(8)"
   ]
  }
 ],
 "metadata": {
  "kernelspec": {
   "display_name": "Python 3 (ipykernel)",
   "language": "python",
   "name": "python3"
  },
  "language_info": {
   "codemirror_mode": {
    "name": "ipython",
    "version": 3
   },
   "file_extension": ".py",
   "mimetype": "text/x-python",
   "name": "python",
   "nbconvert_exporter": "python",
   "pygments_lexer": "ipython3",
   "version": "3.12.4"
  }
 },
 "nbformat": 4,
 "nbformat_minor": 5
}
