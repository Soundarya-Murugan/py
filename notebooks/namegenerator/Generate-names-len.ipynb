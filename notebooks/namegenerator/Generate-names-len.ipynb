{
 "cells": [
  {
   "cell_type": "code",
   "execution_count": 2,
   "id": "2a3ac0e6-3239-4303-966d-a54ec50d0102",
   "metadata": {},
   "outputs": [],
   "source": [
    "import namegenerator\n",
    "\n"
   ]
  },
  {
   "cell_type": "code",
   "execution_count": 10,
   "id": "c23a554d-b928-4ce7-921c-f96f6c31b1f0",
   "metadata": {},
   "outputs": [],
   "source": [
    "def generate_names(length):\n",
    "    name = namegenerator.gen()\n",
    "    while len(name) < length:\n",
    "        name = namegenerator.gen()\n",
    "    return name\n",
    "\n",
    "\n"
   ]
  },
  {
   "cell_type": "code",
   "execution_count": 11,
   "id": "2a7fb8c2-4a46-4269-8fb8-741d3e99b4e4",
   "metadata": {},
   "outputs": [
    {
     "name": "stdout",
     "output_type": "stream",
     "text": [
      "stinky-ruby-maltese\n"
     ]
    }
   ],
   "source": [
    "\n",
    "name = generate_names(10)\n",
    "print(name)"
   ]
  },
  {
   "cell_type": "code",
   "execution_count": null,
   "id": "a5af1f38-cdef-4861-81fc-058c990ff1d2",
   "metadata": {},
   "outputs": [],
   "source": []
  }
 ],
 "metadata": {
  "kernelspec": {
   "display_name": "Python 3 (ipykernel)",
   "language": "python",
   "name": "python3"
  },
  "language_info": {
   "codemirror_mode": {
    "name": "ipython",
    "version": 3
   },
   "file_extension": ".py",
   "mimetype": "text/x-python",
   "name": "python",
   "nbconvert_exporter": "python",
   "pygments_lexer": "ipython3",
   "version": "3.12.4"
  }
 },
 "nbformat": 4,
 "nbformat_minor": 5
}
