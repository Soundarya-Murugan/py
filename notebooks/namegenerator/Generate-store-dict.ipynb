{
 "cells": [
  {
   "cell_type": "code",
   "execution_count": 2,
   "id": "137b5467-328e-4a82-99a8-d014f77a2d0d",
   "metadata": {},
   "outputs": [],
   "source": [
    "import namegenerator\n",
    "\n",
    "\n"
   ]
  },
  {
   "cell_type": "code",
   "execution_count": null,
   "id": "52fc00e5-ff44-40a3-b9ee-7c9232034f78",
   "metadata": {},
   "outputs": [],
   "source": []
  },
  {
   "cell_type": "code",
   "execution_count": 3,
   "id": "85d04f21-ae14-4687-add9-698777c557a3",
   "metadata": {},
   "outputs": [],
   "source": [
    "def store_names_in_dict(num):\n",
    "    names_dict = {}\n",
    "    for i in range(1, num+1):\n",
    "        name = namegenerator.gen()\n",
    "        names_dict[f\"Name_{i}\"] = name\n",
    "    return names_dict\n",
    "\n"
   ]
  },
  {
   "cell_type": "code",
   "execution_count": null,
   "id": "52a1a8b2-1f05-43bf-b86c-4f3ccf6b0c07",
   "metadata": {},
   "outputs": [],
   "source": []
  },
  {
   "cell_type": "code",
   "execution_count": 6,
   "id": "8ce11ddf-b18a-4c01-a6b8-d671d6a792da",
   "metadata": {},
   "outputs": [],
   "source": [
    "names_dict = store_names_in_dict(5)\n"
   ]
  },
  {
   "cell_type": "code",
   "execution_count": 7,
   "id": "80d8a6fa-90b3-4545-a6bb-6d6330086446",
   "metadata": {},
   "outputs": [
    {
     "name": "stdout",
     "output_type": "stream",
     "text": [
      "Generated names in dictionary:\n",
      "Name_1: squeaky-gamboge-fossa\n",
      "Name_2: goopy-plum-insect\n",
      "Name_3: silly-ochre-russel\n",
      "Name_4: breezy-fuchsia-falcon\n",
      "Name_5: breezy-eggplant-mastiff\n"
     ]
    }
   ],
   "source": [
    "print(\"Generated names in dictionary:\")\n",
    "for key, value in names_dict.items():\n",
    "    print(f\"{key}: {value}\")"
   ]
  },
  {
   "cell_type": "code",
   "execution_count": null,
   "id": "fcd9bcf8-f75b-4e72-8ef3-4d78768aa10d",
   "metadata": {},
   "outputs": [],
   "source": []
  },
  {
   "cell_type": "code",
   "execution_count": null,
   "id": "5344bd7d-dd3f-4e41-a212-1426e6639f11",
   "metadata": {},
   "outputs": [],
   "source": []
  },
  {
   "cell_type": "code",
   "execution_count": null,
   "id": "366c3e29-81ba-4a6b-81d1-9fec71f56193",
   "metadata": {},
   "outputs": [],
   "source": []
  }
 ],
 "metadata": {
  "kernelspec": {
   "display_name": "Python 3 (ipykernel)",
   "language": "python",
   "name": "python3"
  },
  "language_info": {
   "codemirror_mode": {
    "name": "ipython",
    "version": 3
   },
   "file_extension": ".py",
   "mimetype": "text/x-python",
   "name": "python",
   "nbconvert_exporter": "python",
   "pygments_lexer": "ipython3",
   "version": "3.12.4"
  }
 },
 "nbformat": 4,
 "nbformat_minor": 5
}
