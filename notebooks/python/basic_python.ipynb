{
 "cells": [
  {
   "cell_type": "code",
   "execution_count": 2,
   "id": "6caad029-c5ff-441a-b70a-3567e9d05888",
   "metadata": {},
   "outputs": [],
   "source": [
    "# Define a function to greet a user\n",
    "def greet_user(name):\n",
    "    print(f\"Hello, {name}! Welcome to Python programming.\")\n",
    "\n"
   ]
  },
  {
   "cell_type": "code",
   "execution_count": 3,
   "id": "495cc040-47e0-4f97-a959-6bb279626b55",
   "metadata": {},
   "outputs": [],
   "source": [
    "# Define a function to add two numbers\n",
    "def add_numbers(a, b):\n",
    "    return a + b\n",
    "\n"
   ]
  },
  {
   "cell_type": "code",
   "execution_count": 4,
   "id": "32e2b9ac-9542-4a4d-80d8-7eb649a1ac1d",
   "metadata": {},
   "outputs": [],
   "source": [
    "# Main program\n",
    "if __name__ == \"__main__\":\n",
    "    # Variable declaration\n",
    "    name = \"Alice\"\n",
    "    number1 = 5\n",
    "    number2 = 3\n",
    "    \n"
   ]
  },
  {
   "cell_type": "code",
   "execution_count": 5,
   "id": "6aa4cfb0-6159-4527-beaf-9e71aa32bf71",
   "metadata": {},
   "outputs": [
    {
     "name": "stdout",
     "output_type": "stream",
     "text": [
      "Hello, Alice! Welcome to Python programming.\n"
     ]
    }
   ],
   "source": [
    "    # Function calls\n",
    "    greet_user(name)\n"
   ]
  },
  {
   "cell_type": "code",
   "execution_count": 6,
   "id": "3ec493b8-975a-407f-8e78-7a72c00d5a28",
   "metadata": {},
   "outputs": [],
   "source": [
    "    result = add_numbers(number1, number2)\n"
   ]
  },
  {
   "cell_type": "code",
   "execution_count": 7,
   "id": "a611b1bc-6ed0-44f4-8d47-8eba252a70b1",
   "metadata": {},
   "outputs": [
    {
     "name": "stdout",
     "output_type": "stream",
     "text": [
      "The sum of 5 and 3 is: 8\n"
     ]
    }
   ],
   "source": [
    "    \n",
    "    # Print result\n",
    "    print(f\"The sum of {number1} and {number2} is: {result}\")"
   ]
  },
  {
   "cell_type": "code",
   "execution_count": null,
   "id": "3ba3223b-0bb1-4633-9b90-40c3128e6f7d",
   "metadata": {},
   "outputs": [],
   "source": []
  }
 ],
 "metadata": {
  "kernelspec": {
   "display_name": "Python 3 (ipykernel)",
   "language": "python",
   "name": "python3"
  },
  "language_info": {
   "codemirror_mode": {
    "name": "ipython",
    "version": 3
   },
   "file_extension": ".py",
   "mimetype": "text/x-python",
   "name": "python",
   "nbconvert_exporter": "python",
   "pygments_lexer": "ipython3",
   "version": "3.12.4"
  }
 },
 "nbformat": 4,
 "nbformat_minor": 5
}
