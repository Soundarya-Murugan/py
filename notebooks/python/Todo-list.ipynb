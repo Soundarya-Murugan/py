{
 "cells": [
  {
   "cell_type": "code",
   "execution_count": 1,
   "id": "28997b06-3b78-4199-b810-e3df2b824a63",
   "metadata": {},
   "outputs": [],
   "source": [
    "# Simple To-Do List Manager\n",
    "\n",
    "def display_menu():\n",
    "    print(\"\\n=== To-Do List Manager ===\")\n",
    "    print(\"1. View To-Do List\")\n",
    "    print(\"2. Add a Task\")\n",
    "    print(\"3. Mark Task as Completed\")\n",
    "    print(\"4. Delete a Task\")\n",
    "    print(\"5. Exit\")\n",
    "\n",
    "\n"
   ]
  },
  {
   "cell_type": "code",
   "execution_count": 2,
   "id": "d2a32a2d-101b-4848-b157-09cdf6d88d6d",
   "metadata": {},
   "outputs": [],
   "source": [
    "def view_tasks(tasks):\n",
    "    if not tasks:\n",
    "        print(\"\\nYour to-do list is empty!\")\n",
    "    else:\n",
    "        print(\"\\nTo-Do List:\")\n",
    "        for i, task in enumerate(tasks, 1):\n",
    "            status = \"✓\" if task['completed'] else \"✗\"\n",
    "            print(f\"{i}. {task['title']} [{status}]\")\n",
    "\n"
   ]
  },
  {
   "cell_type": "code",
   "execution_count": 3,
   "id": "e2232406-5ead-4e11-b8f2-f92dc1e3ce5a",
   "metadata": {},
   "outputs": [],
   "source": [
    "def add_task(tasks):\n",
    "    title = input(\"\\nEnter the task title: \")\n",
    "    tasks.append({\"title\": title, \"completed\": False})\n",
    "    print(\"Task added successfully.\")\n",
    "\n"
   ]
  },
  {
   "cell_type": "code",
   "execution_count": 4,
   "id": "69499fb1-7569-4447-b068-d6882118e371",
   "metadata": {},
   "outputs": [],
   "source": [
    "def mark_task_completed(tasks):\n",
    "    view_tasks(tasks)\n",
    "    if tasks:\n",
    "        task_num = int(input(\"\\nEnter the task number to mark as completed: \")) - 1\n",
    "        if 0 <= task_num < len(tasks):\n",
    "            tasks[task_num][\"completed\"] = True\n",
    "            print(\"Task marked as completed.\")\n",
    "        else:\n",
    "            print(\"Invalid task number.\")\n",
    "\n"
   ]
  },
  {
   "cell_type": "code",
   "execution_count": 5,
   "id": "459bceb0-06b9-41db-9c82-5953039d51ff",
   "metadata": {},
   "outputs": [],
   "source": [
    "def delete_task(tasks):\n",
    "    view_tasks(tasks)\n",
    "    if tasks:\n",
    "        task_num = int(input(\"\\nEnter the task number to delete: \")) - 1\n",
    "        if 0 <= task_num < len(tasks):\n",
    "            removed_task = tasks.pop(task_num)\n",
    "            print(f\"Task '{removed_task['title']}' deleted.\")\n",
    "        else:\n",
    "            print(\"Invalid task number.\")\n",
    "\n"
   ]
  },
  {
   "cell_type": "code",
   "execution_count": null,
   "id": "f11e9972-fcd2-4ab9-9dc6-a6394f1c3a3d",
   "metadata": {},
   "outputs": [
    {
     "name": "stdout",
     "output_type": "stream",
     "text": [
      "\n",
      "=== To-Do List Manager ===\n",
      "1. View To-Do List\n",
      "2. Add a Task\n",
      "3. Mark Task as Completed\n",
      "4. Delete a Task\n",
      "5. Exit\n"
     ]
    },
    {
     "name": "stdin",
     "output_type": "stream",
     "text": [
      "\n",
      "Enter your choice (1-5):  1\n"
     ]
    },
    {
     "name": "stdout",
     "output_type": "stream",
     "text": [
      "\n",
      "Your to-do list is empty!\n",
      "\n",
      "=== To-Do List Manager ===\n",
      "1. View To-Do List\n",
      "2. Add a Task\n",
      "3. Mark Task as Completed\n",
      "4. Delete a Task\n",
      "5. Exit\n"
     ]
    },
    {
     "name": "stdin",
     "output_type": "stream",
     "text": [
      "\n",
      "Enter your choice (1-5):  2\n",
      "\n",
      "Enter the task title:  Check Task\n"
     ]
    },
    {
     "name": "stdout",
     "output_type": "stream",
     "text": [
      "Task added successfully.\n",
      "\n",
      "=== To-Do List Manager ===\n",
      "1. View To-Do List\n",
      "2. Add a Task\n",
      "3. Mark Task as Completed\n",
      "4. Delete a Task\n",
      "5. Exit\n"
     ]
    },
    {
     "name": "stdin",
     "output_type": "stream",
     "text": [
      "\n",
      "Enter your choice (1-5):  3\n"
     ]
    },
    {
     "name": "stdout",
     "output_type": "stream",
     "text": [
      "\n",
      "To-Do List:\n",
      "1. Check Task [✗]\n"
     ]
    },
    {
     "name": "stdin",
     "output_type": "stream",
     "text": [
      "\n",
      "Enter the task number to mark as completed:  3\n"
     ]
    },
    {
     "name": "stdout",
     "output_type": "stream",
     "text": [
      "Invalid task number.\n",
      "\n",
      "=== To-Do List Manager ===\n",
      "1. View To-Do List\n",
      "2. Add a Task\n",
      "3. Mark Task as Completed\n",
      "4. Delete a Task\n",
      "5. Exit\n"
     ]
    }
   ],
   "source": [
    "def main():\n",
    "    tasks = []\n",
    "    while True:\n",
    "        display_menu()\n",
    "        choice = input(\"\\nEnter your choice (1-5): \")\n",
    "\n",
    "        if choice == '1':\n",
    "            view_tasks(tasks)\n",
    "        elif choice == '2':\n",
    "            add_task(tasks)\n",
    "        elif choice == '3':\n",
    "            mark_task_completed(tasks)\n",
    "        elif choice == '4':\n",
    "            delete_task(tasks)\n",
    "        elif choice == '5':\n",
    "            print(\"Goodbye!\")\n",
    "            break\n",
    "        else:\n",
    "            print(\"Invalid choice, please try again.\")\n",
    "\n",
    "# Run the main function to start the program\n",
    "main()"
   ]
  },
  {
   "cell_type": "code",
   "execution_count": null,
   "id": "e5537dce-3abb-40f7-81eb-c4c41f1ad062",
   "metadata": {},
   "outputs": [],
   "source": []
  }
 ],
 "metadata": {
  "kernelspec": {
   "display_name": "Python 3 (ipykernel)",
   "language": "python",
   "name": "python3"
  },
  "language_info": {
   "codemirror_mode": {
    "name": "ipython",
    "version": 3
   },
   "file_extension": ".py",
   "mimetype": "text/x-python",
   "name": "python",
   "nbconvert_exporter": "python",
   "pygments_lexer": "ipython3",
   "version": "3.12.4"
  }
 },
 "nbformat": 4,
 "nbformat_minor": 5
}
