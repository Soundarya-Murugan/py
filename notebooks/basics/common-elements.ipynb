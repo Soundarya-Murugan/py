{
 "cells": [
  {
   "cell_type": "code",
   "execution_count": 2,
   "id": "50119b5e-f36d-4158-924c-8ac49b5f00c8",
   "metadata": {},
   "outputs": [],
   "source": [
    "def find_common_elements(list1, list2):\n",
    "    \"\"\"\n",
    "    Given two lists, find the common elements between them.\n",
    "\n",
    "    Args:\n",
    "    list1: First list of elements\n",
    "    list2: Second list of elements\n",
    "\n",
    "    Returns:\n",
    "    List of common elements between list1 and list2\n",
    "    \"\"\"\n",
    "\n",
    "    # Initialize an empty list to store common elements\n",
    "    common_elements = []\n",
    "\n",
    "    for element in list1:\n",
    "        if element in list2:\n",
    "            if element not in common_elements:\n",
    "                common_elements.append(element)\n",
    "\n",
    "    return common_elements    \n",
    "    \n",
    "# Sample test cases\n",
    "# print(find_common_elements([1, 2, 3, 4, 5], [4, 5, 6, 7, 8])) # Output should be [4, 5]\n",
    "# print(find_common_elements(['a', 'b', 'c'], ['b', 'c', 'd'])) # Output should be ['b', 'c']\n"
   ]
  },
  {
   "cell_type": "code",
   "execution_count": 3,
   "id": "fed778d6-b983-47fe-9691-18bb804ce63e",
   "metadata": {},
   "outputs": [
    {
     "name": "stdout",
     "output_type": "stream",
     "text": [
      "[4, 5]\n"
     ]
    }
   ],
   "source": [
    "print(find_common_elements([1, 2, 3, 4, 5], [4, 5, 6, 7, 8]))"
   ]
  },
  {
   "cell_type": "code",
   "execution_count": null,
   "id": "c4caef49-c27e-4232-b74d-a90c75c6c13d",
   "metadata": {},
   "outputs": [],
   "source": []
  }
 ],
 "metadata": {
  "kernelspec": {
   "display_name": "Python 3 (ipykernel)",
   "language": "python",
   "name": "python3"
  },
  "language_info": {
   "codemirror_mode": {
    "name": "ipython",
    "version": 3
   },
   "file_extension": ".py",
   "mimetype": "text/x-python",
   "name": "python",
   "nbconvert_exporter": "python",
   "pygments_lexer": "ipython3",
   "version": "3.12.4"
  }
 },
 "nbformat": 4,
 "nbformat_minor": 5
}
