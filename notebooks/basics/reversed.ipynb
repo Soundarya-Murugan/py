{
 "cells": [
  {
   "cell_type": "code",
   "execution_count": 3,
   "id": "63263b6f-b04f-4a72-a911-bf96bf89fe80",
   "metadata": {},
   "outputs": [],
   "source": [
    "def reverse_words(sentence):\n",
    "    \"\"\"\n",
    "    Given a sentence, reverse the order of words in it.\n",
    "\n",
    "    Args:\n",
    "    sentence: A string representing the input sentence.\n",
    "\n",
    "    Returns:\n",
    "    A string with words in reversed order.\n",
    "    \"\"\"\n",
    "\n",
    "    # Split the sentence into words\n",
    "    words = sentence.split()\n",
    "\n",
    "    reversed_sentence = ' '.join(reversed(words))\n",
    "\n",
    "    \n",
    "\n",
    "    # do your code\n",
    "\n",
    "    return reversed_sentence\n",
    "\n",
    "# Test cases\n",
    "# print(reverse_words(\"Hello World\"))  # Output: \"World Hello\"\n",
    "# print(reverse_words(\"Python is awesome\"))  # Output: \"awesome is Python\"\n",
    "# print(reverse_words(\"Coding test in Python\"))  # Output: \"Python in test Coding\"\n"
   ]
  },
  {
   "cell_type": "code",
   "execution_count": 5,
   "id": "88b2a0f8-9c52-4421-a5e3-f2c9514c2968",
   "metadata": {},
   "outputs": [
    {
     "name": "stdout",
     "output_type": "stream",
     "text": [
      "awesome is Python\n"
     ]
    }
   ],
   "source": [
    "print(reverse_words(\"Python is awesome\"))"
   ]
  },
  {
   "cell_type": "code",
   "execution_count": null,
   "id": "4b0652a5-002c-4e2a-a5c2-0984b631095f",
   "metadata": {},
   "outputs": [],
   "source": []
  }
 ],
 "metadata": {
  "kernelspec": {
   "display_name": "Python 3 (ipykernel)",
   "language": "python",
   "name": "python3"
  },
  "language_info": {
   "codemirror_mode": {
    "name": "ipython",
    "version": 3
   },
   "file_extension": ".py",
   "mimetype": "text/x-python",
   "name": "python",
   "nbconvert_exporter": "python",
   "pygments_lexer": "ipython3",
   "version": "3.12.4"
  }
 },
 "nbformat": 4,
 "nbformat_minor": 5
}
