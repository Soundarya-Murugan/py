{
 "cells": [
  {
   "cell_type": "code",
   "execution_count": 2,
   "id": "b77de587-392c-4a7c-be11-4b5da41fbb7c",
   "metadata": {},
   "outputs": [],
   "source": [
    "def rotate_list(lst, k):\n",
    "    \"\"\"\n",
    "    Rotate a list by k positions.\n",
    "\n",
    "    Args:\n",
    "    lst: list - the list to rotate\n",
    "    k: int - the number of positions to rotate\n",
    "\n",
    "    Returns:\n",
    "    list - the rotated list\n",
    "    \"\"\"\n",
    "\n",
    "    if not lst:\n",
    "        return lst\n",
    "    \n",
    "    k = k % len(lst)  \n",
    "    return lst[-k:] + lst[:-k]\n",
    "\n",
    "# Sample test cases\n",
    "# print(rotate_list([1, 2, 3, 4, 5], 2))  # Output: [4, 5, 1, 2, 3]\n",
    "# print(rotate_list(['a', 'b', 'c', 'd', 'e'], 3))  # Output: ['c', 'd', 'e', 'a', 'b']"
   ]
  },
  {
   "cell_type": "code",
   "execution_count": 4,
   "id": "81e48af9-29f7-4afa-9a1a-94986f23ea60",
   "metadata": {},
   "outputs": [
    {
     "name": "stdout",
     "output_type": "stream",
     "text": [
      "['c', 'd', 'e', 'a', 'b']\n"
     ]
    }
   ],
   "source": [
    "print(rotate_list(['a', 'b', 'c', 'd', 'e'], 3))"
   ]
  },
  {
   "cell_type": "code",
   "execution_count": null,
   "id": "0a66f420-f49d-4f41-b507-a6413ca7ded0",
   "metadata": {},
   "outputs": [],
   "source": []
  }
 ],
 "metadata": {
  "kernelspec": {
   "display_name": "Python 3 (ipykernel)",
   "language": "python",
   "name": "python3"
  },
  "language_info": {
   "codemirror_mode": {
    "name": "ipython",
    "version": 3
   },
   "file_extension": ".py",
   "mimetype": "text/x-python",
   "name": "python",
   "nbconvert_exporter": "python",
   "pygments_lexer": "ipython3",
   "version": "3.12.4"
  }
 },
 "nbformat": 4,
 "nbformat_minor": 5
}
