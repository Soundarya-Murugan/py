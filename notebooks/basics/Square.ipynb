{
 "cells": [
  {
   "cell_type": "code",
   "execution_count": 15,
   "id": "033494dd-9283-4a66-81fd-649dccb1d6ed",
   "metadata": {},
   "outputs": [],
   "source": [
    "def generate_squares(n):\n",
    "    \n",
    "\n",
    "    # Initialize an empty list to store the squares\n",
    "    squares = [n**2 for n in range(1,6)]\n",
    "\n",
    "    return squares\n",
    "\n",
    "\n",
    "# Sample test cases\n",
    "#print(generate_squares(5))  # Output: [1, 4, 9, 16, 25]\n",
    "#print(generate_squares(0))  # Output: []\n",
    "#print(generate_squares(3))  # Output: [1, 4, 9]\n"
   ]
  },
  {
   "cell_type": "code",
   "execution_count": 16,
   "id": "8e14f044-d482-4cf1-85c5-d5b1e3c922c8",
   "metadata": {},
   "outputs": [
    {
     "name": "stdout",
     "output_type": "stream",
     "text": [
      "[1, 4, 9, 16, 25]\n"
     ]
    }
   ],
   "source": [
    "print(generate_squares(5))"
   ]
  },
  {
   "cell_type": "code",
   "execution_count": null,
   "id": "0eb07efa-28fd-4906-98bc-bdc548a7078a",
   "metadata": {},
   "outputs": [],
   "source": []
  },
  {
   "cell_type": "code",
   "execution_count": null,
   "id": "b34d7734-a3f7-41a1-b24c-0258d0541fb2",
   "metadata": {},
   "outputs": [],
   "source": []
  }
 ],
 "metadata": {
  "kernelspec": {
   "display_name": "Python 3 (ipykernel)",
   "language": "python",
   "name": "python3"
  },
  "language_info": {
   "codemirror_mode": {
    "name": "ipython",
    "version": 3
   },
   "file_extension": ".py",
   "mimetype": "text/x-python",
   "name": "python",
   "nbconvert_exporter": "python",
   "pygments_lexer": "ipython3",
   "version": "3.12.4"
  }
 },
 "nbformat": 4,
 "nbformat_minor": 5
}
