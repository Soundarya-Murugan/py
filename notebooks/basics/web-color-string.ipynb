{
 "cells": [
  {
   "cell_type": "code",
   "execution_count": 11,
   "id": "2d789293-50d9-4462-acf2-8df3b89fb065",
   "metadata": {},
   "outputs": [],
   "source": [
    "import webcolors"
   ]
  },
  {
   "cell_type": "code",
   "execution_count": 11,
   "id": "cee18b2f-114d-4db8-9532-b2ecbd1acb23",
   "metadata": {},
   "outputs": [],
   "source": [
    "#Webcolors using by string it will return that hex color code is true or flas"
   ]
  },
  {
   "cell_type": "code",
   "execution_count": 12,
   "id": "a1ebcacf-4cff-45b6-ad4b-fd1336ec6dd3",
   "metadata": {},
   "outputs": [],
   "source": [
    "def is_valid_hex_color(color):\n",
    "    try:\n",
    "        webcolors.hex_to_rgb(color)\n",
    "        return True\n",
    "    except Exception as e:\n",
    "        return False"
   ]
  },
  {
   "cell_type": "code",
   "execution_count": 13,
   "id": "0a93bf6f-1b5e-4421-8aeb-95956d57ed72",
   "metadata": {},
   "outputs": [
    {
     "name": "stdout",
     "output_type": "stream",
     "text": [
      "True\n"
     ]
    }
   ],
   "source": [
    "# Examples\n",
    "print(is_valid_hex_color(\"#FFF\"))  # True"
   ]
  },
  {
   "cell_type": "code",
   "execution_count": 14,
   "id": "ac670529-7172-4af2-a909-f070453d1d02",
   "metadata": {},
   "outputs": [
    {
     "name": "stdout",
     "output_type": "stream",
     "text": [
      "True\n"
     ]
    }
   ],
   "source": [
    "print(is_valid_hex_color(\"#123ABC\"))  # True"
   ]
  },
  {
   "cell_type": "code",
   "execution_count": 15,
   "id": "163f5aaa-3f48-4666-ac47-1889b652ed8e",
   "metadata": {},
   "outputs": [
    {
     "name": "stdout",
     "output_type": "stream",
     "text": [
      "False\n"
     ]
    }
   ],
   "source": [
    "print(is_valid_hex_color(\"#123ABCG\"))  # False"
   ]
  },
  {
   "cell_type": "code",
   "execution_count": null,
   "id": "059ffea0-6044-4767-b554-18f9f752dc83",
   "metadata": {},
   "outputs": [],
   "source": []
  }
 ],
 "metadata": {
  "kernelspec": {
   "display_name": "Python 3 (ipykernel)",
   "language": "python",
   "name": "python3"
  },
  "language_info": {
   "codemirror_mode": {
    "name": "ipython",
    "version": 3
   },
   "file_extension": ".py",
   "mimetype": "text/x-python",
   "name": "python",
   "nbconvert_exporter": "python",
   "pygments_lexer": "ipython3",
   "version": "3.12.4"
  }
 },
 "nbformat": 4,
 "nbformat_minor": 5
}
