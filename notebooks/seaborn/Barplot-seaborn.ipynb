{
 "cells": [
  {
   "cell_type": "code",
   "execution_count": 21,
   "id": "b713cc71-9d93-4abb-b904-8e2c1bc32768",
   "metadata": {},
   "outputs": [],
   "source": [
    "#Bar Plot with Error Bars"
   ]
  },
  {
   "cell_type": "code",
   "execution_count": 22,
   "id": "af2c40d2-553e-476c-b86c-ecc07b81bd55",
   "metadata": {},
   "outputs": [],
   "source": [
    "import seaborn as sns"
   ]
  },
  {
   "cell_type": "code",
   "execution_count": 23,
   "id": "4bf54bbd-06be-4023-bb68-de94f79726ff",
   "metadata": {},
   "outputs": [],
   "source": [
    "import matplotlib.pyplot as plt"
   ]
  },
  {
   "cell_type": "code",
   "execution_count": 24,
   "id": "042d810a-352e-4aef-a0fa-19507474b9e7",
   "metadata": {},
   "outputs": [],
   "source": [
    "import pandas as pd"
   ]
  },
  {
   "cell_type": "code",
   "execution_count": 25,
   "id": "93dfeef0-757c-4ad3-8d3e-90cd65ae57a8",
   "metadata": {},
   "outputs": [],
   "source": [
    "import numpy as np"
   ]
  },
  {
   "cell_type": "code",
   "execution_count": 26,
   "id": "342ea5db-ea11-43dc-9794-8e456cf9128a",
   "metadata": {},
   "outputs": [],
   "source": [
    "# Create sample data"
   ]
  },
  {
   "cell_type": "code",
   "execution_count": 27,
   "id": "4c6ec8c7-959b-41c5-b058-cfbb7b532c73",
   "metadata": {},
   "outputs": [],
   "source": [
    "data = pd.DataFrame({\n",
    "    'Category': ['A', 'B', 'C', 'D'],\n",
    "    'Values': [10, 15, 7, 12],\n",
    "    'Error': [1.5, 2.0, 1.0, 1.8]  \n",
    "})\n"
   ]
  },
  {
   "cell_type": "code",
   "execution_count": 28,
   "id": "55d59b13-d5e0-4625-b80a-16156e48f9c9",
   "metadata": {},
   "outputs": [],
   "source": [
    "# Ensure the shape matches the Values"
   ]
  },
  {
   "cell_type": "code",
   "execution_count": 29,
   "id": "e5ff3d6c-365a-411e-ae69-d32cb2c95c3b",
   "metadata": {},
   "outputs": [],
   "source": [
    "# Plot"
   ]
  },
  {
   "cell_type": "code",
   "execution_count": 30,
   "id": "d3363857-8fe3-442e-ba3f-37dd3a8876c3",
   "metadata": {},
   "outputs": [
    {
     "data": {
      "text/plain": [
       "<Figure size 800x600 with 0 Axes>"
      ]
     },
     "execution_count": 30,
     "metadata": {},
     "output_type": "execute_result"
    },
    {
     "data": {
      "text/plain": [
       "<Figure size 800x600 with 0 Axes>"
      ]
     },
     "metadata": {},
     "output_type": "display_data"
    }
   ],
   "source": [
    "plt.figure(figsize=(8, 6))"
   ]
  },
  {
   "cell_type": "code",
   "execution_count": 31,
   "id": "292f2550-15f6-4195-98fb-f0c7a093b261",
   "metadata": {},
   "outputs": [],
   "source": [
    "# Using the correct error bar array matching the y-values."
   ]
  },
  {
   "cell_type": "code",
   "execution_count": 32,
   "id": "10257924-b946-4c46-a670-e0b8117bdc58",
   "metadata": {},
   "outputs": [],
   "source": [
    "# Adding manual error bars matching the y-values (Optional)."
   ]
  },
  {
   "cell_type": "code",
   "execution_count": 33,
   "id": "52701dda-716c-48d5-ae11-3856d469c485",
   "metadata": {},
   "outputs": [
    {
     "data": {
      "image/png": "[encoded data removed]",
      "text/plain": [
       "<Figure size 640x480 with 1 Axes>"
      ]
     },
     "metadata": {},
     "output_type": "display_data"
    }
   ],
   "source": [
    "plt.errorbar(\n",
    "    x=np.arange(len(data['Category'])),  # Bar positions\n",
    "    y=data['Values'],\n",
    "    yerr=data['Error'],\n",
    "    fmt='none',  # No marker\n",
    "    color='black',\n",
    "    capsize=5\n",
    ")\n",
    "plt.title('Bar Plot with Error Bars', fontsize=16)\n",
    "plt.xlabel('Category', fontsize=12)\n",
    "plt.ylabel('Values', fontsize=12)\n",
    "plt.show()"
   ]
  },
  {
   "cell_type": "code",
   "execution_count": null,
   "id": "6f4cf5ab-7bd0-4a38-9728-bc670be803e0",
   "metadata": {},
   "outputs": [],
   "source": []
  },
  {
   "cell_type": "code",
   "execution_count": null,
   "id": "cb045bc0-158c-49b4-8914-64bdc6f839c4",
   "metadata": {},
   "outputs": [],
   "source": []
  }
 ],
 "metadata": {
  "kernelspec": {
   "display_name": "Python 3 (ipykernel)",
   "language": "python",
   "name": "python3"
  },
  "language_info": {
   "codemirror_mode": {
    "name": "ipython",
    "version": 3
   },
   "file_extension": ".py",
   "mimetype": "text/x-python",
   "name": "python",
   "nbconvert_exporter": "python",
   "pygments_lexer": "ipython3",
   "version": "3.12.4"
  }
 },
 "nbformat": 4,
 "nbformat_minor": 5
}
