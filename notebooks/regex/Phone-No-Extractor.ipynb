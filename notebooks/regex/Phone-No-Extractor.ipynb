{
 "cells": [
  {
   "cell_type": "code",
   "execution_count": 2,
   "id": "4a05464f-1808-4515-829b-42202c803470",
   "metadata": {},
   "outputs": [],
   "source": [
    "#Extracts phone numbers in various formats from a block of text."
   ]
  },
  {
   "cell_type": "code",
   "execution_count": 3,
   "id": "e4e62931-4060-47b6-b9c9-dec9d6f07a1e",
   "metadata": {},
   "outputs": [],
   "source": [
    "import re"
   ]
  },
  {
   "cell_type": "code",
   "execution_count": 4,
   "id": "2cb196d2-c98e-4b59-a917-b2d78c405adb",
   "metadata": {},
   "outputs": [],
   "source": [
    "def extract_phone_numbers(text):\n",
    "    phone_regex = r'\\+?\\d[\\d\\s()-]{7,}\\d'\n",
    "    return re.findall(phone_regex, text)\n"
   ]
  },
  {
   "cell_type": "code",
   "execution_count": 5,
   "id": "1a5ff9db-d1e9-4335-a455-9b10a2f4718e",
   "metadata": {},
   "outputs": [],
   "source": [
    "#Test Text"
   ]
  },
  {
   "cell_type": "code",
   "execution_count": 6,
   "id": "c8cceb03-d753-4ed0-9c81-443e535960ce",
   "metadata": {},
   "outputs": [],
   "source": [
    "# Test text\n",
    "text = \"\"\"\n",
    "Here are some phone numbers:\n",
    "- +1-800-555-1234\n",
    "- (123) 456 7890\n",
    "- 1234567890\n",
    "- +91 9876543210\n",
    "\"\"\"\n"
   ]
  },
  {
   "cell_type": "code",
   "execution_count": 7,
   "id": "cbf40fe4-2061-431c-92ce-48bbfcd10889",
   "metadata": {},
   "outputs": [],
   "source": [
    "#Phone Numbers "
   ]
  },
  {
   "cell_type": "code",
   "execution_count": 8,
   "id": "254fb4ff-149f-499c-a5b2-0559826478a5",
   "metadata": {},
   "outputs": [],
   "source": [
    "phones = extract_phone_numbers(text)"
   ]
  },
  {
   "cell_type": "code",
   "execution_count": 9,
   "id": "78b0e8da-fbcd-4c2a-9939-2667bc9ba692",
   "metadata": {},
   "outputs": [
    {
     "name": "stdout",
     "output_type": "stream",
     "text": [
      "Extracted phone numbers:\n"
     ]
    }
   ],
   "source": [
    "print(\"Extracted phone numbers:\")"
   ]
  },
  {
   "cell_type": "code",
   "execution_count": 10,
   "id": "bab3874c-9727-4654-9207-5f092c6a4671",
   "metadata": {},
   "outputs": [
    {
     "name": "stdout",
     "output_type": "stream",
     "text": [
      "+1-800-555-1234\n",
      "- (123) 456 7890\n",
      "- 1234567890\n",
      "+91 9876543210\n"
     ]
    }
   ],
   "source": [
    "for phone in phones:\n",
    "    print(phone)"
   ]
  },
  {
   "cell_type": "code",
   "execution_count": null,
   "id": "17d639e2-8477-43d1-9ed4-0dcb4e9ece4f",
   "metadata": {},
   "outputs": [],
   "source": []
  }
 ],
 "metadata": {
  "kernelspec": {
   "display_name": "Python 3 (ipykernel)",
   "language": "python",
   "name": "python3"
  },
  "language_info": {
   "codemirror_mode": {
    "name": "ipython",
    "version": 3
   },
   "file_extension": ".py",
   "mimetype": "text/x-python",
   "name": "python",
   "nbconvert_exporter": "python",
   "pygments_lexer": "ipython3",
   "version": "3.12.4"
  }
 },
 "nbformat": 4,
 "nbformat_minor": 5
}
