{
 "cells": [
  {
   "cell_type": "code",
   "execution_count": 2,
   "id": "088a8675-3b2e-49a9-9c8d-bee9d7cc1290",
   "metadata": {},
   "outputs": [],
   "source": [
    "import re\n",
    "\n"
   ]
  },
  {
   "cell_type": "code",
   "execution_count": 4,
   "id": "94750c02-34d3-4906-a502-fc7cec4520bc",
   "metadata": {},
   "outputs": [],
   "source": [
    "def is_valid_email(email):\n",
    "    # Regular expression for validating an email\n",
    "    email_regex = r'^[a-zA-Z0-9_.+-]+@[a-zA-Z0-9-]+\\.[a-zA-Z0-9-.]+$'\n",
    "    return bool(re.match(email_regex, email))\n",
    "\n"
   ]
  },
  {
   "cell_type": "code",
   "execution_count": 6,
   "id": "e6d2854b-8952-4c04-8b64-062333debaff",
   "metadata": {},
   "outputs": [],
   "source": [
    "# Test cases\n",
    "emails = [\n",
    "    \"test@example.com\",\n",
    "    \"user.name+tag+sorting@example.com\",\n",
    "    \"user@sub.example.com\",\n",
    "    \"invalid-email\",\n",
    "    \"@missinguser.com\",\n",
    "    \"user@.com\"\n",
    "]\n",
    "\n",
    "\n"
   ]
  },
  {
   "cell_type": "code",
   "execution_count": 7,
   "id": "9ee86fe5-4977-4f00-bdec-2c5a041c865f",
   "metadata": {},
   "outputs": [
    {
     "name": "stdout",
     "output_type": "stream",
     "text": [
      "test@example.com: Valid\n",
      "user.name+tag+sorting@example.com: Valid\n",
      "user@sub.example.com: Valid\n",
      "invalid-email: Invalid\n",
      "@missinguser.com: Invalid\n",
      "user@.com: Invalid\n"
     ]
    }
   ],
   "source": [
    "for email in emails:\n",
    "    print(f\"{email}: {'Valid' if is_valid_email(email) else 'Invalid'}\")"
   ]
  },
  {
   "cell_type": "code",
   "execution_count": null,
   "id": "5235332b-2e8a-4723-8cd1-f10748f61da5",
   "metadata": {},
   "outputs": [],
   "source": []
  }
 ],
 "metadata": {
  "kernelspec": {
   "display_name": "Python 3 (ipykernel)",
   "language": "python",
   "name": "python3"
  },
  "language_info": {
   "codemirror_mode": {
    "name": "ipython",
    "version": 3
   },
   "file_extension": ".py",
   "mimetype": "text/x-python",
   "name": "python",
   "nbconvert_exporter": "python",
   "pygments_lexer": "ipython3",
   "version": "3.12.4"
  }
 },
 "nbformat": 4,
 "nbformat_minor": 5
}
