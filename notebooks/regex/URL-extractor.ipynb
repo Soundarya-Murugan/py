{
 "cells": [
  {
   "cell_type": "code",
   "execution_count": 1,
   "id": "8a21cf18-fc58-4465-965d-24d8ba4f1faf",
   "metadata": {},
   "outputs": [],
   "source": [
    "#Finds and extracts all URLs from a given text."
   ]
  },
  {
   "cell_type": "code",
   "execution_count": 2,
   "id": "995f4822-970e-448a-a027-b7ecbfd75050",
   "metadata": {},
   "outputs": [],
   "source": [
    "import re\n"
   ]
  },
  {
   "cell_type": "code",
   "execution_count": 3,
   "id": "fa50e8be-332c-4db3-ae06-43ac8525ac43",
   "metadata": {},
   "outputs": [],
   "source": [
    "def extract_urls(text):\n",
    "    url_regex = r'https?://(?:www\\.)?\\S+\\.\\S+'\n",
    "    return re.findall(url_regex, text)\n",
    "\n"
   ]
  },
  {
   "cell_type": "code",
   "execution_count": 4,
   "id": "ebb2ac84-10de-429a-9fab-8b8cc23ee63c",
   "metadata": {},
   "outputs": [],
   "source": [
    "\n",
    "# Test text\n"
   ]
  },
  {
   "cell_type": "code",
   "execution_count": 5,
   "id": "b1445a47-fdd2-45cb-a10b-d9bf16c137be",
   "metadata": {},
   "outputs": [],
   "source": [
    "text = \"\"\"\n",
    "Check out the following websites:\n",
    "- https://www.example.com\n",
    "- http://openai.com\n",
    "- https://sub.domain.com/page\n",
    "\"\"\"\n",
    "\n"
   ]
  },
  {
   "cell_type": "code",
   "execution_count": 6,
   "id": "c178e7be-02d4-44dd-82ed-23b93784de70",
   "metadata": {},
   "outputs": [],
   "source": [
    "urls = extract_urls(text)\n"
   ]
  },
  {
   "cell_type": "code",
   "execution_count": 7,
   "id": "f1070351-f37c-443f-962a-7bed309c340a",
   "metadata": {},
   "outputs": [
    {
     "name": "stdout",
     "output_type": "stream",
     "text": [
      "Extracted URLs:\n"
     ]
    }
   ],
   "source": [
    "print(\"Extracted URLs:\")\n"
   ]
  },
  {
   "cell_type": "code",
   "execution_count": 8,
   "id": "177002ee-570f-428c-ab57-d682a0433eb2",
   "metadata": {},
   "outputs": [
    {
     "name": "stdout",
     "output_type": "stream",
     "text": [
      "https://www.example.com\n",
      "http://openai.com\n",
      "https://sub.domain.com/page\n"
     ]
    }
   ],
   "source": [
    "for url in urls:\n",
    "    print(url)"
   ]
  },
  {
   "cell_type": "code",
   "execution_count": null,
   "id": "e038ac3e-6ebb-4397-af6e-145dd8b57764",
   "metadata": {},
   "outputs": [],
   "source": []
  }
 ],
 "metadata": {
  "kernelspec": {
   "display_name": "Python 3 (ipykernel)",
   "language": "python",
   "name": "python3"
  },
  "language_info": {
   "codemirror_mode": {
    "name": "ipython",
    "version": 3
   },
   "file_extension": ".py",
   "mimetype": "text/x-python",
   "name": "python",
   "nbconvert_exporter": "python",
   "pygments_lexer": "ipython3",
   "version": "3.12.4"
  }
 },
 "nbformat": 4,
 "nbformat_minor": 5
}
