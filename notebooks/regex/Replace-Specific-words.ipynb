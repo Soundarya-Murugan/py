{
 "cells": [
  {
   "cell_type": "code",
   "execution_count": 2,
   "id": "e73ef794-ac77-4add-880b-9d9684ea7978",
   "metadata": {},
   "outputs": [],
   "source": [
    "import re\n"
   ]
  },
  {
   "cell_type": "code",
   "execution_count": 3,
   "id": "427e9277-6a3d-4c99-96ce-dfb042410399",
   "metadata": {},
   "outputs": [],
   "source": [
    "\n",
    "def replace_words(text, word_dict):\n",
    "    for word, replacement in word_dict.items():\n",
    "        pattern = r'\\b' + re.escape(word) + r'\\b'\n",
    "        text = re.sub(pattern, replacement, text)\n",
    "    return text\n",
    "\n",
    "\n"
   ]
  },
  {
   "cell_type": "code",
   "execution_count": 4,
   "id": "5c54bbbc-c668-4b52-88fc-54d8623d5418",
   "metadata": {},
   "outputs": [],
   "source": [
    "text = \"I love Python. Python is awesome.\"\n"
   ]
  },
  {
   "cell_type": "code",
   "execution_count": 5,
   "id": "21f1ae88-69fd-43af-93d3-55c348682f05",
   "metadata": {},
   "outputs": [],
   "source": [
    "word_dict = {\"Python\": \"Java\"}\n"
   ]
  },
  {
   "cell_type": "code",
   "execution_count": 6,
   "id": "efb4ecca-b034-4fff-843c-e60eb49fa1a1",
   "metadata": {},
   "outputs": [],
   "source": [
    "modified_text = replace_words(text, word_dict)\n"
   ]
  },
  {
   "cell_type": "code",
   "execution_count": 7,
   "id": "a4a299e8-4103-4bb8-9f5b-05847c53981f",
   "metadata": {},
   "outputs": [
    {
     "name": "stdout",
     "output_type": "stream",
     "text": [
      "Modified text: I love Java. Java is awesome.\n"
     ]
    }
   ],
   "source": [
    "print(\"Modified text:\", modified_text)"
   ]
  },
  {
   "cell_type": "code",
   "execution_count": null,
   "id": "9df01a2f-b964-4bbe-9760-3959475fb546",
   "metadata": {},
   "outputs": [],
   "source": []
  }
 ],
 "metadata": {
  "kernelspec": {
   "display_name": "Python 3 (ipykernel)",
   "language": "python",
   "name": "python3"
  },
  "language_info": {
   "codemirror_mode": {
    "name": "ipython",
    "version": 3
   },
   "file_extension": ".py",
   "mimetype": "text/x-python",
   "name": "python",
   "nbconvert_exporter": "python",
   "pygments_lexer": "ipython3",
   "version": "3.12.4"
  }
 },
 "nbformat": 4,
 "nbformat_minor": 5
}
