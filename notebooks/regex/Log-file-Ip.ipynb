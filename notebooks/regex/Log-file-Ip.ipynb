{
 "cells": [
  {
   "cell_type": "code",
   "execution_count": 1,
   "id": "24827424-f598-42cf-8b85-c9519a8da732",
   "metadata": {},
   "outputs": [],
   "source": [
    "#Log File IP Extractor"
   ]
  },
  {
   "cell_type": "code",
   "execution_count": 2,
   "id": "a4ef4431-3b3e-4fea-a6c3-87a5887b0fed",
   "metadata": {},
   "outputs": [],
   "source": [
    "import re"
   ]
  },
  {
   "cell_type": "code",
   "execution_count": 3,
   "id": "83c20e04-0d88-490d-b587-800a1da1fba9",
   "metadata": {},
   "outputs": [],
   "source": [
    "import sys\n"
   ]
  },
  {
   "cell_type": "code",
   "execution_count": 4,
   "id": "e62f4383-dda2-4fc7-ad3a-4a917652cd35",
   "metadata": {},
   "outputs": [],
   "source": [
    "def extract_ips(log_data):\n",
    "    ip_pattern = r'\\b(?:\\d{1,3}\\.){3}\\d{1,3}\\b'\n",
    "    ips = re.findall(ip_pattern, log_data)\n",
    "    if ips:\n",
    "        print(\"IP addresses found:\")\n",
    "        for ip in ips:\n",
    "            print(ip)\n",
    "    else:\n",
    "        print(\"No IP addresses found.\")\n"
   ]
  },
  {
   "cell_type": "code",
   "execution_count": 6,
   "id": "e2d6f819-41db-4218-8d57-1c752fd2142d",
   "metadata": {},
   "outputs": [
    {
     "name": "stdout",
     "output_type": "stream",
     "text": [
      "Usage: python script.py 'log data'\n"
     ]
    }
   ],
   "source": [
    "if __name__ == \"__main__\":\n",
    "    if len(sys.argv) != 2:\n",
    "        print(\"Usage: python script.py 'log data'\")\n",
    "    else:\n",
    "        log_data = sys.argv[1]\n",
    "        extract_ips(log_data)"
   ]
  },
  {
   "cell_type": "code",
   "execution_count": null,
   "id": "e00efb06-e380-4059-a6df-c53b6db0dadb",
   "metadata": {},
   "outputs": [],
   "source": []
  }
 ],
 "metadata": {
  "kernelspec": {
   "display_name": "Python 3 (ipykernel)",
   "language": "python",
   "name": "python3"
  },
  "language_info": {
   "codemirror_mode": {
    "name": "ipython",
    "version": 3
   },
   "file_extension": ".py",
   "mimetype": "text/x-python",
   "name": "python",
   "nbconvert_exporter": "python",
   "pygments_lexer": "ipython3",
   "version": "3.12.4"
  }
 },
 "nbformat": 4,
 "nbformat_minor": 5
}
