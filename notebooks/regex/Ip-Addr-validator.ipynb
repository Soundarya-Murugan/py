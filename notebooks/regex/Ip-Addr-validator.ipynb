{
 "cells": [
  {
   "cell_type": "code",
   "execution_count": 1,
   "id": "865d5db3-6d37-46d8-938a-27cd34e77119",
   "metadata": {},
   "outputs": [],
   "source": [
    "#Validates if a string is a valid IPv4 address."
   ]
  },
  {
   "cell_type": "code",
   "execution_count": 2,
   "id": "393c421b-00d1-4e3e-8a25-611537f012ee",
   "metadata": {},
   "outputs": [],
   "source": [
    "import re\n",
    "\n"
   ]
  },
  {
   "cell_type": "code",
   "execution_count": 3,
   "id": "9fdc7f96-08a5-4211-8761-414b9fa71c1c",
   "metadata": {},
   "outputs": [],
   "source": [
    "def is_valid_ip(ip):\n",
    "    ip_regex = r'^((25[0-5]|2[0-4][0-9]|[01]?[0-9][0-9]?)\\.){3}(25[0-5]|2[0-4][0-9]|[01]?[0-9][0-9]?)$'\n",
    "    return bool(re.match(ip_regex, ip))\n",
    "\n"
   ]
  },
  {
   "cell_type": "code",
   "execution_count": 4,
   "id": "c626f894-e456-4f68-b036-39afa562bf1a",
   "metadata": {},
   "outputs": [],
   "source": [
    "# Test cases\n"
   ]
  },
  {
   "cell_type": "code",
   "execution_count": 5,
   "id": "a5b47406-5a09-4da7-8d6b-f372ba0b225a",
   "metadata": {},
   "outputs": [],
   "source": [
    "ips = [\n",
    "    \"192.168.1.1\",\n",
    "    \"255.255.255.255\",\n",
    "    \"0.0.0.0\",\n",
    "    \"300.168.1.1\",\n",
    "    \"abc.def.ghi.jkl\"\n",
    "]\n"
   ]
  },
  {
   "cell_type": "code",
   "execution_count": 6,
   "id": "d23f33de-6b1b-4386-8495-ac7b838a5a34",
   "metadata": {},
   "outputs": [],
   "source": [
    "#Print valid "
   ]
  },
  {
   "cell_type": "code",
   "execution_count": 7,
   "id": "fc91a60a-ad99-4c7a-b7f3-d29e96e00a27",
   "metadata": {},
   "outputs": [
    {
     "name": "stdout",
     "output_type": "stream",
     "text": [
      "192.168.1.1: Valid\n",
      "255.255.255.255: Valid\n",
      "0.0.0.0: Valid\n",
      "300.168.1.1: Invalid\n",
      "abc.def.ghi.jkl: Invalid\n"
     ]
    }
   ],
   "source": [
    "\n",
    "for ip in ips:\n",
    "    print(f\"{ip}: {'Valid' if is_valid_ip(ip) else 'Invalid'}\")"
   ]
  },
  {
   "cell_type": "code",
   "execution_count": null,
   "id": "c79c6450-62ac-47f6-9662-879a1c3bd0f0",
   "metadata": {},
   "outputs": [],
   "source": []
  }
 ],
 "metadata": {
  "kernelspec": {
   "display_name": "Python 3 (ipykernel)",
   "language": "python",
   "name": "python3"
  },
  "language_info": {
   "codemirror_mode": {
    "name": "ipython",
    "version": 3
   },
   "file_extension": ".py",
   "mimetype": "text/x-python",
   "name": "python",
   "nbconvert_exporter": "python",
   "pygments_lexer": "ipython3",
   "version": "3.12.4"
  }
 },
 "nbformat": 4,
 "nbformat_minor": 5
}
