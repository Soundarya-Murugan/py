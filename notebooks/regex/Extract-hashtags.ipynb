{
 "cells": [
  {
   "cell_type": "code",
   "execution_count": 1,
   "id": "bde2c299-9d55-440e-9292-7f4b59e12c5f",
   "metadata": {},
   "outputs": [],
   "source": [
    "#Extract Hashtags from Social Media Text"
   ]
  },
  {
   "cell_type": "code",
   "execution_count": 2,
   "id": "6867ac3f-6a90-417d-87b3-a6017256e88d",
   "metadata": {},
   "outputs": [],
   "source": [
    "import re"
   ]
  },
  {
   "cell_type": "code",
   "execution_count": 3,
   "id": "8547b334-557f-4ad0-972f-04dcbcb6a3e6",
   "metadata": {},
   "outputs": [],
   "source": [
    "import sys"
   ]
  },
  {
   "cell_type": "code",
   "execution_count": 4,
   "id": "40cc58e9-9783-4049-89e0-e4819aedb289",
   "metadata": {},
   "outputs": [],
   "source": [
    "def extract_hashtags(text):\n",
    "    hashtag_pattern = r'#\\w+'\n",
    "    hashtags = re.findall(hashtag_pattern, text)\n",
    "    if hashtags:\n",
    "        print(\"Hashtags found:\")\n",
    "        for hashtag in hashtags:\n",
    "            print(hashtag)\n",
    "    else:\n",
    "        print(\"No hashtags found.\")"
   ]
  },
  {
   "cell_type": "code",
   "execution_count": 5,
   "id": "cd666183-ad03-46c6-9b5a-059db8b997d2",
   "metadata": {},
   "outputs": [
    {
     "name": "stdout",
     "output_type": "stream",
     "text": [
      "Usage: python script.py 'social media text'\n"
     ]
    }
   ],
   "source": [
    "if __name__ == \"__main__\":\n",
    "    if len(sys.argv) != 2:\n",
    "        print(\"Usage: python script.py 'social media text'\")\n",
    "    else:\n",
    "        input_text = sys.argv[1]\n",
    "        extract_hashtags(input_text)"
   ]
  },
  {
   "cell_type": "code",
   "execution_count": null,
   "id": "d5e12734-8fad-4c61-94bb-4480e2a9c872",
   "metadata": {},
   "outputs": [],
   "source": []
  }
 ],
 "metadata": {
  "kernelspec": {
   "display_name": "Python 3 (ipykernel)",
   "language": "python",
   "name": "python3"
  },
  "language_info": {
   "codemirror_mode": {
    "name": "ipython",
    "version": 3
   },
   "file_extension": ".py",
   "mimetype": "text/x-python",
   "name": "python",
   "nbconvert_exporter": "python",
   "pygments_lexer": "ipython3",
   "version": "3.12.4"
  }
 },
 "nbformat": 4,
 "nbformat_minor": 5
}
