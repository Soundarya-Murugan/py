{
 "cells": [
  {
   "cell_type": "code",
   "execution_count": 1,
   "id": "0e5fb7dd-7f94-4aad-977a-6e511d12dc0a",
   "metadata": {},
   "outputs": [],
   "source": [
    "#Validates if a username meets specific criteria (e.g., length, characters)."
   ]
  },
  {
   "cell_type": "code",
   "execution_count": 2,
   "id": "bbef4d41-c9b6-4f80-9370-a0722ea70eb1",
   "metadata": {},
   "outputs": [],
   "source": [
    "import re\n",
    "\n"
   ]
  },
  {
   "cell_type": "code",
   "execution_count": 3,
   "id": "e136a27b-7ac3-4d33-95e2-2ca1c60b3612",
   "metadata": {},
   "outputs": [],
   "source": [
    "def is_valid_username(username):\n",
    "    username_regex = r'^[a-zA-Z0-9_]{5,15}$'\n",
    "    return bool(re.match(username_regex, username))\n"
   ]
  },
  {
   "cell_type": "code",
   "execution_count": 4,
   "id": "a281d605-20c8-4376-95c0-6fe46fd536f5",
   "metadata": {},
   "outputs": [],
   "source": [
    "\n",
    "# Test cases\n"
   ]
  },
  {
   "cell_type": "code",
   "execution_count": 5,
   "id": "e9645ff5-d86e-4585-b648-13ec3ca6f3dd",
   "metadata": {},
   "outputs": [],
   "source": [
    "usernames = [\n",
    "    \"user_123\",\n",
    "    \"a\",\n",
    "    \"toolongusername123456\",\n",
    "    \"valid_user\",\n",
    "    \"invalid-user!\"\n",
    "]\n",
    "\n"
   ]
  },
  {
   "cell_type": "code",
   "execution_count": 6,
   "id": "5ba7bb6a-a284-4ac2-9663-bbf3385fb6cf",
   "metadata": {},
   "outputs": [
    {
     "name": "stdout",
     "output_type": "stream",
     "text": [
      "user_123: Valid\n",
      "a: Invalid\n",
      "toolongusername123456: Invalid\n",
      "valid_user: Valid\n",
      "invalid-user!: Invalid\n"
     ]
    }
   ],
   "source": [
    "for username in usernames:\n",
    "    print(f\"{username}: {'Valid' if is_valid_username(username) else 'Invalid'}\")"
   ]
  },
  {
   "cell_type": "code",
   "execution_count": null,
   "id": "c830b75d-e9dd-4f89-bb65-940441ea9863",
   "metadata": {},
   "outputs": [],
   "source": []
  }
 ],
 "metadata": {
  "kernelspec": {
   "display_name": "Python 3 (ipykernel)",
   "language": "python",
   "name": "python3"
  },
  "language_info": {
   "codemirror_mode": {
    "name": "ipython",
    "version": 3
   },
   "file_extension": ".py",
   "mimetype": "text/x-python",
   "name": "python",
   "nbconvert_exporter": "python",
   "pygments_lexer": "ipython3",
   "version": "3.12.4"
  }
 },
 "nbformat": 4,
 "nbformat_minor": 5
}
