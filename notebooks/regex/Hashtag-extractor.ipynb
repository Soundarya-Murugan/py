{
 "cells": [
  {
   "cell_type": "code",
   "execution_count": 2,
   "id": "e4a5e0a2-6f7e-45ac-9396-e52cfc1b1e99",
   "metadata": {},
   "outputs": [],
   "source": [
    "import re\n",
    "\n"
   ]
  },
  {
   "cell_type": "code",
   "execution_count": 6,
   "id": "3f1855e5-2abd-4251-a051-cdcad6109383",
   "metadata": {},
   "outputs": [],
   "source": [
    "def extract_hashtags(text):\n",
    "    hashtag_regex = r'#\\w+'\n",
    "    return re.findall(hashtag_regex, text)"
   ]
  },
  {
   "cell_type": "code",
   "execution_count": 8,
   "id": "60d56b0c-7497-49bf-9827-8e7ffadfa7d9",
   "metadata": {},
   "outputs": [],
   "source": [
    "# Test text\n",
    "text = \"\"\"\n",
    "Today is a great day! #sunny #weekend #fun\n",
    "Let's enjoy the #sunshine and have a #picnic.\n",
    "\"\"\"\n",
    "\n",
    "\n"
   ]
  },
  {
   "cell_type": "code",
   "execution_count": 9,
   "id": "1c999943-3b63-4cf7-b4d4-c29bf9acb7c4",
   "metadata": {},
   "outputs": [],
   "source": [
    "hashtags = extract_hashtags(text)\n"
   ]
  },
  {
   "cell_type": "code",
   "execution_count": 10,
   "id": "d24c8ca4-354c-4837-905d-637339808204",
   "metadata": {},
   "outputs": [
    {
     "name": "stdout",
     "output_type": "stream",
     "text": [
      "Extracted hashtags:\n"
     ]
    }
   ],
   "source": [
    "print(\"Extracted hashtags:\")\n"
   ]
  },
  {
   "cell_type": "code",
   "execution_count": 12,
   "id": "a6410458-2b1b-4dd9-9e91-e686505003f8",
   "metadata": {},
   "outputs": [
    {
     "name": "stdout",
     "output_type": "stream",
     "text": [
      "#sunny\n",
      "#weekend\n",
      "#fun\n",
      "#sunshine\n",
      "#picnic\n"
     ]
    }
   ],
   "source": [
    "for hashtag in hashtags:\n",
    "    print(hashtag)"
   ]
  },
  {
   "cell_type": "code",
   "execution_count": null,
   "id": "c5482f97-ebff-458e-ab21-0fc5eb171251",
   "metadata": {},
   "outputs": [],
   "source": []
  }
 ],
 "metadata": {
  "kernelspec": {
   "display_name": "Python 3 (ipykernel)",
   "language": "python",
   "name": "python3"
  },
  "language_info": {
   "codemirror_mode": {
    "name": "ipython",
    "version": 3
   },
   "file_extension": ".py",
   "mimetype": "text/x-python",
   "name": "python",
   "nbconvert_exporter": "python",
   "pygments_lexer": "ipython3",
   "version": "3.12.4"
  }
 },
 "nbformat": 4,
 "nbformat_minor": 5
}
