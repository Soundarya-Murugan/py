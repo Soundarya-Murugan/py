{
 "cells": [
  {
   "cell_type": "code",
   "execution_count": 1,
   "id": "8ea98f30-f337-4c87-b965-6617ff8c72c9",
   "metadata": {},
   "outputs": [],
   "source": [
    "#Validates a date format (e.g., DD/MM/YYYY)."
   ]
  },
  {
   "cell_type": "code",
   "execution_count": 2,
   "id": "e718553b-6fd3-436e-b170-7ece3af964bc",
   "metadata": {},
   "outputs": [],
   "source": [
    "import re\n",
    "\n"
   ]
  },
  {
   "cell_type": "code",
   "execution_count": 3,
   "id": "f9a77303-bc6a-4f42-861b-5aef4db6c66d",
   "metadata": {},
   "outputs": [],
   "source": [
    "def is_valid_date(date):\n",
    "    date_regex = r'^(0[1-9]|[12][0-9]|3[01])/(0[1-9]|1[0-2])/\\d{4}$'\n",
    "    return bool(re.match(date_regex, date))\n"
   ]
  },
  {
   "cell_type": "code",
   "execution_count": 4,
   "id": "ad8fa454-e3e6-440f-b600-31d465c96614",
   "metadata": {},
   "outputs": [],
   "source": [
    "# Test cases\n",
    "dates = [\n",
    "    \"31/12/2020\",\n",
    "    \"01/01/2000\",\n",
    "    \"29/02/2021\",\n",
    "    \"32/01/2021\",\n",
    "    \"12/13/2021\"\n",
    "]\n"
   ]
  },
  {
   "cell_type": "code",
   "execution_count": 5,
   "id": "9da8dd40-c96f-4320-bbfe-041af30fb5a8",
   "metadata": {},
   "outputs": [],
   "source": [
    "#Print the date"
   ]
  },
  {
   "cell_type": "code",
   "execution_count": 6,
   "id": "cc7adac7-bb65-43d9-9058-dab81e7dfc62",
   "metadata": {},
   "outputs": [
    {
     "name": "stdout",
     "output_type": "stream",
     "text": [
      "31/12/2020: Valid\n",
      "01/01/2000: Valid\n",
      "29/02/2021: Valid\n",
      "32/01/2021: Invalid\n",
      "12/13/2021: Invalid\n"
     ]
    }
   ],
   "source": [
    "\n",
    "for date in dates:\n",
    "    print(f\"{date}: {'Valid' if is_valid_date(date) else 'Invalid'}\")"
   ]
  },
  {
   "cell_type": "code",
   "execution_count": null,
   "id": "056a7325-4f1f-44f5-8577-d8d9a076bb86",
   "metadata": {},
   "outputs": [],
   "source": []
  }
 ],
 "metadata": {
  "kernelspec": {
   "display_name": "Python 3 (ipykernel)",
   "language": "python",
   "name": "python3"
  },
  "language_info": {
   "codemirror_mode": {
    "name": "ipython",
    "version": 3
   },
   "file_extension": ".py",
   "mimetype": "text/x-python",
   "name": "python",
   "nbconvert_exporter": "python",
   "pygments_lexer": "ipython3",
   "version": "3.12.4"
  }
 },
 "nbformat": 4,
 "nbformat_minor": 5
}
