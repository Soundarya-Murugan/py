{
 "cells": [
  {
   "cell_type": "code",
   "execution_count": 3,
   "id": "b7d0205b-edfc-436f-b27e-b33b59c1a0da",
   "metadata": {},
   "outputs": [],
   "source": [
    "# Link Extraction"
   ]
  },
  {
   "cell_type": "code",
   "execution_count": 3,
   "id": "d7ab1686-1785-4cbb-a1f1-00cef95afc41",
   "metadata": {},
   "outputs": [],
   "source": [
    "# Extract all the hyperlinks (<a href=\"...\">) from a webpage."
   ]
  },
  {
   "cell_type": "code",
   "execution_count": 4,
   "id": "8204a186-08a1-4801-86b2-912f85a4c49a",
   "metadata": {},
   "outputs": [],
   "source": [
    "import requests"
   ]
  },
  {
   "cell_type": "code",
   "execution_count": 5,
   "id": "29ab5c93-4557-49a2-8578-182d03a2c230",
   "metadata": {},
   "outputs": [],
   "source": [
    "from bs4 import BeautifulSoup"
   ]
  },
  {
   "cell_type": "code",
   "execution_count": 6,
   "id": "a1846ca7-3a1a-4c82-a108-e9223978c6c0",
   "metadata": {},
   "outputs": [],
   "source": [
    "# URL of the page to scrape"
   ]
  },
  {
   "cell_type": "code",
   "execution_count": 7,
   "id": "71888529-03b6-4a9c-ad80-2dbd74aa7f2d",
   "metadata": {},
   "outputs": [],
   "source": [
    "url = \"https://books.toscrape.com/catalogue/category/books/poetry_23/index.html\""
   ]
  },
  {
   "cell_type": "code",
   "execution_count": 8,
   "id": "a2c0fea5-b625-4fa6-88d1-e395901db6ef",
   "metadata": {},
   "outputs": [],
   "source": [
    "# Fetch the HTML content using requests"
   ]
  },
  {
   "cell_type": "code",
   "execution_count": 9,
   "id": "00957c75-4c57-44ee-b230-efdcec315d0e",
   "metadata": {},
   "outputs": [],
   "source": [
    "response = requests.get(url)"
   ]
  },
  {
   "cell_type": "code",
   "execution_count": 10,
   "id": "4fbfe3d3-af31-4ce0-beb4-af53004f5352",
   "metadata": {},
   "outputs": [],
   "source": [
    "# Check if the request was successful"
   ]
  },
  {
   "cell_type": "code",
   "execution_count": 11,
   "id": "285cef95-ff1f-4c95-9800-eaf6957d210c",
   "metadata": {},
   "outputs": [],
   "source": [
    "if response.status_code == 200:\n",
    "    # Parse the HTML content with BeautifulSoup\n",
    "    soup = BeautifulSoup(response.content, 'html.parser')"
   ]
  },
  {
   "cell_type": "code",
   "execution_count": 12,
   "id": "7e150f49-13da-4dd4-a674-2c86f667bc6f",
   "metadata": {},
   "outputs": [],
   "source": [
    "   links = soup.find_all('a')"
   ]
  },
  {
   "cell_type": "code",
   "execution_count": 13,
   "id": "e64fbaf3-dd2c-4231-8caf-08fe5db15238",
   "metadata": {},
   "outputs": [],
   "source": [
    "    # Loop through all the links and print their href attributes"
   ]
  },
  {
   "cell_type": "code",
   "execution_count": 14,
   "id": "d6a717db-c7b9-4220-b958-c121a0c42aa9",
   "metadata": {},
   "outputs": [
    {
     "name": "stdout",
     "output_type": "stream",
     "text": [
      "../../../../index.html\n",
      "../../../../index.html\n",
      "../../books_1/index.html\n",
      "../../books_1/index.html\n",
      "../travel_2/index.html\n",
      "../mystery_3/index.html\n",
      "../historical-fiction_4/index.html\n",
      "../sequential-art_5/index.html\n",
      "../classics_6/index.html\n",
      "../philosophy_7/index.html\n",
      "../romance_8/index.html\n",
      "../womens-fiction_9/index.html\n",
      "../fiction_10/index.html\n",
      "../childrens_11/index.html\n",
      "../religion_12/index.html\n",
      "../nonfiction_13/index.html\n",
      "../music_14/index.html\n",
      "../default_15/index.html\n",
      "../science-fiction_16/index.html\n",
      "../sports-and-games_17/index.html\n",
      "../add-a-comment_18/index.html\n",
      "../fantasy_19/index.html\n",
      "../new-adult_20/index.html\n",
      "../young-adult_21/index.html\n",
      "../science_22/index.html\n",
      "index.html\n",
      "../paranormal_24/index.html\n",
      "../art_25/index.html\n",
      "../psychology_26/index.html\n",
      "../autobiography_27/index.html\n",
      "../parenting_28/index.html\n",
      "../adult-fiction_29/index.html\n",
      "../humor_30/index.html\n",
      "../horror_31/index.html\n",
      "../history_32/index.html\n",
      "../food-and-drink_33/index.html\n",
      "../christian-fiction_34/index.html\n",
      "../business_35/index.html\n",
      "../biography_36/index.html\n",
      "../thriller_37/index.html\n",
      "../contemporary_38/index.html\n",
      "../spirituality_39/index.html\n",
      "../academic_40/index.html\n",
      "../self-help_41/index.html\n",
      "../historical_42/index.html\n",
      "../christian_43/index.html\n",
      "../suspense_44/index.html\n",
      "../short-stories_45/index.html\n",
      "../novels_46/index.html\n",
      "../health_47/index.html\n",
      "../politics_48/index.html\n",
      "../cultural_49/index.html\n",
      "../erotica_50/index.html\n",
      "../crime_51/index.html\n",
      "../../../a-light-in-the-attic_1000/index.html\n",
      "../../../a-light-in-the-attic_1000/index.html\n",
      "../../../the-black-maria_991/index.html\n",
      "../../../the-black-maria_991/index.html\n",
      "../../../shakespeares-sonnets_989/index.html\n",
      "../../../shakespeares-sonnets_989/index.html\n",
      "../../../olio_984/index.html\n",
      "../../../olio_984/index.html\n",
      "../../../you-cant-bury-them-all-poems_961/index.html\n",
      "../../../you-cant-bury-them-all-poems_961/index.html\n",
      "../../../slow-states-of-collapse-poems_960/index.html\n",
      "../../../slow-states-of-collapse-poems_960/index.html\n",
      "../../../untitled-collection-sabbath-poems-2014_953/index.html\n",
      "../../../untitled-collection-sabbath-poems-2014_953/index.html\n",
      "../../../poems-that-make-grown-women-cry_824/index.html\n",
      "../../../poems-that-make-grown-women-cry_824/index.html\n",
      "../../../night-sky-with-exit-wounds_822/index.html\n",
      "../../../night-sky-with-exit-wounds_822/index.html\n",
      "../../../salt_731/index.html\n",
      "../../../salt_731/index.html\n",
      "../../../quarter-life-poetry-poems-for-the-young-broke-and-hangry_727/index.html\n",
      "../../../quarter-life-poetry-poems-for-the-young-broke-and-hangry_727/index.html\n",
      "../../../out-of-print-city-lights-spotlight-no-14_536/index.html\n",
      "../../../out-of-print-city-lights-spotlight-no-14_536/index.html\n",
      "../../../les-fleurs-du-mal_530/index.html\n",
      "../../../les-fleurs-du-mal_530/index.html\n",
      "../../../howl-and-other-poems_522/index.html\n",
      "../../../howl-and-other-poems_522/index.html\n",
      "../../../leave-this-song-behind-teen-poetry-at-its-best_474/index.html\n",
      "../../../leave-this-song-behind-teen-poetry-at-its-best_474/index.html\n",
      "../../../the-collected-poems-of-wb-yeats-the-collected-works-of-wb-yeats-1_441/index.html\n",
      "../../../the-collected-poems-of-wb-yeats-the-collected-works-of-wb-yeats-1_441/index.html\n",
      "../../../the-crossover_398/index.html\n",
      "../../../the-crossover_398/index.html\n",
      "../../../booked_365/index.html\n",
      "../../../booked_365/index.html\n",
      "../../../twenty-love-poems-and-a-song-of-despair_91/index.html\n",
      "../../../twenty-love-poems-and-a-song-of-despair_91/index.html\n"
     ]
    }
   ],
   "source": [
    "    for link in links:\n",
    "        href = link.get('href')\n",
    "        print(href)"
   ]
  },
  {
   "cell_type": "code",
   "execution_count": null,
   "id": "4017b121-57a5-448c-9286-1ce2dfa63276",
   "metadata": {},
   "outputs": [],
   "source": []
  }
 ],
 "metadata": {
  "kernelspec": {
   "display_name": "Python 3 (ipykernel)",
   "language": "python",
   "name": "python3"
  },
  "language_info": {
   "codemirror_mode": {
    "name": "ipython",
    "version": 3
   },
   "file_extension": ".py",
   "mimetype": "text/x-python",
   "name": "python",
   "nbconvert_exporter": "python",
   "pygments_lexer": "ipython3",
   "version": "3.12.4"
  }
 },
 "nbformat": 4,
 "nbformat_minor": 5
}
