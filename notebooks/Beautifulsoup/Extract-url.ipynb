{
 "cells": [
  {
   "cell_type": "code",
   "execution_count": 3,
   "id": "f2182fdf-d43f-48c7-9457-089e57dd2947",
   "metadata": {},
   "outputs": [],
   "source": [
    "#Image Source Scraping"
   ]
  },
  {
   "cell_type": "code",
   "execution_count": 4,
   "id": "2a98daf8-8709-4e74-8bb7-330a20274d3f",
   "metadata": {},
   "outputs": [],
   "source": [
    "#Extract all image URLs (<img src=\"...\">) from a webpage."
   ]
  },
  {
   "cell_type": "code",
   "execution_count": 5,
   "id": "d4832ab0-d9ad-47ac-8b18-54a69654ce27",
   "metadata": {},
   "outputs": [],
   "source": [
    "import requests"
   ]
  },
  {
   "cell_type": "code",
   "execution_count": 6,
   "id": "0b8170d4-a8c7-4650-b544-12cea54951a9",
   "metadata": {},
   "outputs": [],
   "source": [
    "from bs4 import BeautifulSoup"
   ]
  },
  {
   "cell_type": "code",
   "execution_count": 7,
   "id": "19e2905c-7db3-437f-92e2-f5f23e1cea55",
   "metadata": {},
   "outputs": [],
   "source": [
    "# URL of the page to scrape"
   ]
  },
  {
   "cell_type": "code",
   "execution_count": 8,
   "id": "7822c505-9b1c-44fa-9f61-1e6161285aea",
   "metadata": {},
   "outputs": [],
   "source": [
    "url = \"https://books.toscrape.com/catalogue/category/books/poetry_23/index.html\""
   ]
  },
  {
   "cell_type": "code",
   "execution_count": 9,
   "id": "0c4302f7-f26b-4ea3-9546-6c5ddb8b7fa7",
   "metadata": {},
   "outputs": [],
   "source": [
    "# Fetch the HTML content using requests"
   ]
  },
  {
   "cell_type": "code",
   "execution_count": 10,
   "id": "38c02e31-db93-47a6-9c1a-6a9c8410df8c",
   "metadata": {},
   "outputs": [],
   "source": [
    "response = requests.get(url)"
   ]
  },
  {
   "cell_type": "code",
   "execution_count": 11,
   "id": "a32e02bf-221c-4ca3-8394-9af7d28d0fb9",
   "metadata": {},
   "outputs": [],
   "source": [
    "# Check if the request was successful"
   ]
  },
  {
   "cell_type": "code",
   "execution_count": 12,
   "id": "4bce1475-d8f2-489e-82ff-853552984fa8",
   "metadata": {},
   "outputs": [],
   "source": [
    "if response.status_code == 200:\n",
    "    # Parse the HTML content with BeautifulSoup\n",
    "    soup = BeautifulSoup(response.content, 'html.parser')"
   ]
  },
  {
   "cell_type": "code",
   "execution_count": 13,
   "id": "03cfd279-46a1-48ba-8806-8437d18ffec0",
   "metadata": {},
   "outputs": [],
   "source": [
    "    # Find all anchor tags"
   ]
  },
  {
   "cell_type": "code",
   "execution_count": 13,
   "id": "963af9e3-cdaa-44bb-aa75-3f8530e31599",
   "metadata": {},
   "outputs": [],
   "source": [
    "    links = soup.find_all('a')"
   ]
  },
  {
   "cell_type": "code",
   "execution_count": 15,
   "id": "82de1b00-c386-484b-9503-4abec1561c18",
   "metadata": {},
   "outputs": [],
   "source": [
    "    # Loop through all the links and print their href attributes"
   ]
  },
  {
   "cell_type": "code",
   "execution_count": null,
   "id": "2f4e403c-04ed-4684-a23c-ea540d61a48c",
   "metadata": {},
   "outputs": [],
   "source": [
    "    for link in links:\n",
    "        href = link.get('href')\n",
    "        print(href)"
   ]
  }
 ],
 "metadata": {
  "kernelspec": {
   "display_name": "Python 3 (ipykernel)",
   "language": "python",
   "name": "python3"
  },
  "language_info": {
   "codemirror_mode": {
    "name": "ipython",
    "version": 3
   },
   "file_extension": ".py",
   "mimetype": "text/x-python",
   "name": "python",
   "nbconvert_exporter": "python",
   "pygments_lexer": "ipython3",
   "version": "3.12.4"
  }
 },
 "nbformat": 4,
 "nbformat_minor": 5
}
