{
 "cells": [
  {
   "cell_type": "code",
   "execution_count": 45,
   "id": "686db500-795f-4f5e-aeec-138b9dc00a57",
   "metadata": {},
   "outputs": [],
   "source": [
    "#Extracting Table Data"
   ]
  },
  {
   "cell_type": "code",
   "execution_count": 46,
   "id": "5df3a2f3-bce5-491d-acd6-26436476687d",
   "metadata": {},
   "outputs": [],
   "source": [
    "import requests"
   ]
  },
  {
   "cell_type": "code",
   "execution_count": 47,
   "id": "2ca02535-54b9-445e-96f7-66fdcc6de2cd",
   "metadata": {},
   "outputs": [],
   "source": [
    "from bs4 import BeautifulSoup"
   ]
  },
  {
   "cell_type": "code",
   "execution_count": 48,
   "id": "1dd42135-9e1b-47f3-845a-0b5d180c6dad",
   "metadata": {},
   "outputs": [],
   "source": [
    "# URL of the page to scrape"
   ]
  },
  {
   "cell_type": "code",
   "execution_count": 59,
   "id": "3dde8f76-afed-41f3-8903-8b2a56eef67d",
   "metadata": {},
   "outputs": [],
   "source": [
    "url = \"https://books.toscrape.com/catalogue/the-black-maria_991/index.html\""
   ]
  },
  {
   "cell_type": "code",
   "execution_count": 60,
   "id": "8c3480d3-eac2-4367-8d92-a36e9eb0b893",
   "metadata": {},
   "outputs": [],
   "source": [
    "# Fetch the HTML content using requests"
   ]
  },
  {
   "cell_type": "code",
   "execution_count": 61,
   "id": "3a2f577a-1e07-4679-ada4-c3176d2904f1",
   "metadata": {},
   "outputs": [],
   "source": [
    "response = requests.get(url)"
   ]
  },
  {
   "cell_type": "code",
   "execution_count": 62,
   "id": "c997425c-99e7-4182-ac10-f62f1d4bd5ac",
   "metadata": {},
   "outputs": [],
   "source": [
    "# Check if the request was successful"
   ]
  },
  {
   "cell_type": "code",
   "execution_count": 63,
   "id": "b4b985d4-1a73-4bbb-90e2-c5a229dd7f63",
   "metadata": {},
   "outputs": [],
   "source": [
    "    # Parse the HTML content with BeautifulSoup"
   ]
  },
  {
   "cell_type": "code",
   "execution_count": 64,
   "id": "a1e1a05b-b73e-4392-86ad-b1d38530f6c7",
   "metadata": {},
   "outputs": [],
   "source": [
    "    soup = BeautifulSoup(response.content, 'html.parser')"
   ]
  },
  {
   "cell_type": "code",
   "execution_count": 65,
   "id": "13f64639-a314-45b2-b8ad-aa6940490501",
   "metadata": {},
   "outputs": [],
   "source": [
    "    price_element = soup.select_one(\"#content_inner > article > table\")"
   ]
  },
  {
   "cell_type": "code",
   "execution_count": 66,
   "id": "fd0a2fa2-bd34-4cbd-85ae-98871c675faf",
   "metadata": {},
   "outputs": [],
   "source": [
    " # Find the table (if present) and extract rows and columns"
   ]
  },
  {
   "cell_type": "code",
   "execution_count": 67,
   "id": "1dd3d764-807d-4a1b-b10d-a76d6ccb8cc4",
   "metadata": {},
   "outputs": [
    {
     "name": "stdout",
     "output_type": "stream",
     "text": [
      "Price: \n",
      "\n",
      "UPC1dfe412b8ac00530\n",
      "\n",
      "\n",
      "Product TypeBooks\n",
      "\n",
      "\n",
      "Price (excl. tax)£52.15\n",
      "\n",
      "\n",
      "Price (incl. tax)£52.15\n",
      "\n",
      "\n",
      "Tax£0.00\n",
      "\n",
      "\n",
      "Availability\n",
      "In stock (19 available)\n",
      "\n",
      "\n",
      "Number of reviews\n",
      "0\n",
      "\n",
      "\n"
     ]
    }
   ],
   "source": [
    "if price_element:\n",
    "    print(\"Price:\", price_element.text)\n",
    "else:\n",
    "    print(\"Price not found\")"
   ]
  },
  {
   "cell_type": "code",
   "execution_count": null,
   "id": "108d0872-e023-4dc5-b4e8-8e9c3bb58417",
   "metadata": {},
   "outputs": [],
   "source": []
  },
  {
   "cell_type": "code",
   "execution_count": null,
   "id": "ae578218-4f75-4ec5-9ece-1177cdad697e",
   "metadata": {},
   "outputs": [],
   "source": []
  },
  {
   "cell_type": "code",
   "execution_count": null,
   "id": "f208bc9a-707f-47e9-bcd0-c084a044cb36",
   "metadata": {},
   "outputs": [],
   "source": []
  },
  {
   "cell_type": "code",
   "execution_count": null,
   "id": "64b1b40a-e93f-401f-bd8a-1d0c16f4c16a",
   "metadata": {},
   "outputs": [],
   "source": []
  }
 ],
 "metadata": {
  "kernelspec": {
   "display_name": "Python 3 (ipykernel)",
   "language": "python",
   "name": "python3"
  },
  "language_info": {
   "codemirror_mode": {
    "name": "ipython",
    "version": 3
   },
   "file_extension": ".py",
   "mimetype": "text/x-python",
   "name": "python",
   "nbconvert_exporter": "python",
   "pygments_lexer": "ipython3",
   "version": "3.12.4"
  }
 },
 "nbformat": 4,
 "nbformat_minor": 5
}
