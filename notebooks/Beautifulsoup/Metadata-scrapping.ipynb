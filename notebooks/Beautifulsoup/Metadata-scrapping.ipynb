{
 "cells": [
  {
   "cell_type": "code",
   "execution_count": 14,
   "id": "b4766f74-c204-43bb-97e6-9f9266d96363",
   "metadata": {},
   "outputs": [],
   "source": [
    "#Webpage Metadata Scraping"
   ]
  },
  {
   "cell_type": "code",
   "execution_count": 15,
   "id": "798b918f-f286-495d-bfa4-1b04926d7f8a",
   "metadata": {},
   "outputs": [],
   "source": [
    "#Extract metadata such as <meta name=\"description\"> and <meta name=\"keywords\">."
   ]
  },
  {
   "cell_type": "code",
   "execution_count": 16,
   "id": "087a1c9e-7d09-4cdd-85e4-59809cb502f6",
   "metadata": {},
   "outputs": [],
   "source": [
    "import requests"
   ]
  },
  {
   "cell_type": "code",
   "execution_count": 17,
   "id": "bba7d7e3-e269-42f7-9a6f-56dfc07088d1",
   "metadata": {},
   "outputs": [],
   "source": [
    "from bs4 import BeautifulSoup"
   ]
  },
  {
   "cell_type": "code",
   "execution_count": 18,
   "id": "85c5d2f3-ebe6-436f-b609-c095a397d1f5",
   "metadata": {},
   "outputs": [],
   "source": [
    "# URL of the page to scrape"
   ]
  },
  {
   "cell_type": "code",
   "execution_count": 19,
   "id": "7ef55dec-a903-4384-b8ca-07fe65732426",
   "metadata": {},
   "outputs": [],
   "source": [
    "url = \"https://books.toscrape.com/catalogue/category/books/poetry_23/index.html\""
   ]
  },
  {
   "cell_type": "code",
   "execution_count": 20,
   "id": "6404b098-b453-478f-9141-a194b6874ca1",
   "metadata": {},
   "outputs": [],
   "source": [
    "# Fetch the HTML content using requests"
   ]
  },
  {
   "cell_type": "code",
   "execution_count": 21,
   "id": "ec4fd4ff-bad5-4353-a334-7f1f12165f27",
   "metadata": {},
   "outputs": [],
   "source": [
    "response = requests.get(url)"
   ]
  },
  {
   "cell_type": "code",
   "execution_count": 22,
   "id": "381d3b8a-f451-4f3f-b990-5be115894d50",
   "metadata": {},
   "outputs": [],
   "source": [
    "# Check if the request was successful"
   ]
  },
  {
   "cell_type": "code",
   "execution_count": 32,
   "id": "c3e23bce-a16c-4b39-8742-eec203a3640c",
   "metadata": {},
   "outputs": [
    {
     "name": "stdout",
     "output_type": "stream",
     "text": [
      "Description of the book: \n",
      "    \n",
      "\n",
      "Keywords of the book: No keyword found\n"
     ]
    }
   ],
   "source": [
    "if response.status_code == 200:\n",
    "    soup = BeautifulSoup(response.content, 'html.parser')\n",
    "\n",
    "    description = soup.find('meta', {'name': 'description'})\n",
    "    description_data = description['content'] if description else \"No description found\"\n",
    "\n",
    "    keywords = soup.find('meta', {'name': 'keywords'})\n",
    "    keywords_data = keywords['content'] if keywords else \"No keyword found\"\n",
    "    \n",
    "    print(\"Description of the book:\", description_data)\n",
    "    print(\"Keywords of the book:\", keywords_data)\n",
    "\n",
    "\n",
    "else:\n",
    "    print(\"Failed to get the page.\", response.status_code)"
   ]
  },
  {
   "cell_type": "code",
   "execution_count": null,
   "id": "b82c4c27-5c59-4873-94d9-50ad76cbf11c",
   "metadata": {},
   "outputs": [],
   "source": []
  }
 ],
 "metadata": {
  "kernelspec": {
   "display_name": "Python 3 (ipykernel)",
   "language": "python",
   "name": "python3"
  },
  "language_info": {
   "codemirror_mode": {
    "name": "ipython",
    "version": 3
   },
   "file_extension": ".py",
   "mimetype": "text/x-python",
   "name": "python",
   "nbconvert_exporter": "python",
   "pygments_lexer": "ipython3",
   "version": "3.12.4"
  }
 },
 "nbformat": 4,
 "nbformat_minor": 5
}
