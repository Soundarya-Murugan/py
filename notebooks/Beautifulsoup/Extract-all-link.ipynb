{
 "cells": [
  {
   "cell_type": "code",
   "execution_count": 59,
   "id": "0bdd20ac-27d1-4af9-b281-386104bc1ecc",
   "metadata": {},
   "outputs": [],
   "source": [
    "#Using CSS Selectors to Find Elements"
   ]
  },
  {
   "cell_type": "code",
   "execution_count": 60,
   "id": "c748d3a9-cbd6-4927-b9ac-64cab6907166",
   "metadata": {},
   "outputs": [],
   "source": [
    "import requests"
   ]
  },
  {
   "cell_type": "code",
   "execution_count": 61,
   "id": "9955ebea-ec1e-4aa3-954b-e02d5ffd49c6",
   "metadata": {},
   "outputs": [],
   "source": [
    "from bs4 import BeautifulSoup"
   ]
  },
  {
   "cell_type": "code",
   "execution_count": 62,
   "id": "a2deca99-fd3b-4466-9658-496821265147",
   "metadata": {},
   "outputs": [],
   "source": [
    "# URL of the page to scrape"
   ]
  },
  {
   "cell_type": "code",
   "execution_count": 63,
   "id": "f503afcf-5cf5-4272-b785-a8ab92dbf524",
   "metadata": {},
   "outputs": [],
   "source": [
    "url = \"https://books.toscrape.com/catalogue/the-black-maria_991/index.html\""
   ]
  },
  {
   "cell_type": "code",
   "execution_count": 64,
   "id": "ef49d789-a744-4e80-bd91-9c26dfa0de42",
   "metadata": {},
   "outputs": [],
   "source": [
    "# Fetch the HTML content using requests"
   ]
  },
  {
   "cell_type": "code",
   "execution_count": 65,
   "id": "f5445d4c-da2a-4ba9-a426-9627ea25b54a",
   "metadata": {},
   "outputs": [],
   "source": [
    "response = requests.get(url)"
   ]
  },
  {
   "cell_type": "code",
   "execution_count": 66,
   "id": "51d38103-7278-4294-b200-85ee625ed68b",
   "metadata": {},
   "outputs": [],
   "source": [
    "# Check if the request was successful"
   ]
  },
  {
   "cell_type": "code",
   "execution_count": 68,
   "id": "04d2c8fd-29dd-4e13-ab2d-2586a939aeb9",
   "metadata": {},
   "outputs": [],
   "source": [
    "if response.status_code == 200:\n",
    "    html_content = response.content\n",
    "    soup = BeautifulSoup(html_content, 'html.parser')\n"
   ]
  },
  {
   "cell_type": "code",
   "execution_count": 69,
   "id": "72d7a745-680f-4621-a5e4-178eed997517",
   "metadata": {},
   "outputs": [],
   "source": [
    "    # Extract the book title"
   ]
  },
  {
   "cell_type": "code",
   "execution_count": 70,
   "id": "0543b686-7b9a-42fd-b158-ce8ce1f18465",
   "metadata": {},
   "outputs": [],
   "source": [
    "title = soup.select_one('.product_main h1').get_text()\n",
    "\n",
    "    # Extract the price"
   ]
  },
  {
   "cell_type": "code",
   "execution_count": 71,
   "id": "9e899b4c-b305-4194-af42-250facef3a8b",
   "metadata": {},
   "outputs": [],
   "source": [
    "    price = soup.select_one('.price_color').get_text()"
   ]
  },
  {
   "cell_type": "code",
   "execution_count": 72,
   "id": "e8cd094c-0732-456f-ace2-7397fd4b473c",
   "metadata": {},
   "outputs": [],
   "source": [
    "\n",
    "    # Extract the availability"
   ]
  },
  {
   "cell_type": "code",
   "execution_count": 73,
   "id": "084fa6c5-68eb-45a5-a675-9490b71edfeb",
   "metadata": {},
   "outputs": [],
   "source": [
    "    availability = soup.select_one('.availability').get_text(strip=True)"
   ]
  },
  {
   "cell_type": "code",
   "execution_count": 74,
   "id": "bce24e79-e6d4-4bb5-be6a-dbd14395fcea",
   "metadata": {},
   "outputs": [],
   "source": [
    "# Extract the product description"
   ]
  },
  {
   "cell_type": "code",
   "execution_count": 75,
   "id": "69217dbb-61d5-46b2-82f1-3dd2d10f0630",
   "metadata": {},
   "outputs": [],
   "source": [
    "    description = soup.select_one('#product_description + p')\n",
    "    description_text = description.get_text() if description else \"No description available.\""
   ]
  },
  {
   "cell_type": "code",
   "execution_count": 76,
   "id": "bbd5bdbd-28e0-4238-9658-73ed82497de9",
   "metadata": {},
   "outputs": [],
   "source": [
    "    # Extract product information from the table"
   ]
  },
  {
   "cell_type": "code",
   "execution_count": 77,
   "id": "0fa4ed83-fdcb-4e2c-92f9-0eacf56b412a",
   "metadata": {},
   "outputs": [],
   "source": [
    "    product_info = {}\n",
    "    table = soup.select('table.table.table-striped tr')\n",
    "    for row in table:\n",
    "        th = row.find('th').get_text().strip()\n",
    "        td = row.find('td').get_text().strip()\n",
    "        product_info[th] = td"
   ]
  },
  {
   "cell_type": "code",
   "execution_count": 79,
   "id": "2da6d9b6-c4fb-437c-9400-bb5e8b059413",
   "metadata": {},
   "outputs": [
    {
     "name": "stdout",
     "output_type": "stream",
     "text": [
      "Title: The Black Maria\n",
      "Price: £52.15\n",
      "Availability: In stock (19 available)\n",
      "Description: Praise for Aracelis Girmay:\"[Girmay's] every loss—she calls them estrangements—is a yearning for connection across time and place; her every fragment is a bulwark against ruin.\" — O, The Oprah Magazine \"In Aracelis Girmay we have a poet who collects, polishes, and shares stories with such brilliant invention, tenderness, and intellectual liveliness that it is understandabl Praise for Aracelis Girmay:\"[Girmay's] every loss—she calls them estrangements—is a yearning for connection across time and place; her every fragment is a bulwark against ruin.\" — O, The Oprah Magazine \"In Aracelis Girmay we have a poet who collects, polishes, and shares stories with such brilliant invention, tenderness, and intellectual liveliness that it is understandable that we think of her as the blessed curator of our collective histories. There is in her art the vulnerability of one who lives inside of the stories that she gathers in this remarkable collection. Her poems set off alarms even as they transform the world she inhabits, showing us, in the process, exactly what she asks of Romare Bearden’s art: ‘…how not to // assign all blackness near the sea / a captivity.’ This is one of the many sweet contradictions in the black maria, which ‘is a black flag / wounding the pastoral.’ I am deeply thankful that we have a poet of her unique and singular talent writing today.\" —Kwame DawesTaking its name from the moon's dark plains, misidentified as seas by early astronomers, the black maria investigates African diasporic histories, the consequences of racism within American culture, and the question of human identity. Central to this project is a desire to recognize the lives of Eritrean refugees who have been made invisible by years of immigration crisis, refugee status, exile, and resulting statelessness. The recipient of a 2015 Whiting Award for Poetry, Girmay's newest collection elegizes and celebrates life, while wrestling with the humanistic notion of seeing beyond: seeing violence, seeing grace, and seeing each other better.\"to the sea\"great storage house, historyon which we rode, we touchedthe brief pulse of your flutteringpages, spelled with salt & life,your rage, your indifferenceyour gentleness washing our feet,all of you going onwhether or not we live,to you we bring our carnationsyellow & pink, how they floatlike bright sentences atopyour memory's dark hairAracelis Girmay is the author of three poetry collections, the black maria; Kingdom Animalia, which won the Isabella Gardner Award and was a finalist for the NBCC Award; and Teeth. The recipient of a 2015 Whiting Award, she has received grants and fellowships from the Jerome, Cave Canem, and Watson foundations, as well as Civitella Ranieri and the NEA. She currently teaches at Hampshire College's School for Interdisciplinary Arts and in Drew University's low residency MFA program. Originally from Santa Ana, California, she splits her time between New York and Amherst, Massachusetts. ...more\n",
      "Product Information:\n",
      "  UPC: 1dfe412b8ac00530\n",
      "  Product Type: Books\n",
      "  Price (excl. tax): £52.15\n",
      "  Price (incl. tax): £52.15\n",
      "  Tax: £0.00\n",
      "  Availability: In stock (19 available)\n",
      "  Number of reviews: 0\n"
     ]
    }
   ],
   "source": [
    "    # Print extracted information\n",
    "    print(f\"Title: {title}\")\n",
    "    print(f\"Price: {price}\")\n",
    "    print(f\"Availability: {availability}\")\n",
    "    print(f\"Description: {description_text}\")\n",
    "    print(\"Product Information:\")\n",
    "    for key, value in product_info.items():\n",
    "        print(f\"  {key}: {value}\")\n"
   ]
  },
  {
   "cell_type": "code",
   "execution_count": null,
   "id": "4ac4becb-d642-49e3-bab0-bb992edae580",
   "metadata": {},
   "outputs": [],
   "source": []
  }
 ],
 "metadata": {
  "kernelspec": {
   "display_name": "Python 3 (ipykernel)",
   "language": "python",
   "name": "python3"
  },
  "language_info": {
   "codemirror_mode": {
    "name": "ipython",
    "version": 3
   },
   "file_extension": ".py",
   "mimetype": "text/x-python",
   "name": "python",
   "nbconvert_exporter": "python",
   "pygments_lexer": "ipython3",
   "version": "3.12.4"
  }
 },
 "nbformat": 4,
 "nbformat_minor": 5
}
