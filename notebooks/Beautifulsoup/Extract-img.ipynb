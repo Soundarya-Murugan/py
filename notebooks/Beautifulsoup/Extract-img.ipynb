{
 "cells": [
  {
   "cell_type": "code",
   "execution_count": 1,
   "id": "e9a953ce-5c28-4002-9701-1aaab55c90b1",
   "metadata": {},
   "outputs": [],
   "source": [
    "#Image Source Scraping"
   ]
  },
  {
   "cell_type": "code",
   "execution_count": 1,
   "id": "7a0f1296-b812-4dfa-9f83-6110773ca1eb",
   "metadata": {},
   "outputs": [],
   "source": [
    "#Extract all image URLs (<img src=\"...\">) from a webpage."
   ]
  },
  {
   "cell_type": "code",
   "execution_count": 1,
   "id": "4ba673b3-1e89-469c-8283-80f4b9ace878",
   "metadata": {},
   "outputs": [],
   "source": [
    "import requests"
   ]
  },
  {
   "cell_type": "code",
   "execution_count": 2,
   "id": "35c817bd-9c5d-4ab5-9c49-5da87c20fe78",
   "metadata": {},
   "outputs": [],
   "source": [
    "from bs4 import BeautifulSoup"
   ]
  },
  {
   "cell_type": "code",
   "execution_count": 3,
   "id": "3ea1e77a-364b-42ca-8dd6-da3d2a7013da",
   "metadata": {},
   "outputs": [],
   "source": [
    "url = \"https://books.toscrape.com/catalogue/category/books/poetry_23/index.html\""
   ]
  },
  {
   "cell_type": "code",
   "execution_count": 4,
   "id": "765c03c1-e38e-4403-8e94-955dbf3f6b43",
   "metadata": {},
   "outputs": [],
   "source": [
    "response = requests.get(url)"
   ]
  },
  {
   "cell_type": "code",
   "execution_count": 6,
   "id": "b9600aa6-1ed4-47aa-83f4-9506de0c5794",
   "metadata": {},
   "outputs": [],
   "source": [
    "if response.status_code == 200:\n",
    "    # Parse the HTML content with BeautifulSoup\n",
    "    soup = BeautifulSoup(response.content, 'html.parser')"
   ]
  },
  {
   "cell_type": "code",
   "execution_count": 7,
   "id": "dcab2ac5-f060-4fb4-8db9-dc82d70e76bd",
   "metadata": {},
   "outputs": [],
   "source": [
    "    # Find all img tags"
   ]
  },
  {
   "cell_type": "code",
   "execution_count": 8,
   "id": "78a297b5-9ef8-422d-9d5b-b1490d6116b8",
   "metadata": {},
   "outputs": [],
   "source": [
    "    images = soup.find_all('img')"
   ]
  },
  {
   "cell_type": "code",
   "execution_count": 9,
   "id": "5f5925dd-61c0-4c86-b599-cd0796bb877c",
   "metadata": {},
   "outputs": [],
   "source": [
    "    # Loop through all the images and print their 'src' attributes"
   ]
  },
  {
   "cell_type": "code",
   "execution_count": 10,
   "id": "389a9678-49b8-4edc-a9ae-963c2a8d8872",
   "metadata": {},
   "outputs": [
    {
     "name": "stdout",
     "output_type": "stream",
     "text": [
      "../../../../media/cache/2c/da/2cdad67c44b002e7ead0cc35693c0e8b.jpg\n",
      "../../../../media/cache/58/46/5846057e28022268153beff6d352b06c.jpg\n",
      "../../../../media/cache/10/48/1048f63d3b5061cd2f424d20b3f9b666.jpg\n",
      "../../../../media/cache/55/33/553310a7162dfbc2c6d19a84da0df9e1.jpg\n",
      "../../../../media/cache/e9/20/e9203b733126c4a0832a1c7885dc27cf.jpg\n",
      "../../../../media/cache/72/41/72417db983862010ef0c1a25de98c7d7.jpg\n",
      "../../../../media/cache/f9/3b/f93b4a650f03a5d21f2436d7813f42c2.jpg\n",
      "../../../../media/cache/38/64/386468a8c3e6b880664bf7885bf6f726.jpg\n",
      "../../../../media/cache/25/54/2554431c797ec725eea50b3f8a83758c.jpg\n",
      "../../../../media/cache/3f/41/3f4160ada0b16e3c64cd2d0dffe781c8.jpg\n",
      "../../../../media/cache/c8/f2/c8f297fab080ddd02b3ed5c17b83af85.jpg\n",
      "../../../../media/cache/93/d5/93d5c64abfad9ed6a0cb2e26f19f1a1e.jpg\n",
      "../../../../media/cache/36/5b/365b3ab7ab72a6258873716aef6d5c1a.jpg\n",
      "../../../../media/cache/b7/29/b7293f602efb0c17e305077f8175888a.jpg\n",
      "../../../../media/cache/31/c7/31c7c5ce7b04d227aa36ecb250b9dad5.jpg\n",
      "../../../../media/cache/7e/93/7e934132cd03486649fb492fe702f704.jpg\n",
      "../../../../media/cache/9f/35/9f351ca1978128c60a3b7f85987075b3.jpg\n",
      "../../../../media/cache/8f/46/8f46bb13feb3a4440a27dfcf688fbaa6.jpg\n",
      "../../../../media/cache/df/ab/dfab1d94f9190df7c13b63a093a6d16e.jpg\n"
     ]
    }
   ],
   "source": [
    "    for image in images:\n",
    "        src = image.get('src')\n",
    "        print(src)"
   ]
  },
  {
   "cell_type": "code",
   "execution_count": null,
   "id": "cb651ed8-cdba-4001-a1a0-08ffaad8e62b",
   "metadata": {},
   "outputs": [],
   "source": []
  }
 ],
 "metadata": {
  "kernelspec": {
   "display_name": "Python 3 (ipykernel)",
   "language": "python",
   "name": "python3"
  },
  "language_info": {
   "codemirror_mode": {
    "name": "ipython",
    "version": 3
   },
   "file_extension": ".py",
   "mimetype": "text/x-python",
   "name": "python",
   "nbconvert_exporter": "python",
   "pygments_lexer": "ipython3",
   "version": "3.12.4"
  }
 },
 "nbformat": 4,
 "nbformat_minor": 5
}
