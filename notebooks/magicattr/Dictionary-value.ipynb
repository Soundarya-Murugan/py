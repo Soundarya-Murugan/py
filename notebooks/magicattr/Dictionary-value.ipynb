{
 "cells": [
  {
   "cell_type": "code",
   "execution_count": 1,
   "id": "0f9f6eca-6981-4dda-95bb-0c43cfc24156",
   "metadata": {},
   "outputs": [],
   "source": [
    "from dotmap import DotMap"
   ]
  },
  {
   "cell_type": "code",
   "execution_count": 2,
   "id": "b65d3c8f-bf47-4a69-8708-bdaecda15a5d",
   "metadata": {},
   "outputs": [],
   "source": [
    "data = DotMap({'x': {'y': {'z': 100}}})"
   ]
  },
  {
   "cell_type": "code",
   "execution_count": 3,
   "id": "72073689-a5d6-4df3-b619-861f83637d73",
   "metadata": {},
   "outputs": [
    {
     "name": "stdout",
     "output_type": "stream",
     "text": [
      "100\n"
     ]
    }
   ],
   "source": [
    "# Accessing nested attributes with dot notation\n",
    "print(data.x.y.z) "
   ]
  },
  {
   "cell_type": "code",
   "execution_count": null,
   "id": "e4ac2ce5-d69d-40c6-980d-4457301f3e9c",
   "metadata": {},
   "outputs": [],
   "source": []
  }
 ],
 "metadata": {
  "kernelspec": {
   "display_name": "Python 3 (ipykernel)",
   "language": "python",
   "name": "python3"
  },
  "language_info": {
   "codemirror_mode": {
    "name": "ipython",
    "version": 3
   },
   "file_extension": ".py",
   "mimetype": "text/x-python",
   "name": "python",
   "nbconvert_exporter": "python",
   "pygments_lexer": "ipython3",
   "version": "3.12.4"
  }
 },
 "nbformat": 4,
 "nbformat_minor": 5
}
