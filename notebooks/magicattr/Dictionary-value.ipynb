{
 "cells": [
  {
   "cell_type": "code",
   "execution_count": 1,
   "id": "0f9f6eca-6981-4dda-95bb-0c43cfc24156",
   "metadata": {},
   "outputs": [
    {
     "name": "stdout",
     "output_type": "stream",
     "text": [
      "100\n"
     ]
    }
   ],
   "source": [
    "from dotmap import DotMap\n",
    "\n",
    "data = DotMap({'x': {'y': {'z': 100}}})\n",
    "\n",
    "# Accessing nested attributes with dot notation\n",
    "print(data.x.y.z)  # Output: 100\n"
   ]
  },
  {
   "cell_type": "code",
   "execution_count": null,
   "id": "b65d3c8f-bf47-4a69-8708-bdaecda15a5d",
   "metadata": {},
   "outputs": [],
   "source": []
  }
 ],
 "metadata": {
  "kernelspec": {
   "display_name": "Python 3 (ipykernel)",
   "language": "python",
   "name": "python3"
  },
  "language_info": {
   "codemirror_mode": {
    "name": "ipython",
    "version": 3
   },
   "file_extension": ".py",
   "mimetype": "text/x-python",
   "name": "python",
   "nbconvert_exporter": "python",
   "pygments_lexer": "ipython3",
   "version": "3.12.4"
  }
 },
 "nbformat": 4,
 "nbformat_minor": 5
}
