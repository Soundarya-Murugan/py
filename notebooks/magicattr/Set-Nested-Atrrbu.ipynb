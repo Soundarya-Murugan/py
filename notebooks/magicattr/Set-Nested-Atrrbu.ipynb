{
 "cells": [
  {
   "cell_type": "code",
   "execution_count": 1,
   "id": "9d04a148-18c8-4540-952c-5369e960c449",
   "metadata": {},
   "outputs": [],
   "source": [
    "import magicattr"
   ]
  },
  {
   "cell_type": "code",
   "execution_count": 2,
   "id": "b8cb2460-5467-4282-879f-2fa28f62ab86",
   "metadata": {},
   "outputs": [],
   "source": [
    "# Define the class\n",
    "class Example:\n",
    "    def __init__(self):\n",
    "        self.a = {'b': {'c': 'value'}}  # a dictionary inside the object"
   ]
  },
  {
   "cell_type": "code",
   "execution_count": 3,
   "id": "29137abd-73e1-4b8d-b925-1efa61975723",
   "metadata": {},
   "outputs": [],
   "source": [
    "# Create an instance of Example\n",
    "obj = Example()\n"
   ]
  },
  {
   "cell_type": "code",
   "execution_count": 4,
   "id": "d3f138e3-0053-4e3d-af32-c97cf57bbbab",
   "metadata": {},
   "outputs": [],
   "source": [
    "# Directly modify the dictionary attribute\n",
    "obj.a['b']['c'] = 'new_value'\n"
   ]
  },
  {
   "cell_type": "code",
   "execution_count": 5,
   "id": "860dc5b5-dbd5-43aa-81e4-f1c1950a3679",
   "metadata": {},
   "outputs": [
    {
     "name": "stdout",
     "output_type": "stream",
     "text": [
      "new_value\n"
     ]
    }
   ],
   "source": [
    "# Output the modified value\n",
    "print(obj.a['b']['c'])  # Expected Output: 'new_value'"
   ]
  },
  {
   "cell_type": "code",
   "execution_count": null,
   "id": "d9d0d664-144f-4932-bcfd-0861f7378332",
   "metadata": {},
   "outputs": [],
   "source": []
  }
 ],
 "metadata": {
  "kernelspec": {
   "display_name": "Python 3 (ipykernel)",
   "language": "python",
   "name": "python3"
  },
  "language_info": {
   "codemirror_mode": {
    "name": "ipython",
    "version": 3
   },
   "file_extension": ".py",
   "mimetype": "text/x-python",
   "name": "python",
   "nbconvert_exporter": "python",
   "pygments_lexer": "ipython3",
   "version": "3.12.4"
  }
 },
 "nbformat": 4,
 "nbformat_minor": 5
}
