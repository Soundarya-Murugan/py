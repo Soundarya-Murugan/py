{
 "cells": [
  {
   "cell_type": "code",
   "execution_count": 5,
   "id": "9d04a148-18c8-4540-952c-5369e960c449",
   "metadata": {},
   "outputs": [
    {
     "name": "stdout",
     "output_type": "stream",
     "text": [
      "new_value\n"
     ]
    }
   ],
   "source": [
    "import magicattr\n",
    "\n",
    "# Define the class\n",
    "class Example:\n",
    "    def __init__(self):\n",
    "        self.a = {'b': {'c': 'value'}}  # a dictionary inside the object\n",
    "\n",
    "# Create an instance of Example\n",
    "obj = Example()\n",
    "\n",
    "# Directly modify the dictionary attribute\n",
    "obj.a['b']['c'] = 'new_value'\n",
    "\n",
    "# Output the modified value\n",
    "print(obj.a['b']['c'])  # Expected Output: 'new_value'\n",
    "\n",
    "\n",
    "\n"
   ]
  },
  {
   "cell_type": "code",
   "execution_count": null,
   "id": "b8cb2460-5467-4282-879f-2fa28f62ab86",
   "metadata": {},
   "outputs": [],
   "source": []
  }
 ],
 "metadata": {
  "kernelspec": {
   "display_name": "Python 3 (ipykernel)",
   "language": "python",
   "name": "python3"
  },
  "language_info": {
   "codemirror_mode": {
    "name": "ipython",
    "version": 3
   },
   "file_extension": ".py",
   "mimetype": "text/x-python",
   "name": "python",
   "nbconvert_exporter": "python",
   "pygments_lexer": "ipython3",
   "version": "3.12.4"
  }
 },
 "nbformat": 4,
 "nbformat_minor": 5
}
