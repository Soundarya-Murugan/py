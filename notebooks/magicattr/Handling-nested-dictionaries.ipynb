{
 "cells": [
  {
   "cell_type": "code",
   "execution_count": 1,
   "id": "1c5783eb-6521-4298-a218-8e67ab9bc41b",
   "metadata": {},
   "outputs": [
    {
     "name": "stdout",
     "output_type": "stream",
     "text": [
      "Bob\n",
      "Dreamland\n"
     ]
    }
   ],
   "source": [
    "import magicattr\n",
    "\n",
    "class Person:\n",
    "    def __init__(self, name, details):\n",
    "        self.name = name\n",
    "        self.details = details  # details is a dictionary with nested data\n",
    "\n",
    "# Create a Person instance\n",
    "person = Person('Alice', {'address': {'city': 'Wonderland', 'zip': '12345'}})\n",
    "\n",
    "# Using magicattr to set the 'name' attribute\n",
    "magicattr.set(person, 'name', 'Bob')\n",
    "\n",
    "# Directly manipulate the nested dictionary value\n",
    "person.details['address']['city'] = 'Dreamland'\n",
    "\n",
    "# Using magicattr to get the 'name' attribute\n",
    "name = magicattr.get(person, 'name')\n",
    "\n",
    "# Output the updated values\n",
    "print(name)  # Expected Output: 'Bob'\n",
    "print(person.details['address']['city'])  # Expected Output: 'Dreamland'\n"
   ]
  },
  {
   "cell_type": "code",
   "execution_count": null,
   "id": "ef3e5630-94af-4fb8-b7b3-6df08ee7e6f3",
   "metadata": {},
   "outputs": [],
   "source": []
  }
 ],
 "metadata": {
  "kernelspec": {
   "display_name": "Python 3 (ipykernel)",
   "language": "python",
   "name": "python3"
  },
  "language_info": {
   "codemirror_mode": {
    "name": "ipython",
    "version": 3
   },
   "file_extension": ".py",
   "mimetype": "text/x-python",
   "name": "python",
   "nbconvert_exporter": "python",
   "pygments_lexer": "ipython3",
   "version": "3.12.4"
  }
 },
 "nbformat": 4,
 "nbformat_minor": 5
}
