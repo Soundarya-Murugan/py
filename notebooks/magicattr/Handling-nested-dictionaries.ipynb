{
 "cells": [
  {
   "cell_type": "code",
   "execution_count": 1,
   "id": "1c5783eb-6521-4298-a218-8e67ab9bc41b",
   "metadata": {},
   "outputs": [],
   "source": [
    "import magicattr\n"
   ]
  },
  {
   "cell_type": "code",
   "execution_count": 2,
   "id": "ef3e5630-94af-4fb8-b7b3-6df08ee7e6f3",
   "metadata": {},
   "outputs": [],
   "source": [
    "class Person:\n",
    "    def __init__(self, name, details):\n",
    "        self.name = name\n",
    "        self.details = details  # details is a dictionary with nested data\n",
    "\n",
    "\n"
   ]
  },
  {
   "cell_type": "code",
   "execution_count": 3,
   "id": "8af81f8e-3b70-45a3-91a7-4f54aa47749e",
   "metadata": {},
   "outputs": [],
   "source": [
    "# Create a Person instance\n",
    "person = Person('Alice', {'address': {'city': 'Wonderland', 'zip': '12345'}})\n",
    "\n"
   ]
  },
  {
   "cell_type": "code",
   "execution_count": 4,
   "id": "d1d61857-ab7a-47b5-be05-d4932f17cbfc",
   "metadata": {},
   "outputs": [],
   "source": [
    "# Using magicattr to set the 'name' attribute\n",
    "magicattr.set(person, 'name', 'Bob')\n",
    "\n"
   ]
  },
  {
   "cell_type": "code",
   "execution_count": 5,
   "id": "4e589b45-368a-4748-b4d5-490e0006b8d6",
   "metadata": {},
   "outputs": [],
   "source": [
    "# Directly manipulate the nested dictionary value\n",
    "person.details['address']['city'] = 'Dreamland'\n"
   ]
  },
  {
   "cell_type": "code",
   "execution_count": 6,
   "id": "90565341-47d0-4117-bf63-6c64f7a42b44",
   "metadata": {},
   "outputs": [],
   "source": [
    "# Using magicattr to get the 'name' attribute\n",
    "name = magicattr.get(person, 'name')\n"
   ]
  },
  {
   "cell_type": "code",
   "execution_count": null,
   "id": "720b3592-8c19-4654-9c7a-96e877655b82",
   "metadata": {},
   "outputs": [],
   "source": [
    "# Output the updated values\n",
    "print(name)  # Expected Output: 'Bob'\n",
    "print(person.details['address']['city'])  # Expected Output: 'Dreamland'"
   ]
  }
 ],
 "metadata": {
  "kernelspec": {
   "display_name": "Python 3 (ipykernel)",
   "language": "python",
   "name": "python3"
  },
  "language_info": {
   "codemirror_mode": {
    "name": "ipython",
    "version": 3
   },
   "file_extension": ".py",
   "mimetype": "text/x-python",
   "name": "python",
   "nbconvert_exporter": "python",
   "pygments_lexer": "ipython3",
   "version": "3.12.4"
  }
 },
 "nbformat": 4,
 "nbformat_minor": 5
}
