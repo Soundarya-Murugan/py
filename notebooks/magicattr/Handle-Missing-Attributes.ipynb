{
 "cells": [
  {
   "cell_type": "code",
   "execution_count": 1,
   "id": "e6aeb088-26c6-4181-9177-8f6d0e83a7f5",
   "metadata": {},
   "outputs": [],
   "source": [
    "import magicattr\n"
   ]
  },
  {
   "cell_type": "code",
   "execution_count": 2,
   "id": "4fe205f6-72fd-449a-867f-1bdff8b0e68f",
   "metadata": {},
   "outputs": [],
   "source": [
    "class Example:\n",
    "    pass"
   ]
  },
  {
   "cell_type": "code",
   "execution_count": 3,
   "id": "9c5e7f41-76f2-4c8a-af68-e397aae33401",
   "metadata": {},
   "outputs": [],
   "source": [
    "\n",
    "obj = Example()\n"
   ]
  },
  {
   "cell_type": "code",
   "execution_count": 4,
   "id": "a22e4767-0e6b-4bc2-91f3-dc36cb98cb99",
   "metadata": {},
   "outputs": [
    {
     "name": "stdout",
     "output_type": "stream",
     "text": [
      "default_value\n"
     ]
    }
   ],
   "source": [
    "print(magicattr.get(obj, 'a.b.c', default='default_value'))  # Output: 'default_value'"
   ]
  },
  {
   "cell_type": "code",
   "execution_count": null,
   "id": "b2655382-efd7-494c-bf3d-f690947e92a9",
   "metadata": {},
   "outputs": [],
   "source": []
  }
 ],
 "metadata": {
  "kernelspec": {
   "display_name": "Python 3 (ipykernel)",
   "language": "python",
   "name": "python3"
  },
  "language_info": {
   "codemirror_mode": {
    "name": "ipython",
    "version": 3
   },
   "file_extension": ".py",
   "mimetype": "text/x-python",
   "name": "python",
   "nbconvert_exporter": "python",
   "pygments_lexer": "ipython3",
   "version": "3.12.4"
  }
 },
 "nbformat": 4,
 "nbformat_minor": 5
}
