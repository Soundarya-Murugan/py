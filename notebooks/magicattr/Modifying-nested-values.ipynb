{
 "cells": [
  {
   "cell_type": "code",
   "execution_count": 3,
   "id": "3f351485-08a8-4dbd-8cb5-41cc27ee12ec",
   "metadata": {},
   "outputs": [
    {
     "name": "stdout",
     "output_type": "stream",
     "text": [
      "Senior Manager\n",
      "jane.new@example.com\n"
     ]
    }
   ],
   "source": [
    "import magicattr\n",
    "\n",
    "# Define a class for Employee that supports attributes\n",
    "class Employee:\n",
    "    def __init__(self, name, role, contact):\n",
    "        self.name = name\n",
    "        self.role = role\n",
    "        self.contact = contact\n",
    "\n",
    "# Define a class for Company that holds a list of employees\n",
    "class Company:\n",
    "    def __init__(self, employees):\n",
    "        self.employees = employees\n",
    "\n",
    "# Creating instances of Employee\n",
    "company = Company([\n",
    "    Employee('John', 'Manager', {'email': 'john@example.com'}),\n",
    "    Employee('Jane', 'Developer', {'email': 'jane@example.com'})\n",
    "])\n",
    "\n",
    "# Using magicattr to set the 'role' attribute of the first employee\n",
    "magicattr.set(company, 'employees[0].role', 'Senior Manager')\n",
    "\n",
    "# Directly modifying the nested 'email' value in the second employee's dictionary\n",
    "company.employees[1].contact['email'] = 'jane.new@example.com'\n",
    "\n",
    "# Using magicattr to get the updated role of the first employee\n",
    "role = magicattr.get(company, 'employees[0].role')\n",
    "\n",
    "# Output the modified values\n",
    "print(role)  # Expected Output: 'Senior Manager'\n",
    "print(company.employees[1].contact['email'])  # Expected Output: 'jane.new@example.com'\n",
    "\n"
   ]
  },
  {
   "cell_type": "code",
   "execution_count": null,
   "id": "67afbabb-cb5c-4339-900a-18a19a24d1ba",
   "metadata": {},
   "outputs": [],
   "source": []
  }
 ],
 "metadata": {
  "kernelspec": {
   "display_name": "Python 3 (ipykernel)",
   "language": "python",
   "name": "python3"
  },
  "language_info": {
   "codemirror_mode": {
    "name": "ipython",
    "version": 3
   },
   "file_extension": ".py",
   "mimetype": "text/x-python",
   "name": "python",
   "nbconvert_exporter": "python",
   "pygments_lexer": "ipython3",
   "version": "3.12.4"
  }
 },
 "nbformat": 4,
 "nbformat_minor": 5
}
