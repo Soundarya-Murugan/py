{
 "cells": [
  {
   "cell_type": "code",
   "execution_count": 1,
   "id": "3f351485-08a8-4dbd-8cb5-41cc27ee12ec",
   "metadata": {},
   "outputs": [],
   "source": [
    "import magicattr\n",
    "\n"
   ]
  },
  {
   "cell_type": "code",
   "execution_count": 2,
   "id": "67afbabb-cb5c-4339-900a-18a19a24d1ba",
   "metadata": {},
   "outputs": [],
   "source": [
    "# Define a class for Employee that supports attributes\n",
    "class Employee:\n",
    "    def __init__(self, name, role, contact):\n",
    "        self.name = name\n",
    "        self.role = role\n",
    "        self.contact = contact\n"
   ]
  },
  {
   "cell_type": "code",
   "execution_count": 3,
   "id": "0731f636-dc40-4517-9ea4-1fc9297e17d7",
   "metadata": {},
   "outputs": [],
   "source": [
    "# Define a class for Company that holds a list of employees\n",
    "class Company:\n",
    "    def __init__(self, employees):\n",
    "        self.employees = employees\n",
    "\n"
   ]
  },
  {
   "cell_type": "code",
   "execution_count": 4,
   "id": "9d07526b-745e-49ca-9532-1b851b30fdb1",
   "metadata": {},
   "outputs": [],
   "source": [
    "# Creating instances of Employee\n",
    "company = Company([\n",
    "    Employee('John', 'Manager', {'email': 'john@example.com'}),\n",
    "    Employee('Jane', 'Developer', {'email': 'jane@example.com'})\n",
    "])\n",
    "\n"
   ]
  },
  {
   "cell_type": "code",
   "execution_count": 5,
   "id": "d1d7c0a3-4f8d-4ad0-b951-16aaccd82aaf",
   "metadata": {},
   "outputs": [],
   "source": [
    "# Using magicattr to set the 'role' attribute of the first employee\n",
    "magicattr.set(company, 'employees[0].role', 'Senior Manager')\n"
   ]
  },
  {
   "cell_type": "code",
   "execution_count": 6,
   "id": "7a852c5f-f5a9-4bcf-9a86-e5f3e7b3e4e6",
   "metadata": {},
   "outputs": [],
   "source": [
    "# Directly modifying the nested 'email' value in the second employee's dictionary\n",
    "company.employees[1].contact['email'] = 'jane.new@example.com'\n"
   ]
  },
  {
   "cell_type": "code",
   "execution_count": 7,
   "id": "2020c414-88a9-4644-a51c-bde5af6696c9",
   "metadata": {},
   "outputs": [],
   "source": [
    "# Using magicattr to get the updated role of the first employee\n",
    "role = magicattr.get(company, 'employees[0].role')\n"
   ]
  },
  {
   "cell_type": "code",
   "execution_count": 8,
   "id": "ceae5776-47e5-4866-9918-eef5d188cc24",
   "metadata": {},
   "outputs": [
    {
     "name": "stdout",
     "output_type": "stream",
     "text": [
      "Senior Manager\n",
      "jane.new@example.com\n"
     ]
    }
   ],
   "source": [
    "# Output the modified values\n",
    "print(role)  # Expected Output: 'Senior Manager'\n",
    "print(company.employees[1].contact['email'])  # Expected Output: 'jane.new@example.com'"
   ]
  },
  {
   "cell_type": "code",
   "execution_count": null,
   "id": "77151b4d-a82c-42b2-be96-12dfae82f72b",
   "metadata": {},
   "outputs": [],
   "source": []
  }
 ],
 "metadata": {
  "kernelspec": {
   "display_name": "Python 3 (ipykernel)",
   "language": "python",
   "name": "python3"
  },
  "language_info": {
   "codemirror_mode": {
    "name": "ipython",
    "version": 3
   },
   "file_extension": ".py",
   "mimetype": "text/x-python",
   "name": "python",
   "nbconvert_exporter": "python",
   "pygments_lexer": "ipython3",
   "version": "3.12.4"
  }
 },
 "nbformat": 4,
 "nbformat_minor": 5
}
