{
 "cells": [
  {
   "cell_type": "code",
   "execution_count": 1,
   "id": "dadc0ff2-b78a-450c-bbb2-0d08c50946b2",
   "metadata": {},
   "outputs": [],
   "source": [
    "import magicattr\n",
    "\n"
   ]
  },
  {
   "cell_type": "code",
   "execution_count": 2,
   "id": "9e8cc8b5-153c-4e63-91ac-dcfe176f059f",
   "metadata": {},
   "outputs": [],
   "source": [
    "class SubExample:\n",
    "    def __init__(self, c):\n",
    "        self.c = c\n",
    "\n",
    "\n",
    "\n"
   ]
  },
  {
   "cell_type": "code",
   "execution_count": 3,
   "id": "ccfc9719-ba98-4585-8a2e-390fe59b4443",
   "metadata": {},
   "outputs": [],
   "source": [
    "class Example:\n",
    "    def __init__(self):\n",
    "        self.a = [SubExample(1), SubExample(2), SubExample(3)]\n",
    "\n"
   ]
  },
  {
   "cell_type": "code",
   "execution_count": 4,
   "id": "103da035-84a4-42c3-8ae1-b3015bde3501",
   "metadata": {},
   "outputs": [],
   "source": [
    "obj = Example()\n",
    "\n"
   ]
  },
  {
   "cell_type": "code",
   "execution_count": 5,
   "id": "37d29e4e-26d8-42b8-8f86-52903d6cc1c8",
   "metadata": {},
   "outputs": [],
   "source": [
    "# Manually set the 'c' attribute in each item of the list\n",
    "for sub in obj.a:\n",
    "    magicattr.set(sub, 'c', 10)\n",
    "\n"
   ]
  },
  {
   "cell_type": "code",
   "execution_count": 6,
   "id": "655980fe-de32-46ea-af5e-869fa3eb0ec8",
   "metadata": {},
   "outputs": [
    {
     "name": "stdout",
     "output_type": "stream",
     "text": [
      "[10, 10, 10]\n"
     ]
    }
   ],
   "source": [
    "# Print updated 'c' values\n",
    "print([sub.c for sub in obj.a])  # Output: [10, 10, 10]"
   ]
  },
  {
   "cell_type": "code",
   "execution_count": null,
   "id": "9b7306a3-967a-4bcd-9830-ad347671854e",
   "metadata": {},
   "outputs": [],
   "source": []
  }
 ],
 "metadata": {
  "kernelspec": {
   "display_name": "Python 3 (ipykernel)",
   "language": "python",
   "name": "python3"
  },
  "language_info": {
   "codemirror_mode": {
    "name": "ipython",
    "version": 3
   },
   "file_extension": ".py",
   "mimetype": "text/x-python",
   "name": "python",
   "nbconvert_exporter": "python",
   "pygments_lexer": "ipython3",
   "version": "3.12.4"
  }
 },
 "nbformat": 4,
 "nbformat_minor": 5
}
