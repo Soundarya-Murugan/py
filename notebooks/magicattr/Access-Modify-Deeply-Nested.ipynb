{
 "cells": [
  {
   "cell_type": "code",
   "execution_count": 3,
   "id": "1a9c975b-bf9b-451b-ab62-e29ed6352137",
   "metadata": {},
   "outputs": [
    {
     "name": "stdout",
     "output_type": "stream",
     "text": [
      "5\n",
      "10\n"
     ]
    }
   ],
   "source": [
    "import magicattr\n",
    "\n",
    "# Define the Inner class\n",
    "class Inner:\n",
    "    def __init__(self):\n",
    "        self.value = 5\n",
    "\n",
    "# Define the Outer class\n",
    "class Outer:\n",
    "    def __init__(self):\n",
    "        self.inner = Inner()\n",
    "\n",
    "# Create an instance of Outer\n",
    "obj = Outer()\n",
    "\n",
    "# Accessing the nested attribute 'value' using magicattr\n",
    "print(magicattr.get(obj, 'inner.value'))  # Output: 5\n",
    "\n",
    "# Setting the nested attribute 'value' using magicattr\n",
    "magicattr.set(obj, 'inner.value', 10)\n",
    "\n",
    "# Verify the update\n",
    "print(obj.inner.value)  # Output: 10\n"
   ]
  },
  {
   "cell_type": "code",
   "execution_count": null,
   "id": "2d0bc942-4041-4e2e-9b7e-186396953e35",
   "metadata": {},
   "outputs": [],
   "source": []
  }
 ],
 "metadata": {
  "kernelspec": {
   "display_name": "Python 3 (ipykernel)",
   "language": "python",
   "name": "python3"
  },
  "language_info": {
   "codemirror_mode": {
    "name": "ipython",
    "version": 3
   },
   "file_extension": ".py",
   "mimetype": "text/x-python",
   "name": "python",
   "nbconvert_exporter": "python",
   "pygments_lexer": "ipython3",
   "version": "3.12.4"
  }
 },
 "nbformat": 4,
 "nbformat_minor": 5
}
