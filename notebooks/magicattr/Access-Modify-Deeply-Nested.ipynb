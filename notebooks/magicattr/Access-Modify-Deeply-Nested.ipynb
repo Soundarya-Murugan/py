{
 "cells": [
  {
   "cell_type": "code",
   "execution_count": 1,
   "id": "1a9c975b-bf9b-451b-ab62-e29ed6352137",
   "metadata": {},
   "outputs": [],
   "source": [
    "import magicattr\n"
   ]
  },
  {
   "cell_type": "code",
   "execution_count": 2,
   "id": "2d0bc942-4041-4e2e-9b7e-186396953e35",
   "metadata": {},
   "outputs": [],
   "source": [
    "# Define the Inner class\n",
    "class Inner:\n",
    "    def __init__(self):\n",
    "        self.value = 5\n"
   ]
  },
  {
   "cell_type": "code",
   "execution_count": 3,
   "id": "addd9b5a-c65e-4a31-85a1-890f15ef0377",
   "metadata": {},
   "outputs": [],
   "source": [
    "\n",
    "# Define the Outer class\n",
    "class Outer:\n",
    "    def __init__(self):\n",
    "        self.inner = Inner()\n"
   ]
  },
  {
   "cell_type": "code",
   "execution_count": 4,
   "id": "756be966-fa4c-4161-a700-e3f6980d7723",
   "metadata": {},
   "outputs": [],
   "source": [
    "# Create an instance of Outer\n",
    "obj = Outer()\n"
   ]
  },
  {
   "cell_type": "code",
   "execution_count": 5,
   "id": "ccf6a91f-71bd-4150-bf85-91da6031e76e",
   "metadata": {},
   "outputs": [
    {
     "name": "stdout",
     "output_type": "stream",
     "text": [
      "5\n"
     ]
    }
   ],
   "source": [
    "# Accessing the nested attribute 'value' using magicattr\n",
    "print(magicattr.get(obj, 'inner.value'))  # Output: 5"
   ]
  },
  {
   "cell_type": "code",
   "execution_count": 6,
   "id": "77992ba1-c4a0-4232-ae21-a1f47700e3eb",
   "metadata": {},
   "outputs": [],
   "source": [
    "\n",
    "# Setting the nested attribute 'value' using magicattr\n",
    "magicattr.set(obj, 'inner.value', 10)\n"
   ]
  },
  {
   "cell_type": "code",
   "execution_count": 7,
   "id": "86039d4e-9012-499a-9746-3fc5f5d13bc4",
   "metadata": {},
   "outputs": [
    {
     "name": "stdout",
     "output_type": "stream",
     "text": [
      "10\n"
     ]
    }
   ],
   "source": [
    "# Verify the update\n",
    "print(obj.inner.value)  # Output: 10"
   ]
  },
  {
   "cell_type": "code",
   "execution_count": null,
   "id": "268f6b5b-3dc7-445b-af1b-c81bae386acf",
   "metadata": {},
   "outputs": [],
   "source": []
  }
 ],
 "metadata": {
  "kernelspec": {
   "display_name": "Python 3 (ipykernel)",
   "language": "python",
   "name": "python3"
  },
  "language_info": {
   "codemirror_mode": {
    "name": "ipython",
    "version": 3
   },
   "file_extension": ".py",
   "mimetype": "text/x-python",
   "name": "python",
   "nbconvert_exporter": "python",
   "pygments_lexer": "ipython3",
   "version": "3.12.4"
  }
 },
 "nbformat": 4,
 "nbformat_minor": 5
}
