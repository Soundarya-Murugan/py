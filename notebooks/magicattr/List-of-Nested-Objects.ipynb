{
 "cells": [
  {
   "cell_type": "code",
   "execution_count": 1,
   "id": "7cdb2f6c-8861-4dbe-bb8a-9a64bbf7bf77",
   "metadata": {},
   "outputs": [],
   "source": [
    "import magicattr\n"
   ]
  },
  {
   "cell_type": "code",
   "execution_count": 2,
   "id": "e893f30c-64e8-4c49-84e1-1f9a55278ad9",
   "metadata": {},
   "outputs": [],
   "source": [
    "class SubExample:\n",
    "    def __init__(self, c):\n",
    "        self.c = c\n",
    "\n"
   ]
  },
  {
   "cell_type": "code",
   "execution_count": 3,
   "id": "eea966b7-a732-4324-9578-db51987c7a2c",
   "metadata": {},
   "outputs": [],
   "source": [
    "\n",
    "class Example:\n",
    "    def __init__(self):\n",
    "        self.a = [SubExample(1), SubExample(2), SubExample(3)]\n",
    "\n",
    "\n"
   ]
  },
  {
   "cell_type": "code",
   "execution_count": 4,
   "id": "45164ed2-7133-4c8a-8cd6-3c4b4b4deb3a",
   "metadata": {},
   "outputs": [],
   "source": [
    "obj = Example()\n",
    "\n"
   ]
  },
  {
   "cell_type": "code",
   "execution_count": 5,
   "id": "2875832a-2cf4-485d-9dd6-84d9b5980e2e",
   "metadata": {},
   "outputs": [],
   "source": [
    "# Use list comprehension to access the attribute 'c' in each object in the list 'a'\n",
    "c_values = [magicattr.get(item, 'c') for item in obj.a]\n"
   ]
  },
  {
   "cell_type": "code",
   "execution_count": 6,
   "id": "ab9e24da-e71c-4f88-ba90-c4e981737268",
   "metadata": {},
   "outputs": [
    {
     "name": "stdout",
     "output_type": "stream",
     "text": [
      "[1, 2, 3]\n"
     ]
    }
   ],
   "source": [
    "print(c_values)  # Output: [1, 2, 3]"
   ]
  },
  {
   "cell_type": "code",
   "execution_count": null,
   "id": "c6c7dd21-1d0a-4317-a1ed-ad3804faec8c",
   "metadata": {},
   "outputs": [],
   "source": []
  }
 ],
 "metadata": {
  "kernelspec": {
   "display_name": "Python 3 (ipykernel)",
   "language": "python",
   "name": "python3"
  },
  "language_info": {
   "codemirror_mode": {
    "name": "ipython",
    "version": 3
   },
   "file_extension": ".py",
   "mimetype": "text/x-python",
   "name": "python",
   "nbconvert_exporter": "python",
   "pygments_lexer": "ipython3",
   "version": "3.12.4"
  }
 },
 "nbformat": 4,
 "nbformat_minor": 5
}
