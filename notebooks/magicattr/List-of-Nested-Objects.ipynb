{
 "cells": [
  {
   "cell_type": "code",
   "execution_count": 5,
   "id": "7cdb2f6c-8861-4dbe-bb8a-9a64bbf7bf77",
   "metadata": {},
   "outputs": [
    {
     "name": "stdout",
     "output_type": "stream",
     "text": [
      "[1, 2, 3]\n"
     ]
    }
   ],
   "source": [
    "import magicattr\n",
    "\n",
    "class SubExample:\n",
    "    def __init__(self, c):\n",
    "        self.c = c\n",
    "\n",
    "class Example:\n",
    "    def __init__(self):\n",
    "        self.a = [SubExample(1), SubExample(2), SubExample(3)]\n",
    "\n",
    "obj = Example()\n",
    "\n",
    "# Use list comprehension to access the attribute 'c' in each object in the list 'a'\n",
    "c_values = [magicattr.get(item, 'c') for item in obj.a]\n",
    "print(c_values)  # Output: [1, 2, 3]\n"
   ]
  },
  {
   "cell_type": "code",
   "execution_count": null,
   "id": "e893f30c-64e8-4c49-84e1-1f9a55278ad9",
   "metadata": {},
   "outputs": [],
   "source": []
  }
 ],
 "metadata": {
  "kernelspec": {
   "display_name": "Python 3 (ipykernel)",
   "language": "python",
   "name": "python3"
  },
  "language_info": {
   "codemirror_mode": {
    "name": "ipython",
    "version": 3
   },
   "file_extension": ".py",
   "mimetype": "text/x-python",
   "name": "python",
   "nbconvert_exporter": "python",
   "pygments_lexer": "ipython3",
   "version": "3.12.4"
  }
 },
 "nbformat": 4,
 "nbformat_minor": 5
}
