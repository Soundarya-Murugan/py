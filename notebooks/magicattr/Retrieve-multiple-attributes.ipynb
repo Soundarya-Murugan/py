{
 "cells": [
  {
   "cell_type": "code",
   "execution_count": 1,
   "id": "69c2b6e3-120c-43d2-bf3e-b737078a4746",
   "metadata": {},
   "outputs": [],
   "source": [
    "import magicattr"
   ]
  },
  {
   "cell_type": "code",
   "execution_count": 2,
   "id": "2cfd6677-56ed-416d-8b79-8972a94c1b8b",
   "metadata": {},
   "outputs": [],
   "source": [
    "class Example:\n",
    "    def __init__(self):\n",
    "        self.name = 'example'\n",
    "        self.version = 1.0\n",
    "        self.description = 'A test example'"
   ]
  },
  {
   "cell_type": "code",
   "execution_count": 3,
   "id": "d8eb68d6-1b0a-45c7-87cb-f5d2ae839fe9",
   "metadata": {},
   "outputs": [],
   "source": [
    "# Create an instance of Example\n",
    "obj = Example()"
   ]
  },
  {
   "cell_type": "code",
   "execution_count": 4,
   "id": "99eeef90-291b-4288-92fb-2eb58cf71359",
   "metadata": {},
   "outputs": [
    {
     "name": "stdout",
     "output_type": "stream",
     "text": [
      "['example', 1.0, 'A test example']\n"
     ]
    }
   ],
   "source": [
    "# Accessing multiple attributes\n",
    "attrs = [magicattr.get(obj, attr) for attr in ['name', 'version', 'description']]\n",
    "print(attrs)  # Output: ['example', 1.0, 'A test example']"
   ]
  },
  {
   "cell_type": "code",
   "execution_count": null,
   "id": "86ca8790-1789-44eb-873a-ba56ee9e54c5",
   "metadata": {},
   "outputs": [],
   "source": []
  }
 ],
 "metadata": {
  "kernelspec": {
   "display_name": "Python 3 (ipykernel)",
   "language": "python",
   "name": "python3"
  },
  "language_info": {
   "codemirror_mode": {
    "name": "ipython",
    "version": 3
   },
   "file_extension": ".py",
   "mimetype": "text/x-python",
   "name": "python",
   "nbconvert_exporter": "python",
   "pygments_lexer": "ipython3",
   "version": "3.12.4"
  }
 },
 "nbformat": 4,
 "nbformat_minor": 5
}
