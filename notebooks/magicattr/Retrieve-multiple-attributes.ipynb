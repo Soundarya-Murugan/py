{
 "cells": [
  {
   "cell_type": "code",
   "execution_count": 2,
   "id": "69c2b6e3-120c-43d2-bf3e-b737078a4746",
   "metadata": {},
   "outputs": [
    {
     "name": "stdout",
     "output_type": "stream",
     "text": [
      "['example', 1.0, 'A test example']\n"
     ]
    }
   ],
   "source": [
    "import magicattr\n",
    "\n",
    "class Example:\n",
    "    def __init__(self):\n",
    "        self.name = 'example'\n",
    "        self.version = 1.0\n",
    "        self.description = 'A test example'\n",
    "\n",
    "# Create an instance of Example\n",
    "obj = Example()\n",
    "\n",
    "# Accessing multiple attributes\n",
    "attrs = [magicattr.get(obj, attr) for attr in ['name', 'version', 'description']]\n",
    "print(attrs)  # Output: ['example', 1.0, 'A test example']\n"
   ]
  },
  {
   "cell_type": "code",
   "execution_count": null,
   "id": "2cfd6677-56ed-416d-8b79-8972a94c1b8b",
   "metadata": {},
   "outputs": [],
   "source": []
  }
 ],
 "metadata": {
  "kernelspec": {
   "display_name": "Python 3 (ipykernel)",
   "language": "python",
   "name": "python3"
  },
  "language_info": {
   "codemirror_mode": {
    "name": "ipython",
    "version": 3
   },
   "file_extension": ".py",
   "mimetype": "text/x-python",
   "name": "python",
   "nbconvert_exporter": "python",
   "pygments_lexer": "ipython3",
   "version": "3.12.4"
  }
 },
 "nbformat": 4,
 "nbformat_minor": 5
}
