{
 "cells": [
  {
   "cell_type": "code",
   "execution_count": 1,
   "id": "359d9ae8-f115-4ecf-8db3-9a6fbe497ee4",
   "metadata": {},
   "outputs": [],
   "source": [
    "import magicattr\n"
   ]
  },
  {
   "cell_type": "code",
   "execution_count": 3,
   "id": "feea73d0-6018-4f9a-b2ed-0d96cccf2bde",
   "metadata": {},
   "outputs": [],
   "source": [
    "\n",
    "def has_attr(obj, attr):\n",
    "    try:\n",
    "        magicattr.get(obj, attr)\n",
    "        return True\n",
    "    except AttributeError:\n",
    "        return False\n",
    "\n",
    "\n"
   ]
  },
  {
   "cell_type": "code",
   "execution_count": 4,
   "id": "ec59276e-f952-4636-8bf4-985f806f9717",
   "metadata": {},
   "outputs": [],
   "source": [
    "class Example:\n",
    "    def __init__(self):\n",
    "        self.a = {'b': {'c': 'value'}}\n",
    "\n"
   ]
  },
  {
   "cell_type": "code",
   "execution_count": 5,
   "id": "90a05946-9959-41f5-b51e-d66b8317c797",
   "metadata": {},
   "outputs": [],
   "source": [
    "obj = Example()\n",
    "\n"
   ]
  },
  {
   "cell_type": "code",
   "execution_count": 6,
   "id": "bc41c011-bb38-4c0b-b307-115202990e45",
   "metadata": {},
   "outputs": [
    {
     "name": "stdout",
     "output_type": "stream",
     "text": [
      "False\n",
      "False\n"
     ]
    }
   ],
   "source": [
    "# Check if nested attributes exist\n",
    "print(has_attr(obj, 'a.b.c'))  # Output: True\n",
    "print(has_attr(obj, 'a.b.d'))  # Output: False"
   ]
  },
  {
   "cell_type": "code",
   "execution_count": null,
   "id": "99a98266-a237-451b-9725-607568ee123c",
   "metadata": {},
   "outputs": [],
   "source": []
  }
 ],
 "metadata": {
  "kernelspec": {
   "display_name": "Python 3 (ipykernel)",
   "language": "python",
   "name": "python3"
  },
  "language_info": {
   "codemirror_mode": {
    "name": "ipython",
    "version": 3
   },
   "file_extension": ".py",
   "mimetype": "text/x-python",
   "name": "python",
   "nbconvert_exporter": "python",
   "pygments_lexer": "ipython3",
   "version": "3.12.4"
  }
 },
 "nbformat": 4,
 "nbformat_minor": 5
}
