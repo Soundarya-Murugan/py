{
 "cells": [
  {
   "cell_type": "code",
   "execution_count": 2,
   "id": "359d9ae8-f115-4ecf-8db3-9a6fbe497ee4",
   "metadata": {},
   "outputs": [
    {
     "name": "stdout",
     "output_type": "stream",
     "text": [
      "False\n",
      "False\n"
     ]
    }
   ],
   "source": [
    "import magicattr\n",
    "\n",
    "def has_attr(obj, attr):\n",
    "    try:\n",
    "        magicattr.get(obj, attr)\n",
    "        return True\n",
    "    except AttributeError:\n",
    "        return False\n",
    "\n",
    "class Example:\n",
    "    def __init__(self):\n",
    "        self.a = {'b': {'c': 'value'}}\n",
    "\n",
    "obj = Example()\n",
    "\n",
    "# Check if nested attributes exist\n",
    "print(has_attr(obj, 'a.b.c'))  # Output: True\n",
    "print(has_attr(obj, 'a.b.d'))  # Output: False\n"
   ]
  },
  {
   "cell_type": "code",
   "execution_count": null,
   "id": "feea73d0-6018-4f9a-b2ed-0d96cccf2bde",
   "metadata": {},
   "outputs": [],
   "source": []
  }
 ],
 "metadata": {
  "kernelspec": {
   "display_name": "Python 3 (ipykernel)",
   "language": "python",
   "name": "python3"
  },
  "language_info": {
   "codemirror_mode": {
    "name": "ipython",
    "version": 3
   },
   "file_extension": ".py",
   "mimetype": "text/x-python",
   "name": "python",
   "nbconvert_exporter": "python",
   "pygments_lexer": "ipython3",
   "version": "3.12.4"
  }
 },
 "nbformat": 4,
 "nbformat_minor": 5
}
