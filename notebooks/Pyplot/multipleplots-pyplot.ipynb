{
 "cells": [
  {
   "cell_type": "code",
   "execution_count": 1,
   "id": "fb79d371-4740-4cee-ae76-bfdf0414870b",
   "metadata": {},
   "outputs": [],
   "source": [
    "#Using pyplot library get multiple chart"
   ]
  },
  {
   "cell_type": "code",
   "execution_count": 2,
   "id": "3f54a696-0ca9-4359-b12f-99d1cbba095f",
   "metadata": {},
   "outputs": [],
   "source": [
    "#create a sequence of plots with varying styles, datasets, or configurations"
   ]
  },
  {
   "cell_type": "code",
   "execution_count": 3,
   "id": "e32fb37a-9452-4de3-9be4-632846f4bbfb",
   "metadata": {},
   "outputs": [],
   "source": [
    "import matplotlib.pyplot as plt"
   ]
  },
  {
   "cell_type": "code",
   "execution_count": 4,
   "id": "be1a262f-171e-4cf1-b97b-1b884d6c48f1",
   "metadata": {},
   "outputs": [],
   "source": [
    "import numpy as np"
   ]
  },
  {
   "cell_type": "code",
   "execution_count": 5,
   "id": "a2149f10-1a45-4734-9ce5-d3ed172a5161",
   "metadata": {},
   "outputs": [],
   "source": [
    "# Data for plotting"
   ]
  },
  {
   "cell_type": "code",
   "execution_count": 6,
   "id": "ca77c506-9b46-4106-bfd4-4b992ddda681",
   "metadata": {},
   "outputs": [],
   "source": [
    "x = np.linspace(0, 10, 100)"
   ]
  },
  {
   "cell_type": "code",
   "execution_count": 7,
   "id": "de750655-7833-4d1c-a456-4c3c1de6051a",
   "metadata": {},
   "outputs": [],
   "source": [
    "y1 = np.sin(x)"
   ]
  },
  {
   "cell_type": "code",
   "execution_count": 8,
   "id": "9c48fea0-07ab-4957-b98a-247b80c49a5b",
   "metadata": {},
   "outputs": [],
   "source": [
    "y2 = np.cos(x)"
   ]
  },
  {
   "cell_type": "code",
   "execution_count": 9,
   "id": "7a13d372-d5af-4ec6-bdf7-6875796a37d2",
   "metadata": {},
   "outputs": [],
   "source": [
    "y3 = np.tan(x)"
   ]
  },
  {
   "cell_type": "code",
   "execution_count": 10,
   "id": "50527465-81bb-4fba-b474-9d32577a3a78",
   "metadata": {},
   "outputs": [],
   "source": [
    "# First plot - Sinusoidal curve"
   ]
  },
  {
   "cell_type": "code",
   "execution_count": 11,
   "id": "d4acb0a5-70cd-499e-90ad-a83cfa76494a",
   "metadata": {},
   "outputs": [],
   "source": [
    "plt.figure(1)\n",
    "plt.plot(x, y1, label='sin(x)', color='blue')\n",
    "plt.title('Sine Wave')\n",
    "plt.xlabel('X-axis')\n",
    "plt.ylabel('Y-axis')\n",
    "plt.grid(True)\n",
    "plt.legend(loc='upper right')\n",
    "plt.savefig('plot1_sine_wave.png')\n",
    "plt.close()"
   ]
  },
  {
   "cell_type": "code",
   "execution_count": 12,
   "id": "f464da12-5f6e-4dd9-a352-03d738c94759",
   "metadata": {},
   "outputs": [],
   "source": [
    "# Second plot - Cosine curve"
   ]
  },
  {
   "cell_type": "code",
   "execution_count": 13,
   "id": "b9a2ea9e-1f83-4173-8987-e7cc3913fbc7",
   "metadata": {},
   "outputs": [],
   "source": [
    "plt.figure(2)\n",
    "plt.plot(x, y2, label='cos(x)', color='green')\n",
    "plt.title('Cosine Wave')\n",
    "plt.xlabel('X-axis')\n",
    "plt.ylabel('Y-axis')\n",
    "plt.grid(True)\n",
    "plt.legend(loc='upper right')\n",
    "plt.savefig('plot2_cosine_wave.png')\n",
    "plt.close()"
   ]
  },
  {
   "cell_type": "code",
   "execution_count": 14,
   "id": "e99968a3-9f5f-4d55-95f5-36c5bbfef047",
   "metadata": {},
   "outputs": [],
   "source": [
    "# Third plot - Tangent curve with limits"
   ]
  },
  {
   "cell_type": "code",
   "execution_count": 15,
   "id": "e268d102-9d96-4e57-82b0-cbcdc35b1762",
   "metadata": {},
   "outputs": [],
   "source": [
    "plt.figure(3)\n",
    "plt.plot(x, y3, label='tan(x)', color='red')\n",
    "plt.ylim(-10, 10)  # limit y-axis to avoid infinite values at pi/2\n",
    "plt.title('Tangent Wave')\n",
    "plt.xlabel('X-axis')\n",
    "plt.ylabel('Y-axis')\n",
    "plt.grid(True)\n",
    "plt.legend(loc='upper right')\n",
    "plt.savefig('plot3_tangent_wave.png')\n",
    "plt.close()"
   ]
  },
  {
   "cell_type": "code",
   "execution_count": 16,
   "id": "770f2bf3-88b2-426d-a744-9d94be376e71",
   "metadata": {},
   "outputs": [],
   "source": [
    "# Fourth plot - Subplots of sine and cosine"
   ]
  },
  {
   "cell_type": "code",
   "execution_count": 19,
   "id": "731f8a73-c4fd-4cc6-95d4-d733079139be",
   "metadata": {},
   "outputs": [],
   "source": [
    "fig, axs = plt.subplots(2)\n",
    "axs[0].plot(x, y1, label='sin(x)', color='blue')\n",
    "axs[0].set_title('Sine Wave')\n",
    "axs[0].set_xlabel('X-axis')\n",
    "axs[0].set_ylabel('Y-axis')\n",
    "axs[0].grid(True)\n",
    "axs[0].legend(loc='upper right')\n",
    "\n",
    "axs[1].plot(x, y2, label='cos(x)', color='green')\n",
    "axs[1].set_title('Cosine Wave')\n",
    "axs[1].set_xlabel('X-axis')\n",
    "axs[1].set_ylabel('Y-axis')\n",
    "axs[1].grid(True)\n",
    "axs[1].legend(loc='upper right')\n",
    "\n",
    "plt.tight_layout()\n",
    "plt.savefig('plot4_subplots_sine_cosine.png')\n",
    "plt.close()\n"
   ]
  },
  {
   "cell_type": "code",
   "execution_count": 20,
   "id": "046f73c5-c0d7-43c0-bce1-303889d65538",
   "metadata": {},
   "outputs": [],
   "source": [
    "# Fifth plot - Scatter plot"
   ]
  },
  {
   "cell_type": "code",
   "execution_count": 21,
   "id": "21ef2d36-f693-4623-9231-a7c3e748f570",
   "metadata": {},
   "outputs": [],
   "source": [
    "plt.figure(5)\n",
    "y5 = np.random.rand(100)\n",
    "plt.scatter(x, y5, color='purple', label='Random Data')\n",
    "plt.title('Scatter Plot')\n",
    "plt.xlabel('X-axis')\n",
    "plt.ylabel('Y-axis')\n",
    "plt.grid(True)\n",
    "plt.legend(loc='upper right')\n",
    "plt.savefig('plot5_scatter_plot.png')\n",
    "plt.close()"
   ]
  },
  {
   "cell_type": "code",
   "execution_count": 22,
   "id": "b7a85732-b737-4eec-89d8-03053d0836b8",
   "metadata": {},
   "outputs": [],
   "source": [
    "# Sixth plot - Histogram"
   ]
  },
  {
   "cell_type": "code",
   "execution_count": 23,
   "id": "6124124d-a866-4d20-a933-edee4e2001c3",
   "metadata": {},
   "outputs": [],
   "source": [
    "plt.figure(6)\n",
    "data = np.random.randn(1000)\n",
    "plt.hist(data, bins=30, color='orange', edgecolor='black')\n",
    "plt.title('Histogram')\n",
    "plt.xlabel('Value')\n",
    "plt.ylabel('Frequency')\n",
    "plt.grid(True)\n",
    "plt.savefig('plot6_histogram.png')\n",
    "plt.close()"
   ]
  },
  {
   "cell_type": "code",
   "execution_count": 24,
   "id": "44111cc5-3cdc-4fb3-b779-5889b9c381ca",
   "metadata": {},
   "outputs": [],
   "source": [
    "# Seventh plot - Pie chart"
   ]
  },
  {
   "cell_type": "code",
   "execution_count": 25,
   "id": "aa0e3b1d-d0b5-4974-8da2-48fc8870163b",
   "metadata": {},
   "outputs": [],
   "source": [
    "plt.figure(7)\n",
    "labels = ['A', 'B', 'C', 'D']\n",
    "sizes = [15, 30, 45, 10]\n",
    "plt.pie(sizes, labels=labels, autopct='%1.1f%%', colors=['red', 'blue', 'green', 'yellow'])\n",
    "plt.title('Pie Chart')\n",
    "plt.savefig('plot7_pie_chart.png')\n",
    "plt.close()"
   ]
  },
  {
   "cell_type": "code",
   "execution_count": 26,
   "id": "65cbd953-9583-41a4-922e-e581da4b3223",
   "metadata": {},
   "outputs": [],
   "source": [
    "# Eighth plot - Bar chart"
   ]
  },
  {
   "cell_type": "code",
   "execution_count": 27,
   "id": "014d70c9-57e9-4066-b742-308f7eca3390",
   "metadata": {},
   "outputs": [],
   "source": [
    "plt.figure(8)\n",
    "categories = ['Category 1', 'Category 2', 'Category 3']\n",
    "values = [20, 35, 30]\n",
    "plt.bar(categories, values, color=['purple', 'blue', 'green'])\n",
    "plt.title('Bar Chart')\n",
    "plt.xlabel('Categories')\n",
    "plt.ylabel('Values')\n",
    "plt.grid(True)\n",
    "plt.savefig('plot8_bar_chart.png')\n",
    "plt.close()"
   ]
  },
  {
   "cell_type": "code",
   "execution_count": 28,
   "id": "fdd963f2-0a4d-4627-8a97-abf6b833df3a",
   "metadata": {},
   "outputs": [
    {
     "name": "stdout",
     "output_type": "stream",
     "text": [
      "Plots have been saved successfully!\n"
     ]
    }
   ],
   "source": [
    "print(\"Plots have been saved successfully!\")"
   ]
  },
  {
   "cell_type": "code",
   "execution_count": null,
   "id": "ce937a1b-aa9f-4a46-be59-33a8390b0bba",
   "metadata": {},
   "outputs": [],
   "source": []
  }
 ],
 "metadata": {
  "kernelspec": {
   "display_name": "Python 3 (ipykernel)",
   "language": "python",
   "name": "python3"
  },
  "language_info": {
   "codemirror_mode": {
    "name": "ipython",
    "version": 3
   },
   "file_extension": ".py",
   "mimetype": "text/x-python",
   "name": "python",
   "nbconvert_exporter": "python",
   "pygments_lexer": "ipython3",
   "version": "3.12.4"
  }
 },
 "nbformat": 4,
 "nbformat_minor": 5
}
