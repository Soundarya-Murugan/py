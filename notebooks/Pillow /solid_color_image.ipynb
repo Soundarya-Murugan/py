{
 "cells": [
  {
   "cell_type": "code",
   "execution_count": 2,
   "id": "e012e3c1-9fcf-45f3-992a-8440f9afe8a3",
   "metadata": {},
   "outputs": [],
   "source": [
    "# Generate a Solid Color Image"
   ]
  },
  {
   "cell_type": "code",
   "execution_count": 3,
   "id": "fd973310-1073-47cb-a9e4-d8c812741d48",
   "metadata": {},
   "outputs": [],
   "source": [
    "from PIL import Image"
   ]
  },
  {
   "cell_type": "code",
   "execution_count": 4,
   "id": "ccf2bc9f-b53d-4901-b4f4-80a640c35e05",
   "metadata": {},
   "outputs": [],
   "source": [
    "# Create a new image with solid color"
   ]
  },
  {
   "cell_type": "code",
   "execution_count": 5,
   "id": "97482647-d380-4a1f-aa26-9729c677bd31",
   "metadata": {},
   "outputs": [],
   "source": [
    "img = Image.new('RGB', (300, 200), color=(255, 0, 0))"
   ]
  },
  {
   "cell_type": "code",
   "execution_count": 6,
   "id": "39a5638d-7482-4dae-9193-2d7c002ea43d",
   "metadata": {},
   "outputs": [],
   "source": [
    " # Red color"
   ]
  },
  {
   "cell_type": "code",
   "execution_count": 7,
   "id": "c9d39b6e-d505-440f-94fb-4d0d19543c75",
   "metadata": {},
   "outputs": [],
   "source": [
    "img.save('solid_color_image.png')"
   ]
  },
  {
   "cell_type": "code",
   "execution_count": null,
   "id": "a836266b-d22b-445f-a296-821ac7edd0cb",
   "metadata": {},
   "outputs": [],
   "source": []
  }
 ],
 "metadata": {
  "kernelspec": {
   "display_name": "Python 3 (ipykernel)",
   "language": "python",
   "name": "python3"
  },
  "language_info": {
   "codemirror_mode": {
    "name": "ipython",
    "version": 3
   },
   "file_extension": ".py",
   "mimetype": "text/x-python",
   "name": "python",
   "nbconvert_exporter": "python",
   "pygments_lexer": "ipython3",
   "version": "3.12.4"
  }
 },
 "nbformat": 4,
 "nbformat_minor": 5
}
