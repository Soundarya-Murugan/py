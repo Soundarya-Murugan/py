{
 "cells": [
  {
   "cell_type": "code",
   "execution_count": null,
   "id": "40bb6884-4647-460b-87cf-f712941e593a",
   "metadata": {},
   "outputs": [],
   "source": [
    "#Histogram with Normal Distribution Fit"
   ]
  },
  {
   "cell_type": "code",
   "execution_count": null,
   "id": "9c052d31-ccd8-484c-9db5-895e83a6255b",
   "metadata": {},
   "outputs": [],
   "source": [
    "import matplotlib.pyplot as plt"
   ]
  },
  {
   "cell_type": "code",
   "execution_count": null,
   "id": "2a30a2d1-2c2b-4f11-99a5-20d77e8a3539",
   "metadata": {},
   "outputs": [],
   "source": [
    "import numpy as np"
   ]
  },
  {
   "cell_type": "code",
   "execution_count": null,
   "id": "f6c1a4b2-8000-4ef7-893b-8911dfe96d2e",
   "metadata": {},
   "outputs": [],
   "source": [
    "from scipy.stats import norm"
   ]
  },
  {
   "cell_type": "code",
   "execution_count": null,
   "id": "012f7590-0c25-482d-9865-4013583903dc",
   "metadata": {},
   "outputs": [],
   "source": [
    "# Data"
   ]
  },
  {
   "cell_type": "code",
   "execution_count": null,
   "id": "7f04b242-6af3-4193-9420-322660a69450",
   "metadata": {},
   "outputs": [],
   "source": [
    "data = np.random.normal(0, 1, 1000)"
   ]
  },
  {
   "cell_type": "code",
   "execution_count": null,
   "id": "506e50e6-c03e-4859-98bb-5c6904a475d9",
   "metadata": {},
   "outputs": [],
   "source": [
    "# Plotting"
   ]
  },
  {
   "cell_type": "code",
   "execution_count": null,
   "id": "c10a728f-843b-469d-b4ab-de29d69bd70f",
   "metadata": {},
   "outputs": [],
   "source": [
    "plt.figure(figsize=(10, 6))"
   ]
  },
  {
   "cell_type": "code",
   "execution_count": null,
   "id": "aafdfd1b-892d-4270-bbe1-87245dde65a9",
   "metadata": {},
   "outputs": [],
   "source": [
    "plt.hist(data, bins=30, density=True, alpha=0.6, color='g')"
   ]
  },
  {
   "cell_type": "code",
   "execution_count": null,
   "id": "b65db985-161f-4c80-8582-5eaf53a341d0",
   "metadata": {},
   "outputs": [],
   "source": [
    "# Fit normal distribution"
   ]
  },
  {
   "cell_type": "code",
   "execution_count": null,
   "id": "13e6827a-18c8-4a0b-9747-42cad8cb93f5",
   "metadata": {},
   "outputs": [],
   "source": [
    "mu, std = norm.fit(data)"
   ]
  },
  {
   "cell_type": "code",
   "execution_count": null,
   "id": "115e1427-1c42-4d6a-83d5-875018150a50",
   "metadata": {},
   "outputs": [],
   "source": [
    "xmin, xmax = plt.xlim()"
   ]
  },
  {
   "cell_type": "code",
   "execution_count": null,
   "id": "2d40ee9a-0cc3-4d6b-bc23-301d99e659a2",
   "metadata": {},
   "outputs": [],
   "source": [
    "x = np.linspace(xmin, xmax, 100)"
   ]
  },
  {
   "cell_type": "code",
   "execution_count": null,
   "id": "29d8692c-852b-4a32-beee-8f0edf4eafc1",
   "metadata": {},
   "outputs": [],
   "source": [
    "p = norm.pdf(x, mu, std)"
   ]
  },
  {
   "cell_type": "code",
   "execution_count": null,
   "id": "b22c8868-d8f7-4eee-90f1-55c573e2733c",
   "metadata": {},
   "outputs": [],
   "source": [
    "plt.plot(x, p, 'k', linewidth=2)"
   ]
  },
  {
   "cell_type": "code",
   "execution_count": null,
   "id": "dc25206a-4e7f-4cc8-ba49-a5d574c1e6f5",
   "metadata": {},
   "outputs": [],
   "source": [
    "# Customizing"
   ]
  },
  {
   "cell_type": "code",
   "execution_count": null,
   "id": "6925881d-1261-4130-8b3e-be9c6ddde6e6",
   "metadata": {},
   "outputs": [],
   "source": [
    "plt.title(f\"Histogram with Normal Distribution Fit\\nμ={mu:.2f}, σ={std:.2f}\")\n",
    "plt.xlabel(\"Value\")\n",
    "plt.ylabel(\"Frequency\")\n",
    "plt.show()"
   ]
  },
  {
   "cell_type": "code",
   "execution_count": null,
   "id": "b002b194-8ed3-4008-b0df-7d88d86b40d4",
   "metadata": {},
   "outputs": [],
   "source": []
  },
  {
   "cell_type": "code",
   "execution_count": null,
   "id": "437155e6-5f2d-4024-a6ae-3b0e8216c81d",
   "metadata": {},
   "outputs": [],
   "source": []
  },
  {
   "cell_type": "code",
   "execution_count": null,
   "id": "d5003ad5-845a-4307-922b-18312b473187",
   "metadata": {},
   "outputs": [],
   "source": []
  },
  {
   "cell_type": "code",
   "execution_count": null,
   "id": "af786fa3-f720-49f1-ba15-dc89d0d19c46",
   "metadata": {},
   "outputs": [],
   "source": []
  }
 ],
 "metadata": {
  "kernelspec": {
   "display_name": "Python 3 (ipykernel)",
   "language": "python",
   "name": "python3"
  },
  "language_info": {
   "codemirror_mode": {
    "name": "ipython",
    "version": 3
   },
   "file_extension": ".py",
   "mimetype": "text/x-python",
   "name": "python",
   "nbconvert_exporter": "python",
   "pygments_lexer": "ipython3",
   "version": "3.12.4"
  }
 },
 "nbformat": 4,
 "nbformat_minor": 5
}
