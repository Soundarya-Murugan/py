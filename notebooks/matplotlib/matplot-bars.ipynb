{
 "cells": [
  {
   "cell_type": "code",
   "execution_count": 1,
   "id": "751fdd5d-9aec-4f0d-a744-ccf5a3056b2c",
   "metadata": {},
   "outputs": [],
   "source": [
    "#Bar Color matplotlib bars"
   ]
  },
  {
   "cell_type": "code",
   "execution_count": 2,
   "id": "2637a267-33ec-404a-8426-670948353afd",
   "metadata": {},
   "outputs": [],
   "source": [
    "#The bar() and barh() take the keyword argument color to set the color of the bars:"
   ]
  },
  {
   "cell_type": "code",
   "execution_count": 3,
   "id": "4234f7ef-7f44-4c21-82a2-7ec6f9c494ab",
   "metadata": {},
   "outputs": [],
   "source": [
    "import matplotlib.pyplot as plt"
   ]
  },
  {
   "cell_type": "code",
   "execution_count": 4,
   "id": "9bbbc30b-b242-485f-a6d2-803356e7839a",
   "metadata": {},
   "outputs": [],
   "source": [
    "import numpy as np"
   ]
  },
  {
   "cell_type": "code",
   "execution_count": 5,
   "id": "49402ba5-2e89-41a8-945c-48aa7103436e",
   "metadata": {},
   "outputs": [],
   "source": [
    "x = np.array([\"A\", \"B\", \"C\", \"D\"])"
   ]
  },
  {
   "cell_type": "code",
   "execution_count": 6,
   "id": "a6aa0a82-95ad-4080-ae17-071ebbcb326d",
   "metadata": {},
   "outputs": [],
   "source": [
    "y = np.array([3, 8, 1, 10])"
   ]
  },
  {
   "cell_type": "code",
   "execution_count": 7,
   "id": "391c147f-47a9-48c9-8459-334c3a6634c3",
   "metadata": {},
   "outputs": [
    {
     "data": {
      "text/plain": [
       "<BarContainer object of 4 artists>"
      ]
     },
     "execution_count": 7,
     "metadata": {},
     "output_type": "execute_result"
    },
    {
     "data": {
      "image/png": "[encoded data removed]",
      "text/plain": [
       "<Figure size 640x480 with 1 Axes>"
      ]
     },
     "metadata": {},
     "output_type": "display_data"
    }
   ],
   "source": [
    "plt.bar(x, y, color = \"red\")"
   ]
  },
  {
   "cell_type": "code",
   "execution_count": 8,
   "id": "43a0225b-8c5a-4940-ae00-fdf7c092444f",
   "metadata": {},
   "outputs": [],
   "source": [
    "plt.show()"
   ]
  },
  {
   "cell_type": "code",
   "execution_count": null,
   "id": "d92feaf6-077a-48cc-a2e7-beddba5f4a30",
   "metadata": {},
   "outputs": [],
   "source": []
  }
 ],
 "metadata": {
  "kernelspec": {
   "display_name": "Python 3 (ipykernel)",
   "language": "python",
   "name": "python3"
  },
  "language_info": {
   "codemirror_mode": {
    "name": "ipython",
    "version": 3
   },
   "file_extension": ".py",
   "mimetype": "text/x-python",
   "name": "python",
   "nbconvert_exporter": "python",
   "pygments_lexer": "ipython3",
   "version": "3.12.4"
  }
 },
 "nbformat": 4,
 "nbformat_minor": 5
}
