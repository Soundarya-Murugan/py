{
 "cells": [
  {
   "cell_type": "code",
   "execution_count": 1,
   "id": "df256a33-0b33-4810-9070-7d7b13442d78",
   "metadata": {},
   "outputs": [],
   "source": [
    "#Generate a Random Floating-Point Number Between 0 and 1"
   ]
  },
  {
   "cell_type": "code",
   "execution_count": 2,
   "id": "7f568ea6-241a-4082-b9be-2f55609d6d73",
   "metadata": {},
   "outputs": [],
   "source": [
    "import random"
   ]
  },
  {
   "cell_type": "code",
   "execution_count": 3,
   "id": "987dbd00-abf8-4c55-8beb-f478355011d4",
   "metadata": {},
   "outputs": [],
   "source": [
    "# Random float between 0 and 1"
   ]
  },
  {
   "cell_type": "code",
   "execution_count": 4,
   "id": "4ba4acc1-36f5-4087-9de6-d7f5cd0a5792",
   "metadata": {},
   "outputs": [],
   "source": [
    "random_float = random.random()"
   ]
  },
  {
   "cell_type": "code",
   "execution_count": 5,
   "id": "54df3a7d-d158-4718-beda-9c1142a337a7",
   "metadata": {},
   "outputs": [
    {
     "name": "stdout",
     "output_type": "stream",
     "text": [
      "0.12814004672918555\n"
     ]
    }
   ],
   "source": [
    "print(random_float)"
   ]
  },
  {
   "cell_type": "code",
   "execution_count": null,
   "id": "161bf536-cdfb-4483-b242-f0ee38cc5ff2",
   "metadata": {},
   "outputs": [],
   "source": []
  }
 ],
 "metadata": {
  "kernelspec": {
   "display_name": "Python 3 (ipykernel)",
   "language": "python",
   "name": "python3"
  },
  "language_info": {
   "codemirror_mode": {
    "name": "ipython",
    "version": 3
   },
   "file_extension": ".py",
   "mimetype": "text/x-python",
   "name": "python",
   "nbconvert_exporter": "python",
   "pygments_lexer": "ipython3",
   "version": "3.12.4"
  }
 },
 "nbformat": 4,
 "nbformat_minor": 5
}
