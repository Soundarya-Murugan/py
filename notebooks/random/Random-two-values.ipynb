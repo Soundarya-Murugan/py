{
 "cells": [
  {
   "cell_type": "code",
   "execution_count": 3,
   "id": "8dc743cb-d5a7-45fe-846f-05791717e661",
   "metadata": {},
   "outputs": [],
   "source": [
    "#Generate a Random Integer Between Two Values"
   ]
  },
  {
   "cell_type": "code",
   "execution_count": 5,
   "id": "cb86e106-6b1d-44ea-8a57-17b4ceb7b9aa",
   "metadata": {},
   "outputs": [],
   "source": [
    "import random"
   ]
  },
  {
   "cell_type": "code",
   "execution_count": 6,
   "id": "2496ec61-74ea-433b-9da1-2ddc95812fa7",
   "metadata": {},
   "outputs": [],
   "source": [
    "# Random integer between 1 and 100"
   ]
  },
  {
   "cell_type": "code",
   "execution_count": 7,
   "id": "2719112b-62e0-41e3-9b01-d37df22e9706",
   "metadata": {},
   "outputs": [],
   "source": [
    "random_integer = random.randint(1, 100)"
   ]
  },
  {
   "cell_type": "code",
   "execution_count": 8,
   "id": "1a62101b-5034-4ad4-9b83-e6e1ebf9cd9b",
   "metadata": {},
   "outputs": [
    {
     "name": "stdout",
     "output_type": "stream",
     "text": [
      "35\n"
     ]
    }
   ],
   "source": [
    "print(random_integer)"
   ]
  },
  {
   "cell_type": "code",
   "execution_count": null,
   "id": "0b4fb309-52fd-48ae-abb7-f1ee2bf48850",
   "metadata": {},
   "outputs": [],
   "source": []
  }
 ],
 "metadata": {
  "kernelspec": {
   "display_name": "Python 3 (ipykernel)",
   "language": "python",
   "name": "python3"
  },
  "language_info": {
   "codemirror_mode": {
    "name": "ipython",
    "version": 3
   },
   "file_extension": ".py",
   "mimetype": "text/x-python",
   "name": "python",
   "nbconvert_exporter": "python",
   "pygments_lexer": "ipython3",
   "version": "3.12.4"
  }
 },
 "nbformat": 4,
 "nbformat_minor": 5
}
