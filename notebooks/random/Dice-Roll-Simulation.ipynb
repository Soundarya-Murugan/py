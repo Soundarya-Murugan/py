{
 "cells": [
  {
   "cell_type": "code",
   "execution_count": 1,
   "id": "9f8058bd-6edd-43b6-8d23-78fb1bef435e",
   "metadata": {},
   "outputs": [],
   "source": [
    "#Dice Roll Simulation"
   ]
  },
  {
   "cell_type": "code",
   "execution_count": 2,
   "id": "d7a5d472-939a-4be1-aabc-66e2fffdc97f",
   "metadata": {},
   "outputs": [],
   "source": [
    "import random"
   ]
  },
  {
   "cell_type": "code",
   "execution_count": 3,
   "id": "742fce7c-ad2d-4413-a5b2-ee6c3760ceb8",
   "metadata": {},
   "outputs": [],
   "source": [
    "def roll_dice():\n",
    "    return random.randint(1, 6)"
   ]
  },
  {
   "cell_type": "code",
   "execution_count": 4,
   "id": "35823cc3-8f52-420f-be2d-739fc4025b01",
   "metadata": {},
   "outputs": [],
   "source": [
    "def simulate_dice_rolls(rolls=100):\n",
    "    results = {i: 0 for i in range(1, 7)}\n",
    "    for _ in range(rolls):\n",
    "        roll = roll_dice()\n",
    "        results[roll] += 1\n",
    "    return results"
   ]
  },
  {
   "cell_type": "code",
   "execution_count": 5,
   "id": "2e4eef2d-2078-4407-be3e-79ec8e8c05fd",
   "metadata": {},
   "outputs": [],
   "source": [
    "rolls = 1000"
   ]
  },
  {
   "cell_type": "code",
   "execution_count": 6,
   "id": "b6afefb8-a79c-4db8-8b91-bda67bbeb331",
   "metadata": {},
   "outputs": [],
   "source": [
    "results = simulate_dice_rolls(rolls)"
   ]
  },
  {
   "cell_type": "code",
   "execution_count": 7,
   "id": "a97e4a93-e02b-47b6-b49a-b4e2687af6a9",
   "metadata": {},
   "outputs": [
    {
     "name": "stdout",
     "output_type": "stream",
     "text": [
      "Dice Roll Simulation Results (Total Rolls: 1000)\n"
     ]
    }
   ],
   "source": [
    "print(f\"Dice Roll Simulation Results (Total Rolls: {rolls})\")"
   ]
  },
  {
   "cell_type": "code",
   "execution_count": 8,
   "id": "7eadd66c-e8c7-4f4f-b130-fefd3cda3879",
   "metadata": {},
   "outputs": [
    {
     "name": "stdout",
     "output_type": "stream",
     "text": [
      "1: 153\n",
      "2: 178\n",
      "3: 159\n",
      "4: 191\n",
      "5: 171\n",
      "6: 148\n"
     ]
    }
   ],
   "source": [
    "for num, count in results.items():\n",
    "    print(f\"{num}: {count}\")\n"
   ]
  },
  {
   "cell_type": "code",
   "execution_count": null,
   "id": "3102af0b-3796-44f2-8701-da0ba9a29f1b",
   "metadata": {},
   "outputs": [],
   "source": []
  }
 ],
 "metadata": {
  "kernelspec": {
   "display_name": "Python 3 (ipykernel)",
   "language": "python",
   "name": "python3"
  },
  "language_info": {
   "codemirror_mode": {
    "name": "ipython",
    "version": 3
   },
   "file_extension": ".py",
   "mimetype": "text/x-python",
   "name": "python",
   "nbconvert_exporter": "python",
   "pygments_lexer": "ipython3",
   "version": "3.12.4"
  }
 },
 "nbformat": 4,
 "nbformat_minor": 5
}
