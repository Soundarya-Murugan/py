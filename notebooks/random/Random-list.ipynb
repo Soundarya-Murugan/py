{
 "cells": [
  {
   "cell_type": "code",
   "execution_count": 2,
   "id": "c8b06183-859a-45a6-ab97-acd6a4e4b6ab",
   "metadata": {},
   "outputs": [],
   "source": [
    "#Pick a Random Element from a List"
   ]
  },
  {
   "cell_type": "code",
   "execution_count": 3,
   "id": "49c27b57-e72f-470a-9c8c-2e0d9e6aec3f",
   "metadata": {},
   "outputs": [],
   "source": [
    "import random"
   ]
  },
  {
   "cell_type": "code",
   "execution_count": 4,
   "id": "4edd18c0-e18c-4fd2-997c-22db1470e2c1",
   "metadata": {},
   "outputs": [],
   "source": [
    "# List of items"
   ]
  },
  {
   "cell_type": "code",
   "execution_count": 5,
   "id": "d6257d60-acac-47b7-a7c3-bd164b7f40d2",
   "metadata": {},
   "outputs": [],
   "source": [
    "items = ['apple', 'banana', 'cherry', 'date']"
   ]
  },
  {
   "cell_type": "code",
   "execution_count": 6,
   "id": "4c37c643-7b30-4590-ac0f-bbdd77e40090",
   "metadata": {},
   "outputs": [],
   "source": [
    "random_item = random.choice(items)"
   ]
  },
  {
   "cell_type": "code",
   "execution_count": 7,
   "id": "f9bd4486-171b-4856-8ccd-a1ae63c71d30",
   "metadata": {},
   "outputs": [
    {
     "name": "stdout",
     "output_type": "stream",
     "text": [
      "date\n"
     ]
    }
   ],
   "source": [
    "print(random_item)"
   ]
  },
  {
   "cell_type": "code",
   "execution_count": null,
   "id": "9fdb382f-0c93-4a01-bf62-46d23a02efdf",
   "metadata": {},
   "outputs": [],
   "source": []
  }
 ],
 "metadata": {
  "kernelspec": {
   "display_name": "Python 3 (ipykernel)",
   "language": "python",
   "name": "python3"
  },
  "language_info": {
   "codemirror_mode": {
    "name": "ipython",
    "version": 3
   },
   "file_extension": ".py",
   "mimetype": "text/x-python",
   "name": "python",
   "nbconvert_exporter": "python",
   "pygments_lexer": "ipython3",
   "version": "3.12.4"
  }
 },
 "nbformat": 4,
 "nbformat_minor": 5
}
