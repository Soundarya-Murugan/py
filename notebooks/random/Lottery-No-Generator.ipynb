{
 "cells": [
  {
   "cell_type": "code",
   "execution_count": 2,
   "id": "523675cd-43af-4042-9c51-46cd58902249",
   "metadata": {},
   "outputs": [],
   "source": [
    "#Lottery Number Generator"
   ]
  },
  {
   "cell_type": "code",
   "execution_count": 3,
   "id": "306498f5-d3e9-4804-970c-c396dc42426b",
   "metadata": {},
   "outputs": [],
   "source": [
    "import random"
   ]
  },
  {
   "cell_type": "code",
   "execution_count": 4,
   "id": "88432e5a-033d-4135-a61f-ae75b15e3bba",
   "metadata": {},
   "outputs": [],
   "source": [
    "def generate_lottery_numbers():\n",
    "    main_numbers = random.sample(range(1, 50), 5)\n",
    "    powerball = random.randint(1, 20)\n",
    "    return main_numbers, powerball"
   ]
  },
  {
   "cell_type": "code",
   "execution_count": 5,
   "id": "181e207d-98da-437c-9fe0-058ed6821ede",
   "metadata": {},
   "outputs": [
    {
     "name": "stdout",
     "output_type": "stream",
     "text": [
      "Lottery Numbers:\n",
      "Main Numbers: [7, 48, 33, 18, 1], Powerball: 2\n",
      "Main Numbers: [13, 43, 5, 26, 17], Powerball: 14\n",
      "Main Numbers: [41, 26, 32, 21, 46], Powerball: 10\n"
     ]
    }
   ],
   "source": [
    "print(\"Lottery Numbers:\")\n",
    "for i in range(3):\n",
    "    main, powerball = generate_lottery_numbers()\n",
    "    print(f\"Main Numbers: {main}, Powerball: {powerball}\")\n"
   ]
  },
  {
   "cell_type": "code",
   "execution_count": null,
   "id": "45ab8667-623d-445f-b487-d6e878c60fba",
   "metadata": {},
   "outputs": [],
   "source": []
  }
 ],
 "metadata": {
  "kernelspec": {
   "display_name": "Python 3 (ipykernel)",
   "language": "python",
   "name": "python3"
  },
  "language_info": {
   "codemirror_mode": {
    "name": "ipython",
    "version": 3
   },
   "file_extension": ".py",
   "mimetype": "text/x-python",
   "name": "python",
   "nbconvert_exporter": "python",
   "pygments_lexer": "ipython3",
   "version": "3.12.4"
  }
 },
 "nbformat": 4,
 "nbformat_minor": 5
}
