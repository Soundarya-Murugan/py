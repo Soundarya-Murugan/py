{
 "cells": [
  {
   "cell_type": "code",
   "execution_count": 1,
   "id": "d0bc8465-c2da-49fc-a477-803ebd92840f",
   "metadata": {},
   "outputs": [],
   "source": [
    "#Shuffle a List"
   ]
  },
  {
   "cell_type": "code",
   "execution_count": 2,
   "id": "c79f93b0-4228-493d-84c6-e96d806db235",
   "metadata": {},
   "outputs": [],
   "source": [
    "import random"
   ]
  },
  {
   "cell_type": "code",
   "execution_count": 3,
   "id": "cf5df57f-be8e-420c-ae89-19094fdf8775",
   "metadata": {},
   "outputs": [],
   "source": [
    "# List of items"
   ]
  },
  {
   "cell_type": "code",
   "execution_count": 4,
   "id": "ac67d021-5dce-469e-81df-2bb2aedbd505",
   "metadata": {},
   "outputs": [],
   "source": [
    "items = [1, 2, 3, 4, 5]"
   ]
  },
  {
   "cell_type": "code",
   "execution_count": 5,
   "id": "9a2443eb-d67c-43a3-b97b-d27bdc1c32c8",
   "metadata": {},
   "outputs": [],
   "source": [
    "random.shuffle(items)"
   ]
  },
  {
   "cell_type": "code",
   "execution_count": 6,
   "id": "19b9c26f-e991-4056-8e24-aabc1d2ba5ae",
   "metadata": {},
   "outputs": [
    {
     "name": "stdout",
     "output_type": "stream",
     "text": [
      "[4, 2, 5, 3, 1]\n"
     ]
    }
   ],
   "source": [
    "print(items)"
   ]
  },
  {
   "cell_type": "code",
   "execution_count": null,
   "id": "0d0185a4-9b79-4a6f-8152-17427c292163",
   "metadata": {},
   "outputs": [],
   "source": []
  }
 ],
 "metadata": {
  "kernelspec": {
   "display_name": "Python 3 (ipykernel)",
   "language": "python",
   "name": "python3"
  },
  "language_info": {
   "codemirror_mode": {
    "name": "ipython",
    "version": 3
   },
   "file_extension": ".py",
   "mimetype": "text/x-python",
   "name": "python",
   "nbconvert_exporter": "python",
   "pygments_lexer": "ipython3",
   "version": "3.12.4"
  }
 },
 "nbformat": 4,
 "nbformat_minor": 5
}
